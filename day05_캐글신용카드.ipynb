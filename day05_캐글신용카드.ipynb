{
 "cells": [
  {
   "cell_type": "markdown",
   "id": "7315cab8-9a26-48cd-9802-edf5afc4a03a",
   "metadata": {},
   "source": [
    "## p262 신용카드 사기 검출"
   ]
  },
  {
   "cell_type": "code",
   "execution_count": 2,
   "id": "fbe33e7e-b9b2-41f4-b401-abecd38660ec",
   "metadata": {},
   "outputs": [],
   "source": [
    "# conda install -c forge imbalanced 뭐 설치"
   ]
  },
  {
   "cell_type": "code",
   "execution_count": 3,
   "id": "57b9aa7a-085b-4722-8662-ff0fa920ba41",
   "metadata": {},
   "outputs": [],
   "source": [
    "# 깃허브는 100메가 넘는거 못올려서 나중에 업로드할 때 빼고 올려야 함"
   ]
  },
  {
   "cell_type": "code",
   "execution_count": 4,
   "id": "57c64ab8-5aeb-40e5-91f7-50d6f324ad76",
   "metadata": {},
   "outputs": [],
   "source": [
    "import pandas as pd\n",
    "import numpy as np\n",
    "import matplotlib.pyplot as plt\n",
    "import warnings\n",
    "warnings.filterwarnings('ignore')"
   ]
  },
  {
   "cell_type": "code",
   "execution_count": 6,
   "id": "0d83d042-77d2-4332-9fdc-19653f802c9d",
   "metadata": {},
   "outputs": [
    {
     "data": {
      "text/html": [
       "<div>\n",
       "<style scoped>\n",
       "    .dataframe tbody tr th:only-of-type {\n",
       "        vertical-align: middle;\n",
       "    }\n",
       "\n",
       "    .dataframe tbody tr th {\n",
       "        vertical-align: top;\n",
       "    }\n",
       "\n",
       "    .dataframe thead th {\n",
       "        text-align: right;\n",
       "    }\n",
       "</style>\n",
       "<table border=\"1\" class=\"dataframe\">\n",
       "  <thead>\n",
       "    <tr style=\"text-align: right;\">\n",
       "      <th></th>\n",
       "      <th>Time</th>\n",
       "      <th>V1</th>\n",
       "      <th>V2</th>\n",
       "      <th>V3</th>\n",
       "      <th>V4</th>\n",
       "      <th>V5</th>\n",
       "      <th>V6</th>\n",
       "      <th>V7</th>\n",
       "      <th>V8</th>\n",
       "      <th>V9</th>\n",
       "      <th>...</th>\n",
       "      <th>V21</th>\n",
       "      <th>V22</th>\n",
       "      <th>V23</th>\n",
       "      <th>V24</th>\n",
       "      <th>V25</th>\n",
       "      <th>V26</th>\n",
       "      <th>V27</th>\n",
       "      <th>V28</th>\n",
       "      <th>Amount</th>\n",
       "      <th>Class</th>\n",
       "    </tr>\n",
       "  </thead>\n",
       "  <tbody>\n",
       "    <tr>\n",
       "      <th>0</th>\n",
       "      <td>0.0</td>\n",
       "      <td>-1.359807</td>\n",
       "      <td>-0.072781</td>\n",
       "      <td>2.536347</td>\n",
       "      <td>1.378155</td>\n",
       "      <td>-0.338321</td>\n",
       "      <td>0.462388</td>\n",
       "      <td>0.239599</td>\n",
       "      <td>0.098698</td>\n",
       "      <td>0.363787</td>\n",
       "      <td>...</td>\n",
       "      <td>-0.018307</td>\n",
       "      <td>0.277838</td>\n",
       "      <td>-0.110474</td>\n",
       "      <td>0.066928</td>\n",
       "      <td>0.128539</td>\n",
       "      <td>-0.189115</td>\n",
       "      <td>0.133558</td>\n",
       "      <td>-0.021053</td>\n",
       "      <td>149.62</td>\n",
       "      <td>0</td>\n",
       "    </tr>\n",
       "    <tr>\n",
       "      <th>1</th>\n",
       "      <td>0.0</td>\n",
       "      <td>1.191857</td>\n",
       "      <td>0.266151</td>\n",
       "      <td>0.166480</td>\n",
       "      <td>0.448154</td>\n",
       "      <td>0.060018</td>\n",
       "      <td>-0.082361</td>\n",
       "      <td>-0.078803</td>\n",
       "      <td>0.085102</td>\n",
       "      <td>-0.255425</td>\n",
       "      <td>...</td>\n",
       "      <td>-0.225775</td>\n",
       "      <td>-0.638672</td>\n",
       "      <td>0.101288</td>\n",
       "      <td>-0.339846</td>\n",
       "      <td>0.167170</td>\n",
       "      <td>0.125895</td>\n",
       "      <td>-0.008983</td>\n",
       "      <td>0.014724</td>\n",
       "      <td>2.69</td>\n",
       "      <td>0</td>\n",
       "    </tr>\n",
       "    <tr>\n",
       "      <th>2</th>\n",
       "      <td>1.0</td>\n",
       "      <td>-1.358354</td>\n",
       "      <td>-1.340163</td>\n",
       "      <td>1.773209</td>\n",
       "      <td>0.379780</td>\n",
       "      <td>-0.503198</td>\n",
       "      <td>1.800499</td>\n",
       "      <td>0.791461</td>\n",
       "      <td>0.247676</td>\n",
       "      <td>-1.514654</td>\n",
       "      <td>...</td>\n",
       "      <td>0.247998</td>\n",
       "      <td>0.771679</td>\n",
       "      <td>0.909412</td>\n",
       "      <td>-0.689281</td>\n",
       "      <td>-0.327642</td>\n",
       "      <td>-0.139097</td>\n",
       "      <td>-0.055353</td>\n",
       "      <td>-0.059752</td>\n",
       "      <td>378.66</td>\n",
       "      <td>0</td>\n",
       "    </tr>\n",
       "    <tr>\n",
       "      <th>3</th>\n",
       "      <td>1.0</td>\n",
       "      <td>-0.966272</td>\n",
       "      <td>-0.185226</td>\n",
       "      <td>1.792993</td>\n",
       "      <td>-0.863291</td>\n",
       "      <td>-0.010309</td>\n",
       "      <td>1.247203</td>\n",
       "      <td>0.237609</td>\n",
       "      <td>0.377436</td>\n",
       "      <td>-1.387024</td>\n",
       "      <td>...</td>\n",
       "      <td>-0.108300</td>\n",
       "      <td>0.005274</td>\n",
       "      <td>-0.190321</td>\n",
       "      <td>-1.175575</td>\n",
       "      <td>0.647376</td>\n",
       "      <td>-0.221929</td>\n",
       "      <td>0.062723</td>\n",
       "      <td>0.061458</td>\n",
       "      <td>123.50</td>\n",
       "      <td>0</td>\n",
       "    </tr>\n",
       "    <tr>\n",
       "      <th>4</th>\n",
       "      <td>2.0</td>\n",
       "      <td>-1.158233</td>\n",
       "      <td>0.877737</td>\n",
       "      <td>1.548718</td>\n",
       "      <td>0.403034</td>\n",
       "      <td>-0.407193</td>\n",
       "      <td>0.095921</td>\n",
       "      <td>0.592941</td>\n",
       "      <td>-0.270533</td>\n",
       "      <td>0.817739</td>\n",
       "      <td>...</td>\n",
       "      <td>-0.009431</td>\n",
       "      <td>0.798278</td>\n",
       "      <td>-0.137458</td>\n",
       "      <td>0.141267</td>\n",
       "      <td>-0.206010</td>\n",
       "      <td>0.502292</td>\n",
       "      <td>0.219422</td>\n",
       "      <td>0.215153</td>\n",
       "      <td>69.99</td>\n",
       "      <td>0</td>\n",
       "    </tr>\n",
       "    <tr>\n",
       "      <th>...</th>\n",
       "      <td>...</td>\n",
       "      <td>...</td>\n",
       "      <td>...</td>\n",
       "      <td>...</td>\n",
       "      <td>...</td>\n",
       "      <td>...</td>\n",
       "      <td>...</td>\n",
       "      <td>...</td>\n",
       "      <td>...</td>\n",
       "      <td>...</td>\n",
       "      <td>...</td>\n",
       "      <td>...</td>\n",
       "      <td>...</td>\n",
       "      <td>...</td>\n",
       "      <td>...</td>\n",
       "      <td>...</td>\n",
       "      <td>...</td>\n",
       "      <td>...</td>\n",
       "      <td>...</td>\n",
       "      <td>...</td>\n",
       "      <td>...</td>\n",
       "    </tr>\n",
       "    <tr>\n",
       "      <th>284802</th>\n",
       "      <td>172786.0</td>\n",
       "      <td>-11.881118</td>\n",
       "      <td>10.071785</td>\n",
       "      <td>-9.834783</td>\n",
       "      <td>-2.066656</td>\n",
       "      <td>-5.364473</td>\n",
       "      <td>-2.606837</td>\n",
       "      <td>-4.918215</td>\n",
       "      <td>7.305334</td>\n",
       "      <td>1.914428</td>\n",
       "      <td>...</td>\n",
       "      <td>0.213454</td>\n",
       "      <td>0.111864</td>\n",
       "      <td>1.014480</td>\n",
       "      <td>-0.509348</td>\n",
       "      <td>1.436807</td>\n",
       "      <td>0.250034</td>\n",
       "      <td>0.943651</td>\n",
       "      <td>0.823731</td>\n",
       "      <td>0.77</td>\n",
       "      <td>0</td>\n",
       "    </tr>\n",
       "    <tr>\n",
       "      <th>284803</th>\n",
       "      <td>172787.0</td>\n",
       "      <td>-0.732789</td>\n",
       "      <td>-0.055080</td>\n",
       "      <td>2.035030</td>\n",
       "      <td>-0.738589</td>\n",
       "      <td>0.868229</td>\n",
       "      <td>1.058415</td>\n",
       "      <td>0.024330</td>\n",
       "      <td>0.294869</td>\n",
       "      <td>0.584800</td>\n",
       "      <td>...</td>\n",
       "      <td>0.214205</td>\n",
       "      <td>0.924384</td>\n",
       "      <td>0.012463</td>\n",
       "      <td>-1.016226</td>\n",
       "      <td>-0.606624</td>\n",
       "      <td>-0.395255</td>\n",
       "      <td>0.068472</td>\n",
       "      <td>-0.053527</td>\n",
       "      <td>24.79</td>\n",
       "      <td>0</td>\n",
       "    </tr>\n",
       "    <tr>\n",
       "      <th>284804</th>\n",
       "      <td>172788.0</td>\n",
       "      <td>1.919565</td>\n",
       "      <td>-0.301254</td>\n",
       "      <td>-3.249640</td>\n",
       "      <td>-0.557828</td>\n",
       "      <td>2.630515</td>\n",
       "      <td>3.031260</td>\n",
       "      <td>-0.296827</td>\n",
       "      <td>0.708417</td>\n",
       "      <td>0.432454</td>\n",
       "      <td>...</td>\n",
       "      <td>0.232045</td>\n",
       "      <td>0.578229</td>\n",
       "      <td>-0.037501</td>\n",
       "      <td>0.640134</td>\n",
       "      <td>0.265745</td>\n",
       "      <td>-0.087371</td>\n",
       "      <td>0.004455</td>\n",
       "      <td>-0.026561</td>\n",
       "      <td>67.88</td>\n",
       "      <td>0</td>\n",
       "    </tr>\n",
       "    <tr>\n",
       "      <th>284805</th>\n",
       "      <td>172788.0</td>\n",
       "      <td>-0.240440</td>\n",
       "      <td>0.530483</td>\n",
       "      <td>0.702510</td>\n",
       "      <td>0.689799</td>\n",
       "      <td>-0.377961</td>\n",
       "      <td>0.623708</td>\n",
       "      <td>-0.686180</td>\n",
       "      <td>0.679145</td>\n",
       "      <td>0.392087</td>\n",
       "      <td>...</td>\n",
       "      <td>0.265245</td>\n",
       "      <td>0.800049</td>\n",
       "      <td>-0.163298</td>\n",
       "      <td>0.123205</td>\n",
       "      <td>-0.569159</td>\n",
       "      <td>0.546668</td>\n",
       "      <td>0.108821</td>\n",
       "      <td>0.104533</td>\n",
       "      <td>10.00</td>\n",
       "      <td>0</td>\n",
       "    </tr>\n",
       "    <tr>\n",
       "      <th>284806</th>\n",
       "      <td>172792.0</td>\n",
       "      <td>-0.533413</td>\n",
       "      <td>-0.189733</td>\n",
       "      <td>0.703337</td>\n",
       "      <td>-0.506271</td>\n",
       "      <td>-0.012546</td>\n",
       "      <td>-0.649617</td>\n",
       "      <td>1.577006</td>\n",
       "      <td>-0.414650</td>\n",
       "      <td>0.486180</td>\n",
       "      <td>...</td>\n",
       "      <td>0.261057</td>\n",
       "      <td>0.643078</td>\n",
       "      <td>0.376777</td>\n",
       "      <td>0.008797</td>\n",
       "      <td>-0.473649</td>\n",
       "      <td>-0.818267</td>\n",
       "      <td>-0.002415</td>\n",
       "      <td>0.013649</td>\n",
       "      <td>217.00</td>\n",
       "      <td>0</td>\n",
       "    </tr>\n",
       "  </tbody>\n",
       "</table>\n",
       "<p>284807 rows × 31 columns</p>\n",
       "</div>"
      ],
      "text/plain": [
       "            Time         V1         V2        V3        V4        V5  \\\n",
       "0            0.0  -1.359807  -0.072781  2.536347  1.378155 -0.338321   \n",
       "1            0.0   1.191857   0.266151  0.166480  0.448154  0.060018   \n",
       "2            1.0  -1.358354  -1.340163  1.773209  0.379780 -0.503198   \n",
       "3            1.0  -0.966272  -0.185226  1.792993 -0.863291 -0.010309   \n",
       "4            2.0  -1.158233   0.877737  1.548718  0.403034 -0.407193   \n",
       "...          ...        ...        ...       ...       ...       ...   \n",
       "284802  172786.0 -11.881118  10.071785 -9.834783 -2.066656 -5.364473   \n",
       "284803  172787.0  -0.732789  -0.055080  2.035030 -0.738589  0.868229   \n",
       "284804  172788.0   1.919565  -0.301254 -3.249640 -0.557828  2.630515   \n",
       "284805  172788.0  -0.240440   0.530483  0.702510  0.689799 -0.377961   \n",
       "284806  172792.0  -0.533413  -0.189733  0.703337 -0.506271 -0.012546   \n",
       "\n",
       "              V6        V7        V8        V9  ...       V21       V22  \\\n",
       "0       0.462388  0.239599  0.098698  0.363787  ... -0.018307  0.277838   \n",
       "1      -0.082361 -0.078803  0.085102 -0.255425  ... -0.225775 -0.638672   \n",
       "2       1.800499  0.791461  0.247676 -1.514654  ...  0.247998  0.771679   \n",
       "3       1.247203  0.237609  0.377436 -1.387024  ... -0.108300  0.005274   \n",
       "4       0.095921  0.592941 -0.270533  0.817739  ... -0.009431  0.798278   \n",
       "...          ...       ...       ...       ...  ...       ...       ...   \n",
       "284802 -2.606837 -4.918215  7.305334  1.914428  ...  0.213454  0.111864   \n",
       "284803  1.058415  0.024330  0.294869  0.584800  ...  0.214205  0.924384   \n",
       "284804  3.031260 -0.296827  0.708417  0.432454  ...  0.232045  0.578229   \n",
       "284805  0.623708 -0.686180  0.679145  0.392087  ...  0.265245  0.800049   \n",
       "284806 -0.649617  1.577006 -0.414650  0.486180  ...  0.261057  0.643078   \n",
       "\n",
       "             V23       V24       V25       V26       V27       V28  Amount  \\\n",
       "0      -0.110474  0.066928  0.128539 -0.189115  0.133558 -0.021053  149.62   \n",
       "1       0.101288 -0.339846  0.167170  0.125895 -0.008983  0.014724    2.69   \n",
       "2       0.909412 -0.689281 -0.327642 -0.139097 -0.055353 -0.059752  378.66   \n",
       "3      -0.190321 -1.175575  0.647376 -0.221929  0.062723  0.061458  123.50   \n",
       "4      -0.137458  0.141267 -0.206010  0.502292  0.219422  0.215153   69.99   \n",
       "...          ...       ...       ...       ...       ...       ...     ...   \n",
       "284802  1.014480 -0.509348  1.436807  0.250034  0.943651  0.823731    0.77   \n",
       "284803  0.012463 -1.016226 -0.606624 -0.395255  0.068472 -0.053527   24.79   \n",
       "284804 -0.037501  0.640134  0.265745 -0.087371  0.004455 -0.026561   67.88   \n",
       "284805 -0.163298  0.123205 -0.569159  0.546668  0.108821  0.104533   10.00   \n",
       "284806  0.376777  0.008797 -0.473649 -0.818267 -0.002415  0.013649  217.00   \n",
       "\n",
       "        Class  \n",
       "0           0  \n",
       "1           0  \n",
       "2           0  \n",
       "3           0  \n",
       "4           0  \n",
       "...       ...  \n",
       "284802      0  \n",
       "284803      0  \n",
       "284804      0  \n",
       "284805      0  \n",
       "284806      0  \n",
       "\n",
       "[284807 rows x 31 columns]"
      ]
     },
     "execution_count": 6,
     "metadata": {},
     "output_type": "execute_result"
    }
   ],
   "source": [
    "card_df = pd.read_csv('creditcard.csv')\n",
    "card_df"
   ]
  },
  {
   "cell_type": "code",
   "execution_count": 7,
   "id": "9e5076b8-98a4-47dd-aa1d-21565bcca38b",
   "metadata": {},
   "outputs": [
    {
     "name": "stdout",
     "output_type": "stream",
     "text": [
      "<class 'pandas.core.frame.DataFrame'>\n",
      "RangeIndex: 284807 entries, 0 to 284806\n",
      "Data columns (total 31 columns):\n",
      " #   Column  Non-Null Count   Dtype  \n",
      "---  ------  --------------   -----  \n",
      " 0   Time    284807 non-null  float64\n",
      " 1   V1      284807 non-null  float64\n",
      " 2   V2      284807 non-null  float64\n",
      " 3   V3      284807 non-null  float64\n",
      " 4   V4      284807 non-null  float64\n",
      " 5   V5      284807 non-null  float64\n",
      " 6   V6      284807 non-null  float64\n",
      " 7   V7      284807 non-null  float64\n",
      " 8   V8      284807 non-null  float64\n",
      " 9   V9      284807 non-null  float64\n",
      " 10  V10     284807 non-null  float64\n",
      " 11  V11     284807 non-null  float64\n",
      " 12  V12     284807 non-null  float64\n",
      " 13  V13     284807 non-null  float64\n",
      " 14  V14     284807 non-null  float64\n",
      " 15  V15     284807 non-null  float64\n",
      " 16  V16     284807 non-null  float64\n",
      " 17  V17     284807 non-null  float64\n",
      " 18  V18     284807 non-null  float64\n",
      " 19  V19     284807 non-null  float64\n",
      " 20  V20     284807 non-null  float64\n",
      " 21  V21     284807 non-null  float64\n",
      " 22  V22     284807 non-null  float64\n",
      " 23  V23     284807 non-null  float64\n",
      " 24  V24     284807 non-null  float64\n",
      " 25  V25     284807 non-null  float64\n",
      " 26  V26     284807 non-null  float64\n",
      " 27  V27     284807 non-null  float64\n",
      " 28  V28     284807 non-null  float64\n",
      " 29  Amount  284807 non-null  float64\n",
      " 30  Class   284807 non-null  int64  \n",
      "dtypes: float64(30), int64(1)\n",
      "memory usage: 67.4 MB\n"
     ]
    }
   ],
   "source": [
    "card_df.info()"
   ]
  },
  {
   "cell_type": "code",
   "execution_count": 8,
   "id": "d7329f25-7dfa-4d1a-a1e0-e2ce627b1552",
   "metadata": {},
   "outputs": [],
   "source": [
    "from sklearn.model_selection import train_test_split"
   ]
  },
  {
   "cell_type": "code",
   "execution_count": 9,
   "id": "40c4775b-ee7c-436d-a3ef-34c8866c907f",
   "metadata": {},
   "outputs": [],
   "source": [
    "def get_preprocessed_df(df=None):\n",
    "    df_copy = df.copy()\n",
    "    df_copy.drop(columns=['Time'],inplace=True)\n",
    "    return df_copy"
   ]
  },
  {
   "cell_type": "code",
   "execution_count": 11,
   "id": "234503d2-689c-4587-a95c-e255c336f440",
   "metadata": {},
   "outputs": [],
   "source": [
    "def get_train_test_dataset(df=None):\n",
    "    df_copy = get_preprocessed_df(df)\n",
    "    X=df_copy.iloc[:,:-1]\n",
    "    y=df_copy.iloc[:,-1]\n",
    "    X_train,X_test,y_train,y_test = train_test_split(X,\n",
    "                                                     y,\n",
    "                                                     test_size=0.3,\n",
    "                                                     random_state=0,\n",
    "                                                    stratify=y) #비율맞춰줌\n",
    "    return X_train,X_test,y_train,y_test"
   ]
  },
  {
   "cell_type": "code",
   "execution_count": 12,
   "id": "73b0abf0-4eb6-4bc4-acee-8eff36ae7b7b",
   "metadata": {},
   "outputs": [],
   "source": [
    "X_train,X_test,y_train,y_test = get_train_test_dataset(card_df)"
   ]
  },
  {
   "cell_type": "code",
   "execution_count": 14,
   "id": "6a28181f-6b98-435c-a137-dba4718dbf76",
   "metadata": {},
   "outputs": [
    {
     "data": {
      "text/plain": [
       "0    99.827451\n",
       "1     0.172549\n",
       "Name: Class, dtype: float64"
      ]
     },
     "execution_count": 14,
     "metadata": {},
     "output_type": "execute_result"
    }
   ],
   "source": [
    "y_train.value_counts()/y_train.shape[0]*100"
   ]
  },
  {
   "cell_type": "code",
   "execution_count": 15,
   "id": "0aa1b5df-23b3-46ab-a42e-bb84865263df",
   "metadata": {},
   "outputs": [
    {
     "data": {
      "text/plain": [
       "0    99.826785\n",
       "1     0.173215\n",
       "Name: Class, dtype: float64"
      ]
     },
     "execution_count": 15,
     "metadata": {},
     "output_type": "execute_result"
    }
   ],
   "source": [
    "y_test.value_counts()/y_test.shape[0]*100"
   ]
  },
  {
   "cell_type": "code",
   "execution_count": 16,
   "id": "f0d3ce31-aac7-4c86-86be-641b57af4cbe",
   "metadata": {},
   "outputs": [],
   "source": [
    "from sklearn.linear_model import LogisticRegression"
   ]
  },
  {
   "cell_type": "code",
   "execution_count": 17,
   "id": "c653a3e4-2f65-4ccc-af30-7e415e783207",
   "metadata": {},
   "outputs": [],
   "source": [
    "lr_clf = LogisticRegression()\n",
    "lr_clf.fit(X_train,y_train)\n",
    "lr_pred = lr_clf.predict(X_test)\n",
    "lr_pred_proba = lr_clf.predict_proba(X_test)[:,1]"
   ]
  },
  {
   "cell_type": "code",
   "execution_count": 18,
   "id": "d5a7a356-0758-4079-aec9-27baf055e388",
   "metadata": {},
   "outputs": [],
   "source": [
    "def get_clf_eval(y_test,pred,pred_proba):\n",
    "    from sklearn.metrics import confusion_matrix,accuracy_score,precision_score,recall_score,f1_score,roc_auc_score\n",
    "    confusion = confusion_matrix(y_test,pred)\n",
    "    accuracy = accuracy_score(y_test,pred)\n",
    "    precision = precision_score(y_test,pred)\n",
    "    recall = recall_score(y_test,pred)\n",
    "    f1 = f1_score(y_test,pred)\n",
    "    auc = roc_auc_score(y_test,pred_proba)\n",
    "    print('오차행렬')\n",
    "    print(confusion)\n",
    "    print(f'정확도:{accuracy:.4f},정밀도:{precision:.4f},재현율:{recall:.4f},F1:{f1:.4f},auc:{auc:.4f}')"
   ]
  },
  {
   "cell_type": "code",
   "execution_count": 20,
   "id": "da071db0-4edd-4134-a922-f836b1771cbc",
   "metadata": {},
   "outputs": [
    {
     "name": "stdout",
     "output_type": "stream",
     "text": [
      "오차행렬\n",
      "[[85279    16]\n",
      " [   58    90]]\n",
      "정확도:0.9991,정밀도:0.8491,재현율:0.6081,F1:0.7087,auc:0.9589\n"
     ]
    }
   ],
   "source": [
    "get_clf_eval(y_test,lr_pred,lr_pred_proba)"
   ]
  },
  {
   "cell_type": "code",
   "execution_count": 21,
   "id": "f2988141-4110-4934-97ff-5f43fdae1651",
   "metadata": {},
   "outputs": [],
   "source": [
    "def get_model_train_eval(model,X_train,X_test,y_train,y_test):\n",
    "    model.fit(X_train,y_train)\n",
    "    pred = model.predict(X_test)\n",
    "    pred_proba = model.predict_proba(X_test)[:,1]\n",
    "    get_clf_eval(y_test,pred,pred_proba)"
   ]
  },
  {
   "cell_type": "code",
   "execution_count": 22,
   "id": "f7ad8acf-d926-44a5-b2b6-d17f6be042f3",
   "metadata": {},
   "outputs": [
    {
     "name": "stdout",
     "output_type": "stream",
     "text": [
      "오차행렬\n",
      "[[85279    16]\n",
      " [   58    90]]\n",
      "정확도:0.9991,정밀도:0.8491,재현율:0.6081,F1:0.7087,auc:0.9589\n"
     ]
    }
   ],
   "source": [
    "get_model_train_eval(lr_clf,X_train,X_test,y_train,y_test)"
   ]
  },
  {
   "cell_type": "code",
   "execution_count": 23,
   "id": "5fc1cde1-995f-44a5-9f81-9fa085f5f16e",
   "metadata": {},
   "outputs": [],
   "source": [
    "from lightgbm import LGBMClassifier"
   ]
  },
  {
   "cell_type": "code",
   "execution_count": 24,
   "id": "fe804935-9215-4853-8be3-e62e972d441f",
   "metadata": {},
   "outputs": [
    {
     "name": "stdout",
     "output_type": "stream",
     "text": [
      "오차행렬\n",
      "[[85290     5]\n",
      " [   36   112]]\n",
      "정확도:0.9995,정밀도:0.9573,재현율:0.7568,F1:0.8453,auc:0.9790\n"
     ]
    }
   ],
   "source": [
    "lgbm_clf = LGBMClassifier(n_estimators=1000,\n",
    "                          num_leaves=64,\n",
    "                          n_jobs=-1,\n",
    "                         boost_from_average=False)\n",
    "get_model_train_eval(lgbm_clf,X_train,X_test,y_train,y_test)"
   ]
  },
  {
   "cell_type": "raw",
   "id": "f416cee0-df3f-4494-b60a-9d91f1da8768",
   "metadata": {},
   "source": [
    "#결과 값 비교 정확도 재현율 정밀도가 올라감"
   ]
  },
  {
   "cell_type": "markdown",
   "id": "c8962d7d-63cc-4d6e-976a-1e0e110e2c9f",
   "metadata": {},
   "source": [
    "### p268 분포도"
   ]
  },
  {
   "cell_type": "code",
   "execution_count": 25,
   "id": "6aaeecd8-bd8a-46ac-a955-3e1b5c88ee3b",
   "metadata": {},
   "outputs": [],
   "source": [
    "import seaborn as sns"
   ]
  },
  {
   "cell_type": "code",
   "execution_count": 26,
   "id": "602c20ad-be53-4f6d-8603-79e53ac2344c",
   "metadata": {},
   "outputs": [
    {
     "data": {
      "text/plain": [
       "<AxesSubplot:xlabel='Amount', ylabel='Density'>"
      ]
     },
     "execution_count": 26,
     "metadata": {},
     "output_type": "execute_result"
    },
    {
     "data": {
      "image/png": "[encoded data removed]",
      "text/plain": [
       "<Figure size 576x288 with 1 Axes>"
      ]
     },
     "metadata": {
      "needs_background": "light"
     },
     "output_type": "display_data"
    }
   ],
   "source": [
    "plt.figure(figsize=(8,4))\n",
    "plt.xticks(range(0,30000,1000),rotation=60)\n",
    "sns.distplot(card_df['Amount'])"
   ]
  },
  {
   "cell_type": "code",
   "execution_count": 27,
   "id": "58508a38-789c-4bb7-ac74-0aa89c77dd9c",
   "metadata": {},
   "outputs": [],
   "source": [
    "from sklearn.preprocessing import StandardScaler"
   ]
  },
  {
   "cell_type": "code",
   "execution_count": 29,
   "id": "308daaea-b0e7-499a-948f-9df9833bd578",
   "metadata": {},
   "outputs": [],
   "source": [
    "def get_preprocessed_df(df=None):\n",
    "    df_copy = df.copy()\n",
    "    scaler = StandardScaler()\n",
    "    amount_n = scaler.fit_transform(df_copy['Amount'].values.reshape(-1,1))\n",
    "    df_copy.insert(0,'Amount_Scaled',amount_n)\n",
    "    df_copy.drop(columns=['Time'],inplace=True)\n",
    "    return df_copy"
   ]
  },
  {
   "cell_type": "code",
   "execution_count": 30,
   "id": "a082a5c5-c953-4113-8ec7-f9228d8655aa",
   "metadata": {},
   "outputs": [],
   "source": [
    "X_train,X_test,y_train,y_test = get_train_test_dataset(card_df)"
   ]
  },
  {
   "cell_type": "code",
   "execution_count": 31,
   "id": "efb1b4bd-d549-4467-98e5-50ed9fd24047",
   "metadata": {},
   "outputs": [
    {
     "data": {
      "text/html": [
       "<div>\n",
       "<style scoped>\n",
       "    .dataframe tbody tr th:only-of-type {\n",
       "        vertical-align: middle;\n",
       "    }\n",
       "\n",
       "    .dataframe tbody tr th {\n",
       "        vertical-align: top;\n",
       "    }\n",
       "\n",
       "    .dataframe thead th {\n",
       "        text-align: right;\n",
       "    }\n",
       "</style>\n",
       "<table border=\"1\" class=\"dataframe\">\n",
       "  <thead>\n",
       "    <tr style=\"text-align: right;\">\n",
       "      <th></th>\n",
       "      <th>Amount_Scaled</th>\n",
       "      <th>V1</th>\n",
       "      <th>V2</th>\n",
       "      <th>V3</th>\n",
       "      <th>V4</th>\n",
       "      <th>V5</th>\n",
       "      <th>V6</th>\n",
       "      <th>V7</th>\n",
       "      <th>V8</th>\n",
       "      <th>V9</th>\n",
       "      <th>...</th>\n",
       "      <th>V20</th>\n",
       "      <th>V21</th>\n",
       "      <th>V22</th>\n",
       "      <th>V23</th>\n",
       "      <th>V24</th>\n",
       "      <th>V25</th>\n",
       "      <th>V26</th>\n",
       "      <th>V27</th>\n",
       "      <th>V28</th>\n",
       "      <th>Amount</th>\n",
       "    </tr>\n",
       "  </thead>\n",
       "  <tbody>\n",
       "    <tr>\n",
       "      <th>211605</th>\n",
       "      <td>-0.350471</td>\n",
       "      <td>-8.367621</td>\n",
       "      <td>7.402969</td>\n",
       "      <td>-5.114191</td>\n",
       "      <td>-2.966792</td>\n",
       "      <td>-0.985904</td>\n",
       "      <td>-1.660018</td>\n",
       "      <td>0.397816</td>\n",
       "      <td>1.00825</td>\n",
       "      <td>5.290976</td>\n",
       "      <td>...</td>\n",
       "      <td>3.589299</td>\n",
       "      <td>-0.557927</td>\n",
       "      <td>0.349087</td>\n",
       "      <td>0.301734</td>\n",
       "      <td>0.66233</td>\n",
       "      <td>1.145939</td>\n",
       "      <td>-0.012273</td>\n",
       "      <td>1.513736</td>\n",
       "      <td>0.669504</td>\n",
       "      <td>0.69</td>\n",
       "    </tr>\n",
       "  </tbody>\n",
       "</table>\n",
       "<p>1 rows × 30 columns</p>\n",
       "</div>"
      ],
      "text/plain": [
       "        Amount_Scaled        V1        V2        V3        V4        V5  \\\n",
       "211605      -0.350471 -8.367621  7.402969 -5.114191 -2.966792 -0.985904   \n",
       "\n",
       "              V6        V7       V8        V9  ...       V20       V21  \\\n",
       "211605 -1.660018  0.397816  1.00825  5.290976  ...  3.589299 -0.557927   \n",
       "\n",
       "             V22       V23      V24       V25       V26       V27       V28  \\\n",
       "211605  0.349087  0.301734  0.66233  1.145939 -0.012273  1.513736  0.669504   \n",
       "\n",
       "        Amount  \n",
       "211605    0.69  \n",
       "\n",
       "[1 rows x 30 columns]"
      ]
     },
     "execution_count": 31,
     "metadata": {},
     "output_type": "execute_result"
    }
   ],
   "source": [
    "X_train.head(1)"
   ]
  },
  {
   "cell_type": "code",
   "execution_count": 32,
   "id": "79c35d61-ade2-4e19-83d9-f31db3b8ae24",
   "metadata": {},
   "outputs": [
    {
     "name": "stdout",
     "output_type": "stream",
     "text": [
      "오차행렬\n",
      "[[85283    12]\n",
      " [   59    89]]\n",
      "정확도:0.9992,정밀도:0.8812,재현율:0.6014,F1:0.7149,auc:0.9648\n"
     ]
    }
   ],
   "source": [
    "lr_clf = LogisticRegression()\n",
    "get_model_train_eval(lr_clf,X_train,X_test,y_train,y_test)"
   ]
  },
  {
   "cell_type": "raw",
   "id": "1e34a1ec-c484-467c-8db5-67c97ba84ceb",
   "metadata": {},
   "source": [
    "#앞과 비교\n",
    "오차행렬\n",
    "[[85279    16]\n",
    " [   58    90]]\n",
    "정확도:0.9991,정밀도:0.8491,재현율:0.6081,F1:0.7087,auc:0.9589"
   ]
  },
  {
   "cell_type": "code",
   "execution_count": 33,
   "id": "b3a4ac12-8884-4e4d-a2b6-4366892a543d",
   "metadata": {},
   "outputs": [
    {
     "name": "stdout",
     "output_type": "stream",
     "text": [
      "오차행렬\n",
      "[[85290     5]\n",
      " [   36   112]]\n",
      "정확도:0.9995,정밀도:0.9573,재현율:0.7568,F1:0.8453,auc:0.9812\n"
     ]
    }
   ],
   "source": [
    "lgbm_clf = LGBMClassifier(n_estimators=1000,\n",
    "                          num_leaves=64,\n",
    "                          n_jobs=-1,\n",
    "                         boost_from_average=False)\n",
    "get_model_train_eval(lgbm_clf,X_train,X_test,y_train,y_test)"
   ]
  },
  {
   "cell_type": "raw",
   "id": "20fabebc-f4a5-40a4-b895-6a1cf8c0c4e6",
   "metadata": {},
   "source": [
    "#앞과 비교\n",
    "오차행렬\n",
    "[[85290     5]\n",
    " [   36   112]]\n",
    "정확도:0.9995,정밀도:0.9573,재현율:0.7568,F1:0.8453,auc:0.9790"
   ]
  },
  {
   "cell_type": "raw",
   "id": "c7570cd2-f21b-4629-9f83-6c2eb01695f6",
   "metadata": {},
   "source": [
    "#위의 스탠다드 스케일러보다 로그 변환을 더 많이 씀, 효과가 더 좋음"
   ]
  },
  {
   "cell_type": "markdown",
   "id": "e69ce0f0-9b19-406d-a6fd-70bac83cd402",
   "metadata": {},
   "source": [
    "#### 로그변환"
   ]
  },
  {
   "cell_type": "code",
   "execution_count": 34,
   "id": "86b6e8fa-9a98-46e1-a911-98bbac66be3e",
   "metadata": {},
   "outputs": [],
   "source": [
    "def get_preprocessed_df(df=None):\n",
    "    df_copy = df.copy()\n",
    "    # scaler = StandardScaler()\n",
    "    # amount_n = scaler.fit_transform(df_copy['Amount'].values.reshape(-1,1))\n",
    "    amount_n = np.log1p(df_copy['Amount']) #로그에다 1더함(이유:)\n",
    "    df_copy.insert(0,'Amount_Scaled',amount_n)\n",
    "    df_copy.drop(columns=['Time'],inplace=True)\n",
    "    return df_copy"
   ]
  },
  {
   "cell_type": "code",
   "execution_count": 35,
   "id": "09e60e66-a69d-4646-a8f9-a3bc7f3d4c62",
   "metadata": {},
   "outputs": [],
   "source": [
    "X_train,X_test,y_train,y_test = get_train_test_dataset(card_df)"
   ]
  },
  {
   "cell_type": "code",
   "execution_count": 36,
   "id": "2d7b102e-c6f2-4050-9446-e0403b29019f",
   "metadata": {},
   "outputs": [
    {
     "data": {
      "text/html": [
       "<div>\n",
       "<style scoped>\n",
       "    .dataframe tbody tr th:only-of-type {\n",
       "        vertical-align: middle;\n",
       "    }\n",
       "\n",
       "    .dataframe tbody tr th {\n",
       "        vertical-align: top;\n",
       "    }\n",
       "\n",
       "    .dataframe thead th {\n",
       "        text-align: right;\n",
       "    }\n",
       "</style>\n",
       "<table border=\"1\" class=\"dataframe\">\n",
       "  <thead>\n",
       "    <tr style=\"text-align: right;\">\n",
       "      <th></th>\n",
       "      <th>Amount_Scaled</th>\n",
       "      <th>V1</th>\n",
       "      <th>V2</th>\n",
       "      <th>V3</th>\n",
       "      <th>V4</th>\n",
       "      <th>V5</th>\n",
       "      <th>V6</th>\n",
       "      <th>V7</th>\n",
       "      <th>V8</th>\n",
       "      <th>V9</th>\n",
       "      <th>...</th>\n",
       "      <th>V20</th>\n",
       "      <th>V21</th>\n",
       "      <th>V22</th>\n",
       "      <th>V23</th>\n",
       "      <th>V24</th>\n",
       "      <th>V25</th>\n",
       "      <th>V26</th>\n",
       "      <th>V27</th>\n",
       "      <th>V28</th>\n",
       "      <th>Amount</th>\n",
       "    </tr>\n",
       "  </thead>\n",
       "  <tbody>\n",
       "    <tr>\n",
       "      <th>211605</th>\n",
       "      <td>0.524729</td>\n",
       "      <td>-8.367621</td>\n",
       "      <td>7.402969</td>\n",
       "      <td>-5.114191</td>\n",
       "      <td>-2.966792</td>\n",
       "      <td>-0.985904</td>\n",
       "      <td>-1.660018</td>\n",
       "      <td>0.397816</td>\n",
       "      <td>1.008250</td>\n",
       "      <td>5.290976</td>\n",
       "      <td>...</td>\n",
       "      <td>3.589299</td>\n",
       "      <td>-0.557927</td>\n",
       "      <td>0.349087</td>\n",
       "      <td>0.301734</td>\n",
       "      <td>0.662330</td>\n",
       "      <td>1.145939</td>\n",
       "      <td>-0.012273</td>\n",
       "      <td>1.513736</td>\n",
       "      <td>0.669504</td>\n",
       "      <td>0.69</td>\n",
       "    </tr>\n",
       "    <tr>\n",
       "      <th>231628</th>\n",
       "      <td>4.033710</td>\n",
       "      <td>-1.290662</td>\n",
       "      <td>0.764452</td>\n",
       "      <td>-0.169233</td>\n",
       "      <td>-1.688528</td>\n",
       "      <td>1.984718</td>\n",
       "      <td>-0.717210</td>\n",
       "      <td>1.667635</td>\n",
       "      <td>-0.228295</td>\n",
       "      <td>-0.959071</td>\n",
       "      <td>...</td>\n",
       "      <td>0.057620</td>\n",
       "      <td>0.138615</td>\n",
       "      <td>0.390374</td>\n",
       "      <td>-0.678774</td>\n",
       "      <td>0.292254</td>\n",
       "      <td>1.425865</td>\n",
       "      <td>0.265341</td>\n",
       "      <td>0.051405</td>\n",
       "      <td>0.103879</td>\n",
       "      <td>55.47</td>\n",
       "    </tr>\n",
       "    <tr>\n",
       "      <th>110643</th>\n",
       "      <td>2.525729</td>\n",
       "      <td>-0.606860</td>\n",
       "      <td>0.233923</td>\n",
       "      <td>2.633361</td>\n",
       "      <td>-0.155762</td>\n",
       "      <td>-0.328850</td>\n",
       "      <td>-0.070593</td>\n",
       "      <td>0.173023</td>\n",
       "      <td>0.113394</td>\n",
       "      <td>0.680147</td>\n",
       "      <td>...</td>\n",
       "      <td>-0.129287</td>\n",
       "      <td>0.007393</td>\n",
       "      <td>0.265045</td>\n",
       "      <td>-0.040615</td>\n",
       "      <td>0.406088</td>\n",
       "      <td>-0.498823</td>\n",
       "      <td>0.121851</td>\n",
       "      <td>-0.046840</td>\n",
       "      <td>-0.087259</td>\n",
       "      <td>11.50</td>\n",
       "    </tr>\n",
       "    <tr>\n",
       "      <th>11478</th>\n",
       "      <td>2.397895</td>\n",
       "      <td>1.374168</td>\n",
       "      <td>-0.330389</td>\n",
       "      <td>0.812971</td>\n",
       "      <td>-0.183112</td>\n",
       "      <td>-1.074771</td>\n",
       "      <td>-0.933788</td>\n",
       "      <td>-0.544238</td>\n",
       "      <td>-0.348237</td>\n",
       "      <td>0.614925</td>\n",
       "      <td>...</td>\n",
       "      <td>0.078163</td>\n",
       "      <td>-0.134742</td>\n",
       "      <td>0.016793</td>\n",
       "      <td>0.002610</td>\n",
       "      <td>0.714527</td>\n",
       "      <td>0.536175</td>\n",
       "      <td>-0.307487</td>\n",
       "      <td>-0.003555</td>\n",
       "      <td>0.013024</td>\n",
       "      <td>10.00</td>\n",
       "    </tr>\n",
       "    <tr>\n",
       "      <th>243724</th>\n",
       "      <td>7.736766</td>\n",
       "      <td>-2.146505</td>\n",
       "      <td>-7.603113</td>\n",
       "      <td>-4.928224</td>\n",
       "      <td>1.449173</td>\n",
       "      <td>-2.083871</td>\n",
       "      <td>-0.984759</td>\n",
       "      <td>3.629816</td>\n",
       "      <td>-1.302973</td>\n",
       "      <td>-1.434148</td>\n",
       "      <td>...</td>\n",
       "      <td>4.009181</td>\n",
       "      <td>1.274986</td>\n",
       "      <td>-0.857670</td>\n",
       "      <td>-2.109682</td>\n",
       "      <td>0.169338</td>\n",
       "      <td>-0.322888</td>\n",
       "      <td>0.777822</td>\n",
       "      <td>-0.552258</td>\n",
       "      <td>0.304777</td>\n",
       "      <td>2290.05</td>\n",
       "    </tr>\n",
       "  </tbody>\n",
       "</table>\n",
       "<p>5 rows × 30 columns</p>\n",
       "</div>"
      ],
      "text/plain": [
       "        Amount_Scaled        V1        V2        V3        V4        V5  \\\n",
       "211605       0.524729 -8.367621  7.402969 -5.114191 -2.966792 -0.985904   \n",
       "231628       4.033710 -1.290662  0.764452 -0.169233 -1.688528  1.984718   \n",
       "110643       2.525729 -0.606860  0.233923  2.633361 -0.155762 -0.328850   \n",
       "11478        2.397895  1.374168 -0.330389  0.812971 -0.183112 -1.074771   \n",
       "243724       7.736766 -2.146505 -7.603113 -4.928224  1.449173 -2.083871   \n",
       "\n",
       "              V6        V7        V8        V9  ...       V20       V21  \\\n",
       "211605 -1.660018  0.397816  1.008250  5.290976  ...  3.589299 -0.557927   \n",
       "231628 -0.717210  1.667635 -0.228295 -0.959071  ...  0.057620  0.138615   \n",
       "110643 -0.070593  0.173023  0.113394  0.680147  ... -0.129287  0.007393   \n",
       "11478  -0.933788 -0.544238 -0.348237  0.614925  ...  0.078163 -0.134742   \n",
       "243724 -0.984759  3.629816 -1.302973 -1.434148  ...  4.009181  1.274986   \n",
       "\n",
       "             V22       V23       V24       V25       V26       V27       V28  \\\n",
       "211605  0.349087  0.301734  0.662330  1.145939 -0.012273  1.513736  0.669504   \n",
       "231628  0.390374 -0.678774  0.292254  1.425865  0.265341  0.051405  0.103879   \n",
       "110643  0.265045 -0.040615  0.406088 -0.498823  0.121851 -0.046840 -0.087259   \n",
       "11478   0.016793  0.002610  0.714527  0.536175 -0.307487 -0.003555  0.013024   \n",
       "243724 -0.857670 -2.109682  0.169338 -0.322888  0.777822 -0.552258  0.304777   \n",
       "\n",
       "         Amount  \n",
       "211605     0.69  \n",
       "231628    55.47  \n",
       "110643    11.50  \n",
       "11478     10.00  \n",
       "243724  2290.05  \n",
       "\n",
       "[5 rows x 30 columns]"
      ]
     },
     "execution_count": 36,
     "metadata": {},
     "output_type": "execute_result"
    }
   ],
   "source": [
    "X_train.head()"
   ]
  },
  {
   "cell_type": "code",
   "execution_count": 38,
   "id": "000a16c1-0075-42a9-ac92-4a6898a67c66",
   "metadata": {},
   "outputs": [
    {
     "name": "stdout",
     "output_type": "stream",
     "text": [
      "오차행렬\n",
      "[[85275    20]\n",
      " [   48   100]]\n",
      "정확도:0.9992,정밀도:0.8333,재현율:0.6757,F1:0.7463,auc:0.9248\n"
     ]
    }
   ],
   "source": [
    "get_model_train_eval(lr_clf,X_train,X_test,y_train,y_test) #lr"
   ]
  },
  {
   "cell_type": "code",
   "execution_count": 37,
   "id": "bcb247fb-65f0-48c9-acd1-526e3d7427c9",
   "metadata": {},
   "outputs": [
    {
     "name": "stdout",
     "output_type": "stream",
     "text": [
      "오차행렬\n",
      "[[85290     5]\n",
      " [   35   113]]\n",
      "정확도:0.9995,정밀도:0.9576,재현율:0.7635,F1:0.8496,auc:0.9796\n"
     ]
    }
   ],
   "source": [
    "get_model_train_eval(lgbm_clf,X_train,X_test,y_train,y_test) #lgbm"
   ]
  },
  {
   "cell_type": "raw",
   "id": "916bd459-903b-4eaa-bee5-93824055615e",
   "metadata": {},
   "source": [
    "# 앞의 lgbm과 비교\n",
    "오차행렬\n",
    "[[85290     5]\n",
    " [   36   112]]\n",
    "정확도:0.9995,정밀도:0.9573,재현율:0.7568,F1:0.8453,auc:0.9812"
   ]
  },
  {
   "cell_type": "raw",
   "id": "e0599c8e-24de-4c8f-b068-5b0280bdcf05",
   "metadata": {},
   "source": [
    "#기본 스탠다드와 비교\n",
    "오차행렬\n",
    "[[85290     5]\n",
    " [   36   112]]\n",
    "정확도:0.9995,정밀도:0.9573,재현율:0.7568,F1:0.8453,auc:0.9790"
   ]
  },
  {
   "cell_type": "markdown",
   "id": "69b93fdf-5f37-4269-893e-572abd15d7a0",
   "metadata": {},
   "source": [
    "### p271 이상치 제거"
   ]
  },
  {
   "cell_type": "code",
   "execution_count": 40,
   "id": "2eba8648-0ad1-4fa1-9f55-540db42e799e",
   "metadata": {},
   "outputs": [],
   "source": [
    "import seaborn as sns"
   ]
  },
  {
   "cell_type": "code",
   "execution_count": 41,
   "id": "53aa33e4-faab-4a69-8c50-cfab0b81e4a7",
   "metadata": {},
   "outputs": [
    {
     "data": {
      "text/plain": [
       "<AxesSubplot:>"
      ]
     },
     "execution_count": 41,
     "metadata": {},
     "output_type": "execute_result"
    },
    {
     "data": {
      "image/png": "[encoded data removed]",
      "text/plain": [
       "<Figure size 648x648 with 2 Axes>"
      ]
     },
     "metadata": {
      "needs_background": "light"
     },
     "output_type": "display_data"
    }
   ],
   "source": [
    "plt.figure(figsize=(9,9))\n",
    "corr = card_df.corr()\n",
    "sns.heatmap(corr,cmap='RdBu')"
   ]
  },
  {
   "cell_type": "code",
   "execution_count": 42,
   "id": "9b70d8d6-fe6f-4e79-9e03-b7ed809627e5",
   "metadata": {},
   "outputs": [],
   "source": [
    "import numpy as np"
   ]
  },
  {
   "cell_type": "code",
   "execution_count": 46,
   "id": "c6c3ff15-5c53-4d15-acc1-979cb9a72ef7",
   "metadata": {},
   "outputs": [],
   "source": [
    "def get_outlier(df=None,columns=None,weight=1.5):\n",
    "    fraud = df[df['Class']==1][columns]\n",
    "    q25 = np.percentile(fraud.values,25)\n",
    "    q75 = np.percentile(fraud.values,75)\n",
    "    iqr = q75-q25\n",
    "    iqr_weight = iqr*weight\n",
    "    lowest_val = q25 - iqr_weight\n",
    "    highest_val = q75 +iqr_weight\n",
    "    outlier_index = fraud[(fraud<lowest_val)|(fraud>highest_val)].index\n",
    "    return outlier_index"
   ]
  },
  {
   "cell_type": "code",
   "execution_count": 48,
   "id": "ba4536d7-a76b-4108-b151-d30def8a443b",
   "metadata": {},
   "outputs": [
    {
     "data": {
      "text/plain": [
       "Int64Index([8296, 8615, 9035, 9252], dtype='int64')"
      ]
     },
     "execution_count": 48,
     "metadata": {},
     "output_type": "execute_result"
    }
   ],
   "source": [
    "get_outlier(card_df,'V14')"
   ]
  },
  {
   "cell_type": "code",
   "execution_count": 49,
   "id": "a41c297a-ebd9-4036-9cae-097a72b2fcb2",
   "metadata": {},
   "outputs": [
    {
     "data": {
      "text/plain": [
       "Int64Index([], dtype='int64')"
      ]
     },
     "execution_count": 49,
     "metadata": {},
     "output_type": "execute_result"
    }
   ],
   "source": [
    "get_outlier(card_df,'V17')"
   ]
  },
  {
   "cell_type": "code",
   "execution_count": 50,
   "id": "52db164e-64ef-402f-8c38-8c7de6677647",
   "metadata": {},
   "outputs": [],
   "source": [
    "def get_preprocessed_df(df=None):\n",
    "    df_copy = df.copy()\n",
    "    # scaler = StandardScaler()\n",
    "    # amount_n = scaler.fit_transform(df_copy['Amount'].values.reshape(-1,1))\n",
    "    amount_n = np.log1p(df_copy['Amount']) #로그에다 1더함(이유:)\n",
    "    df_copy.insert(0,'Amount_Scaled',amount_n)\n",
    "    df_copy.drop(columns=['Time'],inplace=True)\n",
    "    outlier_index = get_outlier(card_df,'V14')\n",
    "    df_copy.drop(index = outlier_index,inplace=True)\n",
    "    return df_copy"
   ]
  },
  {
   "cell_type": "code",
   "execution_count": 51,
   "id": "28c20d5c-5528-428f-bcb6-0220bc25d99f",
   "metadata": {
    "collapsed": true,
    "jupyter": {
     "outputs_hidden": true
    },
    "tags": []
   },
   "outputs": [
    {
     "ename": "TypeError",
     "evalue": "get_model_train_eval() missing 1 required positional argument: 'y_test'",
     "output_type": "error",
     "traceback": [
      "\u001b[1;31m---------------------------------------------------------------------------\u001b[0m",
      "\u001b[1;31mTypeError\u001b[0m                                 Traceback (most recent call last)",
      "\u001b[1;32m~\\AppData\\Local\\Temp/ipykernel_8728/3296557506.py\u001b[0m in \u001b[0;36m<module>\u001b[1;34m\u001b[0m\n\u001b[0;32m      1\u001b[0m \u001b[0mX_train\u001b[0m\u001b[1;33m,\u001b[0m\u001b[0mX_test\u001b[0m\u001b[1;33m,\u001b[0m\u001b[0my_train\u001b[0m\u001b[1;33m,\u001b[0m\u001b[0my_test\u001b[0m \u001b[1;33m=\u001b[0m \u001b[0mget_train_test_dataset\u001b[0m\u001b[1;33m(\u001b[0m\u001b[0mcard_df\u001b[0m\u001b[1;33m)\u001b[0m\u001b[1;33m\u001b[0m\u001b[1;33m\u001b[0m\u001b[0m\n\u001b[1;32m----> 2\u001b[1;33m \u001b[0mget_model_train_eval\u001b[0m\u001b[1;33m(\u001b[0m\u001b[0mX_train\u001b[0m\u001b[1;33m,\u001b[0m\u001b[0mX_test\u001b[0m\u001b[1;33m,\u001b[0m\u001b[0my_train\u001b[0m\u001b[1;33m,\u001b[0m\u001b[0my_test\u001b[0m\u001b[1;33m)\u001b[0m\u001b[1;33m\u001b[0m\u001b[1;33m\u001b[0m\u001b[0m\n\u001b[0m",
      "\u001b[1;31mTypeError\u001b[0m: get_model_train_eval() missing 1 required positional argument: 'y_test'"
     ]
    }
   ],
   "source": [
    "X_train,X_test,y_train,y_test = get_train_test_dataset(card_df)\n",
    "get_model_train_eval(X_train,X_test,y_train,y_test)"
   ]
  },
  {
   "cell_type": "code",
   "execution_count": 52,
   "id": "b6de7abc-a239-41c7-9910-27b803ec5ca0",
   "metadata": {},
   "outputs": [],
   "source": [
    "#p275 SMOTE"
   ]
  },
  {
   "cell_type": "code",
   "execution_count": 53,
   "id": "f80a57b8-1311-4cbd-9708-dca6186104a2",
   "metadata": {},
   "outputs": [],
   "source": [
    "from imblearn.over_sampling import SMOTE"
   ]
  },
  {
   "cell_type": "code",
   "execution_count": 54,
   "id": "4c004c61-c891-43b4-87f2-19e33ac0ad89",
   "metadata": {},
   "outputs": [],
   "source": [
    "smote = SMOTE(random_state=0)\n",
    "X_train_over,y_train_over = smote.fit_sample(X_train,y_train)"
   ]
  },
  {
   "cell_type": "code",
   "execution_count": 55,
   "id": "724cb6c5-109e-450a-b5da-d0670cd06b33",
   "metadata": {},
   "outputs": [
    {
     "data": {
      "text/plain": [
       "((199362, 30), (398040, 30))"
      ]
     },
     "execution_count": 55,
     "metadata": {},
     "output_type": "execute_result"
    }
   ],
   "source": [
    "X_train.shape, X_train_over.shape"
   ]
  },
  {
   "cell_type": "code",
   "execution_count": 58,
   "id": "15af46fe-f0ae-4f95-8c04-c1b5b5c3be42",
   "metadata": {},
   "outputs": [
    {
     "data": {
      "text/plain": [
       "0    199020\n",
       "1    199020\n",
       "Name: Class, dtype: int64"
      ]
     },
     "execution_count": 58,
     "metadata": {},
     "output_type": "execute_result"
    }
   ],
   "source": [
    "pd.Series(y_train_over).value_counts()"
   ]
  },
  {
   "cell_type": "code",
   "execution_count": 56,
   "id": "fd9db1ae-1660-4026-a608-5563de47f978",
   "metadata": {},
   "outputs": [
    {
     "data": {
      "text/plain": [
       "0    199020\n",
       "1       342\n",
       "Name: Class, dtype: int64"
      ]
     },
     "execution_count": 56,
     "metadata": {},
     "output_type": "execute_result"
    }
   ],
   "source": [
    "y_train.value_counts()"
   ]
  },
  {
   "cell_type": "code",
   "execution_count": 57,
   "id": "0be25edd-c90a-4f23-804c-518bd73beb55",
   "metadata": {},
   "outputs": [
    {
     "name": "stdout",
     "output_type": "stream",
     "text": [
      "오차행렬\n",
      "[[85281    14]\n",
      " [   53    93]]\n",
      "정확도:0.9992,정밀도:0.8692,재현율:0.6370,F1:0.7352,auc:0.9597\n"
     ]
    }
   ],
   "source": [
    "get_model_train_eval(lr_clf,X_train,X_test,y_train,y_test)"
   ]
  },
  {
   "cell_type": "raw",
   "id": "1a4b7436-4f12-4ca4-b8f1-751ac7832c8c",
   "metadata": {},
   "source": [
    "#기본 스탠다드와 비교\n",
    "오차행렬\n",
    "[[85290     5]\n",
    " [   36   112]]\n",
    "정확도:0.9995,정밀도:0.9573,재현율:0.7568,F1:0.8453,auc:0.9790"
   ]
  },
  {
   "cell_type": "code",
   "execution_count": 59,
   "id": "4e2ac570-9544-4019-a0b9-7167f3122548",
   "metadata": {},
   "outputs": [],
   "source": [
    "def precision_recall_curve_plot(y_test,pred_proba):\n",
    "    precisions,recalls,thresholds = precision_recall_curve(y_test,pred_proba)\n",
    "    plt.figure(figsize=(8,6))\n",
    "    threshold_boundary = thresholds.shape[0]\n",
    "    plt.plot(thresholds,precisions[0:threshold_boundary],linestyle='--',label='precision')\n",
    "    plt.plot(thresholds,recalls[0:threshold_boundary],label='recall')\n",
    "    start,end = plt.xlim()\n",
    "    plt.xticks(np.round(np.arange(start,end,0.1),2))\n",
    "    plt.legend()\n",
    "    plt.grid()    \n",
    "    plt.show()"
   ]
  },
  {
   "cell_type": "code",
   "execution_count": 61,
   "id": "7f0be55a-740e-47f6-87bd-8569a63d9be9",
   "metadata": {},
   "outputs": [
    {
     "data": {
      "image/png": "[encoded data removed]",
      "text/plain": [
       "<Figure size 576x432 with 1 Axes>"
      ]
     },
     "metadata": {
      "needs_background": "light"
     },
     "output_type": "display_data"
    }
   ],
   "source": [
    "from sklearn.metrics import precision_recall_curve\n",
    "precision_recall_curve_plot(y_test,lr_clf.predict_proba(X_test)[:,1])"
   ]
  },
  {
   "cell_type": "code",
   "execution_count": 62,
   "id": "de8cff42-98d7-47a0-95d4-d3e5d47b0612",
   "metadata": {},
   "outputs": [
    {
     "name": "stdout",
     "output_type": "stream",
     "text": [
      "오차행렬\n",
      "[[85281    14]\n",
      " [   53    93]]\n",
      "정확도:0.9992,정밀도:0.8692,재현율:0.6370,F1:0.7352,auc:0.9597\n"
     ]
    }
   ],
   "source": [
    "get_model_train_eval(lr_clf,X_train,X_test,y_train,y_test)"
   ]
  },
  {
   "cell_type": "code",
   "execution_count": null,
   "id": "2fe2d50a-d8eb-436d-b37a-3ed91b5f7ffa",
   "metadata": {},
   "outputs": [],
   "source": [
    "#난 왜 그래프가 다르게 나오지? 책확인"
   ]
  }
 ],
 "metadata": {
  "kernelspec": {
   "display_name": "Python 3 (ipykernel)",
   "language": "python",
   "name": "python3"
  },
  "language_info": {
   "codemirror_mode": {
    "name": "ipython",
    "version": 3
   },
   "file_extension": ".py",
   "mimetype": "text/x-python",
   "name": "python",
   "nbconvert_exporter": "python",
   "pygments_lexer": "ipython3",
   "version": "3.9.7"
  }
 },
 "nbformat": 4,
 "nbformat_minor": 5
}
