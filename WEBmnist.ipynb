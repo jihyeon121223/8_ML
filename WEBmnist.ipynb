{
 "cells": [
  {
   "cell_type": "code",
   "execution_count": 1,
   "id": "a941a3bb-a755-4ad5-b2bb-8dc8d8037a76",
   "metadata": {},
   "outputs": [],
   "source": [
    "from sklearn.datasets import fetch_openml"
   ]
  },
  {
   "cell_type": "code",
   "execution_count": 2,
   "id": "7d4d47db-3e99-4fa7-8568-2b23c9b91b4a",
   "metadata": {},
   "outputs": [],
   "source": [
    "mnist = fetch_openml('mnist_784') #손글씨 데이터: 784(28*28)개의 값이 하나로, =784개의 컬럼값"
   ]
  },
  {
   "cell_type": "code",
   "execution_count": 3,
   "id": "b2477828-356e-4be9-b0d0-5a033189a91f",
   "metadata": {},
   "outputs": [
    {
     "data": {
      "text/plain": [
       "pandas.core.frame.DataFrame"
      ]
     },
     "execution_count": 3,
     "metadata": {},
     "output_type": "execute_result"
    }
   ],
   "source": [
    "type(mnist)\n",
    "type(mnist.data)"
   ]
  },
  {
   "cell_type": "code",
   "execution_count": 4,
   "id": "341cf3f1-1c8c-480e-903e-e3f8583f1fed",
   "metadata": {},
   "outputs": [
    {
     "data": {
      "text/html": [
       "<div>\n",
       "<style scoped>\n",
       "    .dataframe tbody tr th:only-of-type {\n",
       "        vertical-align: middle;\n",
       "    }\n",
       "\n",
       "    .dataframe tbody tr th {\n",
       "        vertical-align: top;\n",
       "    }\n",
       "\n",
       "    .dataframe thead th {\n",
       "        text-align: right;\n",
       "    }\n",
       "</style>\n",
       "<table border=\"1\" class=\"dataframe\">\n",
       "  <thead>\n",
       "    <tr style=\"text-align: right;\">\n",
       "      <th></th>\n",
       "      <th>pixel1</th>\n",
       "      <th>pixel2</th>\n",
       "      <th>pixel3</th>\n",
       "      <th>pixel4</th>\n",
       "      <th>pixel5</th>\n",
       "      <th>pixel6</th>\n",
       "      <th>pixel7</th>\n",
       "      <th>pixel8</th>\n",
       "      <th>pixel9</th>\n",
       "      <th>pixel10</th>\n",
       "      <th>...</th>\n",
       "      <th>pixel775</th>\n",
       "      <th>pixel776</th>\n",
       "      <th>pixel777</th>\n",
       "      <th>pixel778</th>\n",
       "      <th>pixel779</th>\n",
       "      <th>pixel780</th>\n",
       "      <th>pixel781</th>\n",
       "      <th>pixel782</th>\n",
       "      <th>pixel783</th>\n",
       "      <th>pixel784</th>\n",
       "    </tr>\n",
       "  </thead>\n",
       "  <tbody>\n",
       "    <tr>\n",
       "      <th>0</th>\n",
       "      <td>0.0</td>\n",
       "      <td>0.0</td>\n",
       "      <td>0.0</td>\n",
       "      <td>0.0</td>\n",
       "      <td>0.0</td>\n",
       "      <td>0.0</td>\n",
       "      <td>0.0</td>\n",
       "      <td>0.0</td>\n",
       "      <td>0.0</td>\n",
       "      <td>0.0</td>\n",
       "      <td>...</td>\n",
       "      <td>0.0</td>\n",
       "      <td>0.0</td>\n",
       "      <td>0.0</td>\n",
       "      <td>0.0</td>\n",
       "      <td>0.0</td>\n",
       "      <td>0.0</td>\n",
       "      <td>0.0</td>\n",
       "      <td>0.0</td>\n",
       "      <td>0.0</td>\n",
       "      <td>0.0</td>\n",
       "    </tr>\n",
       "    <tr>\n",
       "      <th>1</th>\n",
       "      <td>0.0</td>\n",
       "      <td>0.0</td>\n",
       "      <td>0.0</td>\n",
       "      <td>0.0</td>\n",
       "      <td>0.0</td>\n",
       "      <td>0.0</td>\n",
       "      <td>0.0</td>\n",
       "      <td>0.0</td>\n",
       "      <td>0.0</td>\n",
       "      <td>0.0</td>\n",
       "      <td>...</td>\n",
       "      <td>0.0</td>\n",
       "      <td>0.0</td>\n",
       "      <td>0.0</td>\n",
       "      <td>0.0</td>\n",
       "      <td>0.0</td>\n",
       "      <td>0.0</td>\n",
       "      <td>0.0</td>\n",
       "      <td>0.0</td>\n",
       "      <td>0.0</td>\n",
       "      <td>0.0</td>\n",
       "    </tr>\n",
       "  </tbody>\n",
       "</table>\n",
       "<p>2 rows × 784 columns</p>\n",
       "</div>"
      ],
      "text/plain": [
       "   pixel1  pixel2  pixel3  pixel4  pixel5  pixel6  pixel7  pixel8  pixel9  \\\n",
       "0     0.0     0.0     0.0     0.0     0.0     0.0     0.0     0.0     0.0   \n",
       "1     0.0     0.0     0.0     0.0     0.0     0.0     0.0     0.0     0.0   \n",
       "\n",
       "   pixel10  ...  pixel775  pixel776  pixel777  pixel778  pixel779  pixel780  \\\n",
       "0      0.0  ...       0.0       0.0       0.0       0.0       0.0       0.0   \n",
       "1      0.0  ...       0.0       0.0       0.0       0.0       0.0       0.0   \n",
       "\n",
       "   pixel781  pixel782  pixel783  pixel784  \n",
       "0       0.0       0.0       0.0       0.0  \n",
       "1       0.0       0.0       0.0       0.0  \n",
       "\n",
       "[2 rows x 784 columns]"
      ]
     },
     "execution_count": 4,
     "metadata": {},
     "output_type": "execute_result"
    }
   ],
   "source": [
    "mnist.data.head(2)"
   ]
  },
  {
   "cell_type": "code",
   "execution_count": 5,
   "id": "fac997c1-3b56-4070-8bce-10a3274f04dd",
   "metadata": {},
   "outputs": [
    {
     "data": {
      "text/plain": [
       "dict_keys(['data', 'target', 'frame', 'categories', 'feature_names', 'target_names', 'DESCR', 'details', 'url'])"
      ]
     },
     "execution_count": 5,
     "metadata": {},
     "output_type": "execute_result"
    }
   ],
   "source": [
    "mnist.keys()"
   ]
  },
  {
   "cell_type": "code",
   "execution_count": 6,
   "id": "40467d6a-d29f-4414-8ba3-1f8eb9f96439",
   "metadata": {},
   "outputs": [
    {
     "data": {
      "text/plain": [
       "0        5\n",
       "1        0\n",
       "2        4\n",
       "3        1\n",
       "4        9\n",
       "        ..\n",
       "69995    2\n",
       "69996    3\n",
       "69997    4\n",
       "69998    5\n",
       "69999    6\n",
       "Name: class, Length: 70000, dtype: category\n",
       "Categories (10, object): ['0', '1', '2', '3', ..., '6', '7', '8', '9']"
      ]
     },
     "execution_count": 6,
     "metadata": {},
     "output_type": "execute_result"
    }
   ],
   "source": [
    "mnist.target"
   ]
  },
  {
   "cell_type": "code",
   "execution_count": 7,
   "id": "ee0bbab3-6535-42a7-9fff-df9f546877f9",
   "metadata": {},
   "outputs": [
    {
     "data": {
      "text/plain": [
       "['class']"
      ]
     },
     "execution_count": 7,
     "metadata": {},
     "output_type": "execute_result"
    }
   ],
   "source": [
    "mnist.target_names"
   ]
  },
  {
   "cell_type": "code",
   "execution_count": 8,
   "id": "a8db1811-e3b4-4d92-85eb-8459d8ce39e0",
   "metadata": {},
   "outputs": [
    {
     "name": "stdout",
     "output_type": "stream",
     "text": [
      "[0.0, 0.0, 0.0, 0.0, 0.0, 0.0, 0.0, 0.0, 0.0, 0.0, 0.0, 0.0, 0.0, 0.0, 0.0, 0.0, 0.0, 0.0, 0.0, 0.0, 0.0, 0.0, 0.0, 0.0, 0.0, 0.0, 0.0, 0.0, 0.0, 0.0, 0.0, 0.0, 0.0, 0.0, 0.0, 0.0, 0.0, 0.0, 0.0, 0.0, 0.0, 0.0, 0.0, 0.0, 0.0, 0.0, 0.0, 0.0, 0.0, 0.0, 0.0, 0.0, 0.0, 0.0, 0.0, 0.0, 0.0, 0.0, 0.0, 0.0, 0.0, 0.0, 0.0, 0.0, 0.0, 0.0, 0.0, 0.0, 0.0, 0.0, 0.0, 0.0, 0.0, 0.0, 0.0, 0.0, 0.0, 0.0, 0.0, 0.0, 0.0, 0.0, 0.0, 0.0, 0.0, 0.0, 0.0, 0.0, 0.0, 0.0, 0.0, 0.0, 0.0, 0.0, 0.0, 0.0, 0.0, 0.0, 0.0, 0.0, 0.0, 0.0, 0.0, 0.0, 0.0, 0.0, 0.0, 0.0, 0.0, 0.0, 0.0, 0.0, 0.0, 0.0, 0.0, 0.0, 0.0, 0.0, 0.0, 0.0, 0.0, 0.0, 0.0, 0.0, 0.0, 0.0, 0.0, 0.0, 0.0, 0.0, 0.0, 0.0, 0.0, 0.0, 0.0, 0.0, 0.0, 0.0, 0.0, 0.0, 0.0, 0.0, 0.0, 0.0, 0.0, 0.0, 0.0, 0.0, 0.0, 0.0, 0.0, 0.0, 3.0, 18.0, 18.0, 18.0, 126.0, 136.0, 175.0, 26.0, 166.0, 255.0, 247.0, 127.0, 0.0, 0.0, 0.0, 0.0, 0.0, 0.0, 0.0, 0.0, 0.0, 0.0, 0.0, 0.0, 30.0, 36.0, 94.0, 154.0, 170.0, 253.0, 253.0, 253.0, 253.0, 253.0, 225.0, 172.0, 253.0, 242.0, 195.0, 64.0, 0.0, 0.0, 0.0, 0.0, 0.0, 0.0, 0.0, 0.0, 0.0, 0.0, 0.0, 49.0, 238.0, 253.0, 253.0, 253.0, 253.0, 253.0, 253.0, 253.0, 253.0, 251.0, 93.0, 82.0, 82.0, 56.0, 39.0, 0.0, 0.0, 0.0, 0.0, 0.0, 0.0, 0.0, 0.0, 0.0, 0.0, 0.0, 0.0, 18.0, 219.0, 253.0, 253.0, 253.0, 253.0, 253.0, 198.0, 182.0, 247.0, 241.0, 0.0, 0.0, 0.0, 0.0, 0.0, 0.0, 0.0, 0.0, 0.0, 0.0, 0.0, 0.0, 0.0, 0.0, 0.0, 0.0, 0.0, 0.0, 80.0, 156.0, 107.0, 253.0, 253.0, 205.0, 11.0, 0.0, 43.0, 154.0, 0.0, 0.0, 0.0, 0.0, 0.0, 0.0, 0.0, 0.0, 0.0, 0.0, 0.0, 0.0, 0.0, 0.0, 0.0, 0.0, 0.0, 0.0, 0.0, 14.0, 1.0, 154.0, 253.0, 90.0, 0.0, 0.0, 0.0, 0.0, 0.0, 0.0, 0.0, 0.0, 0.0, 0.0, 0.0, 0.0, 0.0, 0.0, 0.0, 0.0, 0.0, 0.0, 0.0, 0.0, 0.0, 0.0, 0.0, 0.0, 0.0, 139.0, 253.0, 190.0, 2.0, 0.0, 0.0, 0.0, 0.0, 0.0, 0.0, 0.0, 0.0, 0.0, 0.0, 0.0, 0.0, 0.0, 0.0, 0.0, 0.0, 0.0, 0.0, 0.0, 0.0, 0.0, 0.0, 0.0, 0.0, 11.0, 190.0, 253.0, 70.0, 0.0, 0.0, 0.0, 0.0, 0.0, 0.0, 0.0, 0.0, 0.0, 0.0, 0.0, 0.0, 0.0, 0.0, 0.0, 0.0, 0.0, 0.0, 0.0, 0.0, 0.0, 0.0, 0.0, 0.0, 0.0, 35.0, 241.0, 225.0, 160.0, 108.0, 1.0, 0.0, 0.0, 0.0, 0.0, 0.0, 0.0, 0.0, 0.0, 0.0, 0.0, 0.0, 0.0, 0.0, 0.0, 0.0, 0.0, 0.0, 0.0, 0.0, 0.0, 0.0, 0.0, 0.0, 81.0, 240.0, 253.0, 253.0, 119.0, 25.0, 0.0, 0.0, 0.0, 0.0, 0.0, 0.0, 0.0, 0.0, 0.0, 0.0, 0.0, 0.0, 0.0, 0.0, 0.0, 0.0, 0.0, 0.0, 0.0, 0.0, 0.0, 0.0, 0.0, 45.0, 186.0, 253.0, 253.0, 150.0, 27.0, 0.0, 0.0, 0.0, 0.0, 0.0, 0.0, 0.0, 0.0, 0.0, 0.0, 0.0, 0.0, 0.0, 0.0, 0.0, 0.0, 0.0, 0.0, 0.0, 0.0, 0.0, 0.0, 0.0, 16.0, 93.0, 252.0, 253.0, 187.0, 0.0, 0.0, 0.0, 0.0, 0.0, 0.0, 0.0, 0.0, 0.0, 0.0, 0.0, 0.0, 0.0, 0.0, 0.0, 0.0, 0.0, 0.0, 0.0, 0.0, 0.0, 0.0, 0.0, 0.0, 0.0, 249.0, 253.0, 249.0, 64.0, 0.0, 0.0, 0.0, 0.0, 0.0, 0.0, 0.0, 0.0, 0.0, 0.0, 0.0, 0.0, 0.0, 0.0, 0.0, 0.0, 0.0, 0.0, 0.0, 0.0, 0.0, 46.0, 130.0, 183.0, 253.0, 253.0, 207.0, 2.0, 0.0, 0.0, 0.0, 0.0, 0.0, 0.0, 0.0, 0.0, 0.0, 0.0, 0.0, 0.0, 0.0, 0.0, 0.0, 0.0, 0.0, 0.0, 0.0, 39.0, 148.0, 229.0, 253.0, 253.0, 253.0, 250.0, 182.0, 0.0, 0.0, 0.0, 0.0, 0.0, 0.0, 0.0, 0.0, 0.0, 0.0, 0.0, 0.0, 0.0, 0.0, 0.0, 0.0, 0.0, 0.0, 24.0, 114.0, 221.0, 253.0, 253.0, 253.0, 253.0, 201.0, 78.0, 0.0, 0.0, 0.0, 0.0, 0.0, 0.0, 0.0, 0.0, 0.0, 0.0, 0.0, 0.0, 0.0, 0.0, 0.0, 0.0, 0.0, 23.0, 66.0, 213.0, 253.0, 253.0, 253.0, 253.0, 198.0, 81.0, 2.0, 0.0, 0.0, 0.0, 0.0, 0.0, 0.0, 0.0, 0.0, 0.0, 0.0, 0.0, 0.0, 0.0, 0.0, 0.0, 0.0, 18.0, 171.0, 219.0, 253.0, 253.0, 253.0, 253.0, 195.0, 80.0, 9.0, 0.0, 0.0, 0.0, 0.0, 0.0, 0.0, 0.0, 0.0, 0.0, 0.0, 0.0, 0.0, 0.0, 0.0, 0.0, 0.0, 55.0, 172.0, 226.0, 253.0, 253.0, 253.0, 253.0, 244.0, 133.0, 11.0, 0.0, 0.0, 0.0, 0.0, 0.0, 0.0, 0.0, 0.0, 0.0, 0.0, 0.0, 0.0, 0.0, 0.0, 0.0, 0.0, 0.0, 0.0, 136.0, 253.0, 253.0, 253.0, 212.0, 135.0, 132.0, 16.0, 0.0, 0.0, 0.0, 0.0, 0.0, 0.0, 0.0, 0.0, 0.0, 0.0, 0.0, 0.0, 0.0, 0.0, 0.0, 0.0, 0.0, 0.0, 0.0, 0.0, 0.0, 0.0, 0.0, 0.0, 0.0, 0.0, 0.0, 0.0, 0.0, 0.0, 0.0, 0.0, 0.0, 0.0, 0.0, 0.0, 0.0, 0.0, 0.0, 0.0, 0.0, 0.0, 0.0, 0.0, 0.0, 0.0, 0.0, 0.0, 0.0, 0.0, 0.0, 0.0, 0.0, 0.0, 0.0, 0.0, 0.0, 0.0, 0.0, 0.0, 0.0, 0.0, 0.0, 0.0, 0.0, 0.0, 0.0, 0.0, 0.0, 0.0, 0.0, 0.0, 0.0, 0.0, 0.0, 0.0, 0.0, 0.0, 0.0, 0.0, 0.0, 0.0, 0.0, 0.0, 0.0, 0.0, 0.0, 0.0, 0.0, 0.0, 0.0, 0.0, 0.0, 0.0, 0.0, 0.0, 0.0, 0.0, 0.0, 0.0]\n"
     ]
    }
   ],
   "source": [
    "mnist.data.iloc[0] #데이터 프레임이라서 iloc해야 나옴\n",
    "print(mnist.data.iloc[0].tolist())"
   ]
  },
  {
   "cell_type": "code",
   "execution_count": 9,
   "id": "a503e24b-bbef-47aa-99a7-df73a9951568",
   "metadata": {},
   "outputs": [
    {
     "data": {
      "text/plain": [
       "(0.0, 255.0)"
      ]
     },
     "execution_count": 9,
     "metadata": {},
     "output_type": "execute_result"
    }
   ],
   "source": [
    "mnist.data.iloc[0].min(),mnist.data.iloc[0].max()"
   ]
  },
  {
   "cell_type": "code",
   "execution_count": 10,
   "id": "00c90ec8-4142-488c-aeb0-661d06b13d6f",
   "metadata": {},
   "outputs": [
    {
     "data": {
      "text/plain": [
       "(70000, 784)"
      ]
     },
     "execution_count": 10,
     "metadata": {},
     "output_type": "execute_result"
    }
   ],
   "source": [
    "mnist.data.shape"
   ]
  },
  {
   "cell_type": "code",
   "execution_count": 11,
   "id": "463a3353-312b-406d-b3b7-b91b0fb79b6c",
   "metadata": {},
   "outputs": [],
   "source": [
    "from sklearn.model_selection import train_test_split"
   ]
  },
  {
   "cell_type": "code",
   "execution_count": 12,
   "id": "763bf80a-ad20-42b4-9ac8-547b60d2c3b9",
   "metadata": {},
   "outputs": [],
   "source": [
    "X_train,X_test,y_train,y_test = train_test_split(mnist.data,mnist.target,test_size=0.1)"
   ]
  },
  {
   "cell_type": "code",
   "execution_count": 13,
   "id": "3e5deaa2-61b3-4561-af6f-49df9d822e7a",
   "metadata": {},
   "outputs": [
    {
     "data": {
      "text/plain": [
       "1    7139\n",
       "7    6571\n",
       "3    6418\n",
       "2    6309\n",
       "9    6252\n",
       "0    6233\n",
       "4    6161\n",
       "6    6150\n",
       "8    6112\n",
       "5    5655\n",
       "Name: class, dtype: int64"
      ]
     },
     "execution_count": 13,
     "metadata": {},
     "output_type": "execute_result"
    }
   ],
   "source": [
    "y_train.value_counts()"
   ]
  },
  {
   "cell_type": "code",
   "execution_count": 14,
   "id": "2aa13995-aed0-4be5-9ccc-7168df205a3d",
   "metadata": {},
   "outputs": [
    {
     "data": {
      "text/plain": [
       "1    738\n",
       "6    726\n",
       "3    723\n",
       "7    722\n",
       "8    713\n",
       "9    706\n",
       "2    681\n",
       "0    670\n",
       "4    663\n",
       "5    658\n",
       "Name: class, dtype: int64"
      ]
     },
     "execution_count": 14,
     "metadata": {},
     "output_type": "execute_result"
    }
   ],
   "source": [
    "y_test.value_counts()"
   ]
  },
  {
   "cell_type": "code",
   "execution_count": 15,
   "id": "81a1dd15-f9a0-48ca-a496-b872dc6b7182",
   "metadata": {},
   "outputs": [],
   "source": [
    "#모델 앞 시간에 했던거 가져올거야"
   ]
  },
  {
   "cell_type": "code",
   "execution_count": 16,
   "id": "3138f2ac-e51f-4312-9b39-4425b5269b5f",
   "metadata": {},
   "outputs": [],
   "source": [
    "from sklearn.ensemble import RandomForestClassifier\n",
    "from lightgbm import LGBMClassifier\n",
    "from sklearn.metrics import accuracy_score"
   ]
  },
  {
   "cell_type": "code",
   "execution_count": 19,
   "id": "bf96e95f-1036-4d2d-8bd5-2ab523dfdaa6",
   "metadata": {
    "tags": []
   },
   "outputs": [
    {
     "data": {
      "text/plain": [
       "0.9702857142857143"
      ]
     },
     "execution_count": 19,
     "metadata": {},
     "output_type": "execute_result"
    }
   ],
   "source": [
    "rf_clf = RandomForestClassifier()\n",
    "rf_clf.fit(X_train,y_train)\n",
    "rf_pred = rf_clf.predict(X_test)\n",
    "accuracy_score(y_test,rf_pred)"
   ]
  },
  {
   "cell_type": "code",
   "execution_count": 20,
   "id": "8d7927ff-15d7-4ece-99fb-02e8605ffc99",
   "metadata": {
    "collapsed": true,
    "jupyter": {
     "outputs_hidden": true
    },
    "tags": []
   },
   "outputs": [
    {
     "name": "stderr",
     "output_type": "stream",
     "text": [
      "C:\\Users\\user\\anaconda3\\lib\\site-packages\\lightgbm\\sklearn.py:726: UserWarning: 'early_stopping_rounds' argument is deprecated and will be removed in a future release of LightGBM. Pass 'early_stopping()' callback via 'callbacks' argument instead.\n",
      "  _log_warning(\"'early_stopping_rounds' argument is deprecated and will be removed in a future release of LightGBM. \"\n",
      "C:\\Users\\user\\anaconda3\\lib\\site-packages\\lightgbm\\sklearn.py:736: UserWarning: 'verbose' argument is deprecated and will be removed in a future release of LightGBM. Pass 'log_evaluation()' callback via 'callbacks' argument instead.\n",
      "  _log_warning(\"'verbose' argument is deprecated and will be removed in a future release of LightGBM. \"\n"
     ]
    },
    {
     "name": "stdout",
     "output_type": "stream",
     "text": [
      "[1]\tvalid_0's multi_logloss: 1.69704\n",
      "[2]\tvalid_0's multi_logloss: 1.39514\n",
      "[3]\tvalid_0's multi_logloss: 1.18649\n",
      "[4]\tvalid_0's multi_logloss: 1.02882\n",
      "[5]\tvalid_0's multi_logloss: 0.902151\n",
      "[6]\tvalid_0's multi_logloss: 0.799543\n",
      "[7]\tvalid_0's multi_logloss: 0.714707\n",
      "[8]\tvalid_0's multi_logloss: 0.642923\n",
      "[9]\tvalid_0's multi_logloss: 0.581724\n",
      "[10]\tvalid_0's multi_logloss: 0.530053\n",
      "[11]\tvalid_0's multi_logloss: 0.485863\n",
      "[12]\tvalid_0's multi_logloss: 0.448063\n",
      "[13]\tvalid_0's multi_logloss: 0.41462\n",
      "[14]\tvalid_0's multi_logloss: 0.384327\n",
      "[15]\tvalid_0's multi_logloss: 0.357601\n",
      "[16]\tvalid_0's multi_logloss: 0.334738\n",
      "[17]\tvalid_0's multi_logloss: 0.314536\n",
      "[18]\tvalid_0's multi_logloss: 0.297234\n",
      "[19]\tvalid_0's multi_logloss: 0.280919\n",
      "[20]\tvalid_0's multi_logloss: 0.266535\n",
      "[21]\tvalid_0's multi_logloss: 0.253454\n",
      "[22]\tvalid_0's multi_logloss: 0.241548\n",
      "[23]\tvalid_0's multi_logloss: 0.230462\n",
      "[24]\tvalid_0's multi_logloss: 0.220661\n",
      "[25]\tvalid_0's multi_logloss: 0.211127\n",
      "[26]\tvalid_0's multi_logloss: 0.20247\n",
      "[27]\tvalid_0's multi_logloss: 0.194515\n",
      "[28]\tvalid_0's multi_logloss: 0.187282\n",
      "[29]\tvalid_0's multi_logloss: 0.180769\n",
      "[30]\tvalid_0's multi_logloss: 0.174782\n",
      "[31]\tvalid_0's multi_logloss: 0.169146\n",
      "[32]\tvalid_0's multi_logloss: 0.164158\n",
      "[33]\tvalid_0's multi_logloss: 0.159326\n",
      "[34]\tvalid_0's multi_logloss: 0.154886\n",
      "[35]\tvalid_0's multi_logloss: 0.150745\n",
      "[36]\tvalid_0's multi_logloss: 0.146778\n",
      "[37]\tvalid_0's multi_logloss: 0.14329\n",
      "[38]\tvalid_0's multi_logloss: 0.13987\n",
      "[39]\tvalid_0's multi_logloss: 0.136302\n",
      "[40]\tvalid_0's multi_logloss: 0.133262\n",
      "[41]\tvalid_0's multi_logloss: 0.130637\n",
      "[42]\tvalid_0's multi_logloss: 0.127634\n",
      "[43]\tvalid_0's multi_logloss: 0.125137\n",
      "[44]\tvalid_0's multi_logloss: 0.122737\n",
      "[45]\tvalid_0's multi_logloss: 0.120783\n",
      "[46]\tvalid_0's multi_logloss: 0.118653\n",
      "[47]\tvalid_0's multi_logloss: 0.11668\n",
      "[48]\tvalid_0's multi_logloss: 0.11538\n",
      "[49]\tvalid_0's multi_logloss: 0.113528\n",
      "[50]\tvalid_0's multi_logloss: 0.111524\n",
      "[51]\tvalid_0's multi_logloss: 0.110127\n",
      "[52]\tvalid_0's multi_logloss: 0.10824\n",
      "[53]\tvalid_0's multi_logloss: 0.106897\n",
      "[54]\tvalid_0's multi_logloss: 0.105749\n",
      "[55]\tvalid_0's multi_logloss: 0.104722\n",
      "[56]\tvalid_0's multi_logloss: 0.103487\n",
      "[57]\tvalid_0's multi_logloss: 0.102216\n",
      "[58]\tvalid_0's multi_logloss: 0.10106\n",
      "[59]\tvalid_0's multi_logloss: 0.10002\n",
      "[60]\tvalid_0's multi_logloss: 0.0985888\n",
      "[61]\tvalid_0's multi_logloss: 0.0973256\n",
      "[62]\tvalid_0's multi_logloss: 0.0963637\n",
      "[63]\tvalid_0's multi_logloss: 0.0952261\n",
      "[64]\tvalid_0's multi_logloss: 0.0943176\n",
      "[65]\tvalid_0's multi_logloss: 0.0934177\n",
      "[66]\tvalid_0's multi_logloss: 0.0923152\n",
      "[67]\tvalid_0's multi_logloss: 0.0915066\n",
      "[68]\tvalid_0's multi_logloss: 0.0907044\n",
      "[69]\tvalid_0's multi_logloss: 0.0899256\n",
      "[70]\tvalid_0's multi_logloss: 0.0890476\n",
      "[71]\tvalid_0's multi_logloss: 0.088257\n",
      "[72]\tvalid_0's multi_logloss: 0.0876832\n",
      "[73]\tvalid_0's multi_logloss: 0.0871036\n",
      "[74]\tvalid_0's multi_logloss: 0.0866183\n",
      "[75]\tvalid_0's multi_logloss: 0.0860559\n",
      "[76]\tvalid_0's multi_logloss: 0.0853245\n",
      "[77]\tvalid_0's multi_logloss: 0.0849289\n",
      "[78]\tvalid_0's multi_logloss: 0.0843094\n",
      "[79]\tvalid_0's multi_logloss: 0.0837893\n",
      "[80]\tvalid_0's multi_logloss: 0.0832451\n",
      "[81]\tvalid_0's multi_logloss: 0.0828275\n",
      "[82]\tvalid_0's multi_logloss: 0.0824013\n",
      "[83]\tvalid_0's multi_logloss: 0.0819034\n",
      "[84]\tvalid_0's multi_logloss: 0.0815724\n",
      "[85]\tvalid_0's multi_logloss: 0.0810666\n",
      "[86]\tvalid_0's multi_logloss: 0.0805747\n",
      "[87]\tvalid_0's multi_logloss: 0.0800705\n",
      "[88]\tvalid_0's multi_logloss: 0.0796692\n",
      "[89]\tvalid_0's multi_logloss: 0.0793193\n",
      "[90]\tvalid_0's multi_logloss: 0.0789968\n",
      "[91]\tvalid_0's multi_logloss: 0.0786611\n",
      "[92]\tvalid_0's multi_logloss: 0.0782677\n",
      "[93]\tvalid_0's multi_logloss: 0.077781\n",
      "[94]\tvalid_0's multi_logloss: 0.0773453\n",
      "[95]\tvalid_0's multi_logloss: 0.0769601\n",
      "[96]\tvalid_0's multi_logloss: 0.0766571\n",
      "[97]\tvalid_0's multi_logloss: 0.0764318\n",
      "[98]\tvalid_0's multi_logloss: 0.0761735\n",
      "[99]\tvalid_0's multi_logloss: 0.0759454\n",
      "[100]\tvalid_0's multi_logloss: 0.0755627\n",
      "[101]\tvalid_0's multi_logloss: 0.0753642\n",
      "[102]\tvalid_0's multi_logloss: 0.0750992\n",
      "[103]\tvalid_0's multi_logloss: 0.0748158\n",
      "[104]\tvalid_0's multi_logloss: 0.0744201\n",
      "[105]\tvalid_0's multi_logloss: 0.0741583\n",
      "[106]\tvalid_0's multi_logloss: 0.0740175\n",
      "[107]\tvalid_0's multi_logloss: 0.0737189\n",
      "[108]\tvalid_0's multi_logloss: 0.0732964\n",
      "[109]\tvalid_0's multi_logloss: 0.0731919\n",
      "[110]\tvalid_0's multi_logloss: 0.072931\n",
      "[111]\tvalid_0's multi_logloss: 0.0728221\n",
      "[112]\tvalid_0's multi_logloss: 0.0725695\n",
      "[113]\tvalid_0's multi_logloss: 0.0725996\n",
      "[114]\tvalid_0's multi_logloss: 0.072339\n",
      "[115]\tvalid_0's multi_logloss: 0.0720537\n",
      "[116]\tvalid_0's multi_logloss: 0.0718291\n",
      "[117]\tvalid_0's multi_logloss: 0.0716818\n",
      "[118]\tvalid_0's multi_logloss: 0.0714832\n",
      "[119]\tvalid_0's multi_logloss: 0.0712353\n",
      "[120]\tvalid_0's multi_logloss: 0.0711597\n",
      "[121]\tvalid_0's multi_logloss: 0.0710007\n",
      "[122]\tvalid_0's multi_logloss: 0.0708563\n",
      "[123]\tvalid_0's multi_logloss: 0.0706432\n",
      "[124]\tvalid_0's multi_logloss: 0.0704899\n",
      "[125]\tvalid_0's multi_logloss: 0.0702596\n",
      "[126]\tvalid_0's multi_logloss: 0.0701777\n",
      "[127]\tvalid_0's multi_logloss: 0.0701533\n",
      "[128]\tvalid_0's multi_logloss: 0.0699585\n",
      "[129]\tvalid_0's multi_logloss: 0.0697918\n",
      "[130]\tvalid_0's multi_logloss: 0.069667\n",
      "[131]\tvalid_0's multi_logloss: 0.0693635\n",
      "[132]\tvalid_0's multi_logloss: 0.0694034\n",
      "[133]\tvalid_0's multi_logloss: 0.0692022\n",
      "[134]\tvalid_0's multi_logloss: 0.0691343\n",
      "[135]\tvalid_0's multi_logloss: 0.0689671\n",
      "[136]\tvalid_0's multi_logloss: 0.0688315\n",
      "[137]\tvalid_0's multi_logloss: 0.0687916\n",
      "[138]\tvalid_0's multi_logloss: 0.0687402\n",
      "[139]\tvalid_0's multi_logloss: 0.068578\n",
      "[140]\tvalid_0's multi_logloss: 0.0685537\n",
      "[141]\tvalid_0's multi_logloss: 0.0683709\n",
      "[142]\tvalid_0's multi_logloss: 0.0683474\n",
      "[143]\tvalid_0's multi_logloss: 0.0683466\n",
      "[144]\tvalid_0's multi_logloss: 0.0681955\n",
      "[145]\tvalid_0's multi_logloss: 0.0681816\n",
      "[146]\tvalid_0's multi_logloss: 0.0680742\n",
      "[147]\tvalid_0's multi_logloss: 0.0681707\n",
      "[148]\tvalid_0's multi_logloss: 0.0682247\n",
      "[149]\tvalid_0's multi_logloss: 0.0680853\n",
      "[150]\tvalid_0's multi_logloss: 0.0680314\n",
      "[151]\tvalid_0's multi_logloss: 0.0678984\n",
      "[152]\tvalid_0's multi_logloss: 0.0677686\n",
      "[153]\tvalid_0's multi_logloss: 0.0676798\n",
      "[154]\tvalid_0's multi_logloss: 0.0677713\n",
      "[155]\tvalid_0's multi_logloss: 0.0679379\n",
      "[156]\tvalid_0's multi_logloss: 0.0678097\n",
      "[157]\tvalid_0's multi_logloss: 0.0678066\n",
      "[158]\tvalid_0's multi_logloss: 0.067806\n",
      "[159]\tvalid_0's multi_logloss: 0.0677665\n",
      "[160]\tvalid_0's multi_logloss: 0.0677885\n",
      "[161]\tvalid_0's multi_logloss: 0.0679304\n",
      "[162]\tvalid_0's multi_logloss: 0.0680391\n",
      "[163]\tvalid_0's multi_logloss: 0.0680253\n",
      "[164]\tvalid_0's multi_logloss: 0.0680101\n",
      "[165]\tvalid_0's multi_logloss: 0.0681008\n",
      "[166]\tvalid_0's multi_logloss: 0.0680611\n",
      "[167]\tvalid_0's multi_logloss: 0.0680911\n",
      "[168]\tvalid_0's multi_logloss: 0.0680517\n",
      "[169]\tvalid_0's multi_logloss: 0.0682235\n",
      "[170]\tvalid_0's multi_logloss: 0.0681641\n",
      "[171]\tvalid_0's multi_logloss: 0.0681239\n",
      "[172]\tvalid_0's multi_logloss: 0.0681194\n",
      "[173]\tvalid_0's multi_logloss: 0.0681656\n",
      "[174]\tvalid_0's multi_logloss: 0.0681246\n",
      "[175]\tvalid_0's multi_logloss: 0.0679905\n",
      "[176]\tvalid_0's multi_logloss: 0.068055\n",
      "[177]\tvalid_0's multi_logloss: 0.0681693\n",
      "[178]\tvalid_0's multi_logloss: 0.0681677\n",
      "[179]\tvalid_0's multi_logloss: 0.0680453\n",
      "[180]\tvalid_0's multi_logloss: 0.0679742\n",
      "[181]\tvalid_0's multi_logloss: 0.0681638\n",
      "[182]\tvalid_0's multi_logloss: 0.0682334\n",
      "[183]\tvalid_0's multi_logloss: 0.0683816\n",
      "[184]\tvalid_0's multi_logloss: 0.068572\n",
      "[185]\tvalid_0's multi_logloss: 0.0685913\n",
      "[186]\tvalid_0's multi_logloss: 0.0686597\n",
      "[187]\tvalid_0's multi_logloss: 0.0686793\n",
      "[188]\tvalid_0's multi_logloss: 0.0686774\n",
      "[189]\tvalid_0's multi_logloss: 0.0686722\n",
      "[190]\tvalid_0's multi_logloss: 0.0687896\n",
      "[191]\tvalid_0's multi_logloss: 0.0687685\n",
      "[192]\tvalid_0's multi_logloss: 0.0688019\n",
      "[193]\tvalid_0's multi_logloss: 0.0686904\n",
      "[194]\tvalid_0's multi_logloss: 0.0687521\n",
      "[195]\tvalid_0's multi_logloss: 0.0687682\n",
      "[196]\tvalid_0's multi_logloss: 0.0690114\n",
      "[197]\tvalid_0's multi_logloss: 0.0691078\n",
      "[198]\tvalid_0's multi_logloss: 0.0691978\n",
      "[199]\tvalid_0's multi_logloss: 0.0691851\n",
      "[200]\tvalid_0's multi_logloss: 0.0693013\n",
      "[201]\tvalid_0's multi_logloss: 0.0691527\n",
      "[202]\tvalid_0's multi_logloss: 0.0692516\n",
      "[203]\tvalid_0's multi_logloss: 0.0693161\n",
      "[204]\tvalid_0's multi_logloss: 0.0694125\n",
      "[205]\tvalid_0's multi_logloss: 0.0696058\n",
      "[206]\tvalid_0's multi_logloss: 0.069472\n",
      "[207]\tvalid_0's multi_logloss: 0.0694484\n",
      "[208]\tvalid_0's multi_logloss: 0.0695364\n",
      "[209]\tvalid_0's multi_logloss: 0.0695416\n",
      "[210]\tvalid_0's multi_logloss: 0.0696348\n",
      "[211]\tvalid_0's multi_logloss: 0.0696669\n",
      "[212]\tvalid_0's multi_logloss: 0.0696746\n",
      "[213]\tvalid_0's multi_logloss: 0.0698229\n",
      "[214]\tvalid_0's multi_logloss: 0.0698209\n",
      "[215]\tvalid_0's multi_logloss: 0.0698511\n",
      "[216]\tvalid_0's multi_logloss: 0.0700173\n",
      "[217]\tvalid_0's multi_logloss: 0.0699332\n",
      "[218]\tvalid_0's multi_logloss: 0.070125\n",
      "[219]\tvalid_0's multi_logloss: 0.0700829\n",
      "[220]\tvalid_0's multi_logloss: 0.070028\n",
      "[221]\tvalid_0's multi_logloss: 0.0700036\n",
      "[222]\tvalid_0's multi_logloss: 0.0702498\n",
      "[223]\tvalid_0's multi_logloss: 0.0702814\n",
      "[224]\tvalid_0's multi_logloss: 0.0703723\n",
      "[225]\tvalid_0's multi_logloss: 0.0704752\n",
      "[226]\tvalid_0's multi_logloss: 0.0705032\n",
      "[227]\tvalid_0's multi_logloss: 0.0705237\n",
      "[228]\tvalid_0's multi_logloss: 0.0706051\n",
      "[229]\tvalid_0's multi_logloss: 0.0706948\n",
      "[230]\tvalid_0's multi_logloss: 0.0708075\n",
      "[231]\tvalid_0's multi_logloss: 0.0708851\n",
      "[232]\tvalid_0's multi_logloss: 0.0708909\n",
      "[233]\tvalid_0's multi_logloss: 0.0709239\n",
      "[234]\tvalid_0's multi_logloss: 0.0712274\n",
      "[235]\tvalid_0's multi_logloss: 0.0713438\n",
      "[236]\tvalid_0's multi_logloss: 0.0715335\n",
      "[237]\tvalid_0's multi_logloss: 0.0716365\n",
      "[238]\tvalid_0's multi_logloss: 0.0717053\n",
      "[239]\tvalid_0's multi_logloss: 0.0718146\n",
      "[240]\tvalid_0's multi_logloss: 0.0719722\n",
      "[241]\tvalid_0's multi_logloss: 0.0720804\n",
      "[242]\tvalid_0's multi_logloss: 0.0721629\n",
      "[243]\tvalid_0's multi_logloss: 0.0722997\n",
      "[244]\tvalid_0's multi_logloss: 0.0724388\n",
      "[245]\tvalid_0's multi_logloss: 0.0724545\n",
      "[246]\tvalid_0's multi_logloss: 0.0723273\n",
      "[247]\tvalid_0's multi_logloss: 0.0725004\n",
      "[248]\tvalid_0's multi_logloss: 0.0725866\n",
      "[249]\tvalid_0's multi_logloss: 0.0726847\n",
      "[250]\tvalid_0's multi_logloss: 0.0728021\n",
      "[251]\tvalid_0's multi_logloss: 0.0728617\n",
      "[252]\tvalid_0's multi_logloss: 0.0729979\n",
      "[253]\tvalid_0's multi_logloss: 0.0730914\n"
     ]
    },
    {
     "data": {
      "text/plain": [
       "0.9804285714285714"
      ]
     },
     "execution_count": 20,
     "metadata": {},
     "output_type": "execute_result"
    }
   ],
   "source": [
    "lgbm_mapper = LGBMClassifier(n_estimators=400)\n",
    "evals=[(X_test,y_test)] #평가\n",
    "lgbm_mapper.fit(X_train,\n",
    "                y_train,\n",
    "                early_stopping_rounds=100,\n",
    "                eval_metric='logloss',\n",
    "                eval_set=evals,\n",
    "               verbose=True)\n",
    "lgbm_pred = lgbm_mapper.predict(X_test)\n",
    "accuracy_score(y_test,lgbm_pred)"
   ]
  },
  {
   "cell_type": "raw",
   "id": "fc247c64-37f4-4d6a-be07-d071a1931c6c",
   "metadata": {},
   "source": [
    "#0.9804285714285714"
   ]
  },
  {
   "cell_type": "code",
   "execution_count": 21,
   "id": "7c4a7632-2efb-4320-a9f7-10a32b3222f7",
   "metadata": {},
   "outputs": [],
   "source": [
    "import numpy as np\n",
    "import matplotlib.pyplot as plt"
   ]
  },
  {
   "cell_type": "code",
   "execution_count": 22,
   "id": "ac99c297-dd38-4ae2-9925-3e0549238a48",
   "metadata": {},
   "outputs": [
    {
     "data": {
      "text/plain": [
       "array([6912,  281, 1982, 6865, 3837, 1154, 5764, 1354, 5559,  807])"
      ]
     },
     "execution_count": 22,
     "metadata": {},
     "output_type": "execute_result"
    }
   ],
   "source": [
    "n_test = len(X_test)\n",
    "random_pick = np.random.randint(0,n_test,10)\n",
    "random_pick"
   ]
  },
  {
   "cell_type": "code",
   "execution_count": 26,
   "id": "d91b9a63-1fb2-492e-a0cf-09c1a0301195",
   "metadata": {},
   "outputs": [
    {
     "name": "stdout",
     "output_type": "stream",
     "text": [
      "['3', '7', '2', '7', '8', '2', '9', '1', '7', '2']\n"
     ]
    },
    {
     "data": {
      "image/png": "[encoded data removed]",
      "text/plain": [
       "<Figure size 864x360 with 10 Axes>"
      ]
     },
     "metadata": {
      "needs_background": "light"
     },
     "output_type": "display_data"
    }
   ],
   "source": [
    "random_pick = np.random.randint(0,n_test,10)\n",
    "\n",
    "fig = plt.figure(figsize=(12,5))\n",
    "axes = []\n",
    "for i in range(1,11):\n",
    "    axes.append(fig.add_subplot(2,5,i))\n",
    "    \n",
    "tmp_list = []\n",
    "for i in range(10):\n",
    "    tmp = X_test.iloc[random_pick[i]]\n",
    "    tmp = tmp.values.reshape(28,28)\n",
    "    tmp_list.append(tmp)\n",
    "    \n",
    "print(y_test.iloc[random_pick].tolist())\n",
    "\n",
    "for i in range(10):\n",
    "    axes[i].matshow(tmp_list[i])"
   ]
  },
  {
   "cell_type": "code",
   "execution_count": 28,
   "id": "9763132c-a559-409b-b334-c585b049bdb0",
   "metadata": {},
   "outputs": [],
   "source": [
    "import glob\n",
    "from PIL import Image"
   ]
  },
  {
   "cell_type": "code",
   "execution_count": 34,
   "id": "1f4e9d9a-173a-4aab-8302-5e11c2f74a42",
   "metadata": {
    "collapsed": true,
    "jupyter": {
     "outputs_hidden": true
    },
    "tags": []
   },
   "outputs": [
    {
     "name": "stdout",
     "output_type": "stream",
     "text": [
      "./data\\0.png\n",
      "['7'] ['5']\n"
     ]
    },
    {
     "data": {
      "image/png": "[encoded data removed]",
      "text/plain": [
       "<Figure size 432x288 with 1 Axes>"
      ]
     },
     "metadata": {
      "needs_background": "light"
     },
     "output_type": "display_data"
    },
    {
     "name": "stdout",
     "output_type": "stream",
     "text": [
      "./data\\1.png\n",
      "['1'] ['5']\n"
     ]
    },
    {
     "data": {
      "image/png": "[encoded data removed]",
      "text/plain": [
       "<Figure size 432x288 with 1 Axes>"
      ]
     },
     "metadata": {
      "needs_background": "light"
     },
     "output_type": "display_data"
    },
    {
     "name": "stdout",
     "output_type": "stream",
     "text": [
      "./data\\2.png\n",
      "['7'] ['5']\n"
     ]
    },
    {
     "data": {
      "image/png": "[encoded data removed]",
      "text/plain": [
       "<Figure size 432x288 with 1 Axes>"
      ]
     },
     "metadata": {
      "needs_background": "light"
     },
     "output_type": "display_data"
    },
    {
     "name": "stdout",
     "output_type": "stream",
     "text": [
      "./data\\3.png\n",
      "['7'] ['5']\n"
     ]
    },
    {
     "data": {
      "image/png": "[encoded data removed]",
      "text/plain": [
       "<Figure size 432x288 with 1 Axes>"
      ]
     },
     "metadata": {
      "needs_background": "light"
     },
     "output_type": "display_data"
    },
    {
     "name": "stdout",
     "output_type": "stream",
     "text": [
      "./data\\4.png\n",
      "['7'] ['1']\n"
     ]
    },
    {
     "data": {
      "image/png": "[encoded data removed]",
      "text/plain": [
       "<Figure size 432x288 with 1 Axes>"
      ]
     },
     "metadata": {
      "needs_background": "light"
     },
     "output_type": "display_data"
    },
    {
     "name": "stdout",
     "output_type": "stream",
     "text": [
      "./data\\5.png\n",
      "['7'] ['1']\n"
     ]
    },
    {
     "data": {
      "image/png": "[encoded data removed]",
      "text/plain": [
       "<Figure size 432x288 with 1 Axes>"
      ]
     },
     "metadata": {
      "needs_background": "light"
     },
     "output_type": "display_data"
    },
    {
     "name": "stdout",
     "output_type": "stream",
     "text": [
      "./data\\6.png\n",
      "['7'] ['2']\n"
     ]
    },
    {
     "data": {
      "image/png": "[encoded data removed]",
      "text/plain": [
       "<Figure size 432x288 with 1 Axes>"
      ]
     },
     "metadata": {
      "needs_background": "light"
     },
     "output_type": "display_data"
    },
    {
     "name": "stdout",
     "output_type": "stream",
     "text": [
      "./data\\7.png\n",
      "['5'] ['5']\n"
     ]
    },
    {
     "data": {
      "image/png": "[encoded data removed]",
      "text/plain": [
       "<Figure size 432x288 with 1 Axes>"
      ]
     },
     "metadata": {
      "needs_background": "light"
     },
     "output_type": "display_data"
    },
    {
     "name": "stdout",
     "output_type": "stream",
     "text": [
      "./data\\8.png\n",
      "['1'] ['7']\n"
     ]
    },
    {
     "data": {
      "image/png": "[encoded data removed]",
      "text/plain": [
       "<Figure size 432x288 with 1 Axes>"
      ]
     },
     "metadata": {
      "needs_background": "light"
     },
     "output_type": "display_data"
    },
    {
     "name": "stdout",
     "output_type": "stream",
     "text": [
      "./data\\9.png\n",
      "['5'] ['5']\n"
     ]
    },
    {
     "data": {
      "image/png": "[encoded data removed]",
      "text/plain": [
       "<Figure size 432x288 with 1 Axes>"
      ]
     },
     "metadata": {
      "needs_background": "light"
     },
     "output_type": "display_data"
    }
   ],
   "source": [
    "for path in glob.glob('./data/*.png'):\n",
    "    print(path) #경로가 올바른지 파일 확인\n",
    "    img = Image.open(path)\n",
    "    plt.imshow(img)\n",
    "    img = np.resize(img,(1,784)) #숫자값으로 확인\n",
    "    img = 255 - (img)\n",
    "    pred1 = rf_clf.predict(img)\n",
    "    pred2 = lgbm_mapper.predict(img)\n",
    "    print(pred1,pred2)\n",
    "    plt.show() #그림 맞는지 확인\n",
    "    # print(img)"
   ]
  },
  {
   "cell_type": "code",
   "execution_count": 35,
   "id": "d8fc7f8a-6652-4808-9f34-5a37b9844071",
   "metadata": {},
   "outputs": [],
   "source": [
    "import pickle"
   ]
  },
  {
   "cell_type": "code",
   "execution_count": 37,
   "id": "e85a7a02-eca6-4bd2-bb11-e657a9b5a052",
   "metadata": {},
   "outputs": [],
   "source": [
    "f = open('model1.pickle','wb')\n",
    "pickle.dump(rf_clf,f)"
   ]
  },
  {
   "cell_type": "code",
   "execution_count": 39,
   "id": "4b06f478-214f-4056-9891-4fdca7b67ba9",
   "metadata": {},
   "outputs": [],
   "source": [
    "f = open('model2.pickle','wb')\n",
    "pickle.dump(lgbm_mapper,f)"
   ]
  },
  {
   "cell_type": "code",
   "execution_count": 40,
   "id": "e6ff4a57-3c71-4ccf-86f5-a2d64b3eb42f",
   "metadata": {},
   "outputs": [],
   "source": [
    "#이 프로그램을 웹으로 > github"
   ]
  },
  {
   "cell_type": "code",
   "execution_count": null,
   "id": "249b2ca6-8e05-4904-b4be-98173a8d40d9",
   "metadata": {},
   "outputs": [],
   "source": [
    "#위 파일경로가 잘못 설정되었을 때 vscode에러나면 다시 이거 실행해서 할 것\n",
    "# f = open('model1.pickle','rb')\n",
    "# model = pickle.load(f)\n",
    "# model.predict(X_test)"
   ]
  }
 ],
 "metadata": {
  "kernelspec": {
   "display_name": "Python 3 (ipykernel)",
   "language": "python",
   "name": "python3"
  },
  "language_info": {
   "codemirror_mode": {
    "name": "ipython",
    "version": 3
   },
   "file_extension": ".py",
   "mimetype": "text/x-python",
   "name": "python",
   "nbconvert_exporter": "python",
   "pygments_lexer": "ipython3",
   "version": "3.9.7"
  }
 },
 "nbformat": 4,
 "nbformat_minor": 5
}
