{
 "cells": [
  {
   "cell_type": "markdown",
   "id": "9474705c-f9bf-4008-97cb-d95818f72f79",
   "metadata": {},
   "source": [
    "## 332 로지스틱 회귀"
   ]
  },
  {
   "cell_type": "code",
   "execution_count": 1,
   "id": "659bc990-08c3-47ba-b5a6-6efbb2aeca1f",
   "metadata": {},
   "outputs": [],
   "source": [
    "#shift +M 합침"
   ]
  },
  {
   "cell_type": "code",
   "execution_count": 2,
   "id": "13f9dfdb-ce93-4142-83a0-e303b9946797",
   "metadata": {},
   "outputs": [],
   "source": [
    "import pandas as pd\n",
    "import matplotlib.pyplot as plt\n",
    "from sklearn.datasets import load_breast_cancer\n",
    "from sklearn.linear_model import LogisticRegression\n",
    "\n",
    "from sklearn.preprocessing import StandardScaler\n",
    "from sklearn.model_selection import train_test_split,GridSearchCV\n",
    "from sklearn.metrics import accuracy_score,roc_auc_score\n",
    "\n",
    "import warnings\n",
    "warnings.filterwarnings('ignore')"
   ]
  },
  {
   "cell_type": "code",
   "execution_count": 3,
   "id": "1598ebdc-0bbf-4eac-93ba-21fe777a8666",
   "metadata": {},
   "outputs": [],
   "source": [
    "cancer = load_breast_cancer()"
   ]
  },
  {
   "cell_type": "code",
   "execution_count": 4,
   "id": "84ee5dc7-1767-4e06-afe6-b47ee206559d",
   "metadata": {},
   "outputs": [],
   "source": [
    "data_scaled = StandardScaler().fit_transform(cancer.data)"
   ]
  },
  {
   "cell_type": "code",
   "execution_count": 5,
   "id": "e32a2441-7b1d-4ceb-8b9f-848110b6783e",
   "metadata": {},
   "outputs": [],
   "source": [
    "X_train,X_test,y_train,y_test = train_test_split(data_scaled,\n",
    "                                                 cancer.target,\n",
    "                                                test_size=0.3,\n",
    "                                                random_state=0)"
   ]
  },
  {
   "cell_type": "code",
   "execution_count": 12,
   "id": "9bbc74ee-fb4d-46a0-bf90-ac0803ced92b",
   "metadata": {},
   "outputs": [],
   "source": [
    "clf = LogisticRegression(C=0.01, penalty='l1',solver='liblinear');"
   ]
  },
  {
   "cell_type": "code",
   "execution_count": 13,
   "id": "bb751b6e-fc25-46bd-a006-0b093013dbe4",
   "metadata": {},
   "outputs": [
    {
     "data": {
      "text/plain": [
       "(0.9766081871345029, 0.9715608465608465)"
      ]
     },
     "execution_count": 13,
     "metadata": {},
     "output_type": "execute_result"
    }
   ],
   "source": [
    "lr_clf = LogisticRegression()\n",
    "lr_clf.fit(X_train,y_train)\n",
    "lr_preds = lr_clf.predict(X_test)\n",
    "accuracy_score(y_test,lr_preds),roc_auc_score(y_test,lr_preds)"
   ]
  },
  {
   "cell_type": "code",
   "execution_count": 18,
   "id": "93f7bcab-d695-4be8-ba91-9280d8ab435b",
   "metadata": {
    "tags": []
   },
   "outputs": [
    {
     "data": {
      "text/plain": [
       "({'C': 1, 'penalty': 'l2'}, 0.975392184164114)"
      ]
     },
     "execution_count": 18,
     "metadata": {},
     "output_type": "execute_result"
    }
   ],
   "source": [
    "params = {'penalty':['l2','l1'],\n",
    "         'C':[.01,.1,1,1,5,10]}\n",
    "grid_clf = GridSearchCV(lr_clf,param_grid=params,scoring='accuracy',cv=3)\n",
    "grid_clf.fit(data_scaled,cancer.target)\n",
    "grid_clf.best_params_,grid_clf.best_score_"
   ]
  },
  {
   "cell_type": "code",
   "execution_count": 19,
   "id": "384b7030-2d8d-4f82-b3fb-5080d8a448f1",
   "metadata": {},
   "outputs": [
    {
     "data": {
      "text/plain": [
       "{'C': 1, 'penalty': 'l2'}"
      ]
     },
     "execution_count": 19,
     "metadata": {},
     "output_type": "execute_result"
    }
   ],
   "source": [
    "grid_clf.best_params_"
   ]
  },
  {
   "cell_type": "code",
   "execution_count": null,
   "id": "4ccb5611-89b3-438b-9f47-ef50b4e639bb",
   "metadata": {},
   "outputs": [],
   "source": [
    "grid_clf.best_score_"
   ]
  },
  {
   "cell_type": "code",
   "execution_count": null,
   "id": "0be96847-acc8-4119-ada8-35e1b2870539",
   "metadata": {},
   "outputs": [],
   "source": []
  }
 ],
 "metadata": {
  "kernelspec": {
   "display_name": "Python 3 (ipykernel)",
   "language": "python",
   "name": "python3"
  },
  "language_info": {
   "codemirror_mode": {
    "name": "ipython",
    "version": 3
   },
   "file_extension": ".py",
   "mimetype": "text/x-python",
   "name": "python",
   "nbconvert_exporter": "python",
   "pygments_lexer": "ipython3",
   "version": "3.9.7"
  }
 },
 "nbformat": 4,
 "nbformat_minor": 5
}
