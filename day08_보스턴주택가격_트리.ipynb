{
 "cells": [
  {
   "cell_type": "code",
   "execution_count": 10,
   "id": "88447c36-c192-431e-b96d-1bd3bf7a4da9",
   "metadata": {},
   "outputs": [],
   "source": [
    "from sklearn.datasets import load_boston\n",
    "from sklearn.model_selection import cross_val_score\n",
    "from sklearn.ensemble import RandomForestRegressor\n",
    "import pandas as pd\n",
    "import numpy as np\n",
    "import seaborn as sns"
   ]
  },
  {
   "cell_type": "code",
   "execution_count": 2,
   "id": "970c9eda-dd4e-42e7-9dbb-776c707b98c8",
   "metadata": {},
   "outputs": [],
   "source": [
    "boston = load_boston()\n",
    "bostonDF = pd.DataFrame(boston.data,columns=boston.feature_names)\n",
    "bostonDF['PRICE'] = boston.target\n",
    "y = bostonDF.PRICE\n",
    "X = bostonDF.drop(columns=['PRICE'])"
   ]
  },
  {
   "cell_type": "code",
   "execution_count": 3,
   "id": "20ca4a7f-25f5-4b28-982f-9a996bfcbe4a",
   "metadata": {},
   "outputs": [
    {
     "data": {
      "text/plain": [
       "(array([ -7.88, -13.14, -20.57, -46.23, -18.88]),\n",
       " array([2.81, 3.63, 4.54, 6.8 , 4.34]),\n",
       " 4.42)"
      ]
     },
     "execution_count": 3,
     "metadata": {},
     "output_type": "execute_result"
    }
   ],
   "source": [
    "rf = RandomForestRegressor(1000,random_state=0)\n",
    "neg_mse_scores = cross_val_score(rf,X,y,scoring='neg_mean_squared_error',cv=5)\n",
    "rmse_scores = np.sqrt(-1*neg_mse_scores)\n",
    "avg_rmse = np.mean(rmse_scores)\n",
    "np.round(neg_mse_scores,2),np.round(rmse_scores,2),np.round(avg_rmse,2)"
   ]
  },
  {
   "cell_type": "code",
   "execution_count": 4,
   "id": "75d56534-5755-46a5-8d30-d58fe33deb25",
   "metadata": {},
   "outputs": [],
   "source": [
    "def get_model_cv_prediction(model,X,y):\n",
    "    neg_mse_scores = cross_val_score(model,X,y,scoring='neg_mean_squared_error',cv=5)\n",
    "    rmse_scores = np.sqrt(-1*neg_mse_scores)\n",
    "    avg_rmse = np.mean(rmse_scores)\n",
    "    print('###',model.__class__.__name__,'###')\n",
    "    print(f'교차검증 평균 RMSE : {avg_rmse:.3f}')"
   ]
  },
  {
   "cell_type": "code",
   "execution_count": 5,
   "id": "dab2ca7b-7ad2-4602-9494-cffa3bb7ba09",
   "metadata": {},
   "outputs": [],
   "source": [
    "from sklearn.tree import DecisionTreeRegressor\n",
    "from sklearn.ensemble import GradientBoostingRegressor"
   ]
  },
  {
   "cell_type": "code",
   "execution_count": 6,
   "id": "a1613ad5-7848-46e4-a48e-588e5aba1dd1",
   "metadata": {},
   "outputs": [
    {
     "name": "stdout",
     "output_type": "stream",
     "text": [
      "### DecisionTreeRegressor ###\n",
      "교차검증 평균 RMSE : 5.978\n"
     ]
    }
   ],
   "source": [
    "dt_reg = DecisionTreeRegressor(random_state=0,max_depth=4)\n",
    "get_model_cv_prediction(dt_reg,X,y)"
   ]
  },
  {
   "cell_type": "code",
   "execution_count": 7,
   "id": "29c40116-141c-44d3-a888-c4df8593eaf8",
   "metadata": {},
   "outputs": [
    {
     "name": "stdout",
     "output_type": "stream",
     "text": [
      "### GradientBoostingRegressor ###\n",
      "교차검증 평균 RMSE : 4.269\n"
     ]
    }
   ],
   "source": [
    "gb_reg = GradientBoostingRegressor(random_state=0,n_estimators=1000)\n",
    "get_model_cv_prediction(gb_reg,X,y)"
   ]
  },
  {
   "cell_type": "code",
   "execution_count": 8,
   "id": "db8406f6-3411-4320-b291-2415c795c77e",
   "metadata": {},
   "outputs": [
    {
     "data": {
      "text/plain": [
       "RandomForestRegressor(n_estimators=1000, random_state=0)"
      ]
     },
     "execution_count": 8,
     "metadata": {},
     "output_type": "execute_result"
    }
   ],
   "source": [
    "rf = RandomForestRegressor(1000,random_state=0)\n",
    "rf.fit(X,y)"
   ]
  },
  {
   "cell_type": "code",
   "execution_count": 9,
   "id": "e1afe7a8-9455-453f-a93f-f6c9eef5232d",
   "metadata": {},
   "outputs": [
    {
     "data": {
      "text/plain": [
       "array([0.03937078, 0.00111554, 0.00568797, 0.00098457, 0.02301797,\n",
       "       0.42660606, 0.01294374, 0.06578745, 0.00375848, 0.01470154,\n",
       "       0.01713201, 0.01135876, 0.37753512])"
      ]
     },
     "execution_count": 9,
     "metadata": {},
     "output_type": "execute_result"
    }
   ],
   "source": [
    "rf.feature_importances_"
   ]
  },
  {
   "cell_type": "code",
   "execution_count": 11,
   "id": "2000ccc5-dcde-46a4-ae11-3723baa03220",
   "metadata": {},
   "outputs": [
    {
     "data": {
      "text/plain": [
       "<AxesSubplot:>"
      ]
     },
     "execution_count": 11,
     "metadata": {},
     "output_type": "execute_result"
    },
    {
     "data": {
      "image/png": "[encoded data removed]",
      "text/plain": [
       "<Figure size 432x288 with 1 Axes>"
      ]
     },
     "metadata": {
      "needs_background": "light"
     },
     "output_type": "display_data"
    }
   ],
   "source": [
    "feature_series = pd.Series(rf.feature_importances_,X.columns)\n",
    "feature_series = feature_series.sort_values(ascending=False)\n",
    "sns.barplot(x=feature_series,y=feature_series.index)"
   ]
  },
  {
   "cell_type": "code",
   "execution_count": null,
   "id": "ed0fe635-a1d8-4f55-8186-6d571e91f6bb",
   "metadata": {},
   "outputs": [],
   "source": []
  }
 ],
 "metadata": {
  "kernelspec": {
   "display_name": "Python 3 (ipykernel)",
   "language": "python",
   "name": "python3"
  },
  "language_info": {
   "codemirror_mode": {
    "name": "ipython",
    "version": 3
   },
   "file_extension": ".py",
   "mimetype": "text/x-python",
   "name": "python",
   "nbconvert_exporter": "python",
   "pygments_lexer": "ipython3",
   "version": "3.9.7"
  }
 },
 "nbformat": 4,
 "nbformat_minor": 5
}
