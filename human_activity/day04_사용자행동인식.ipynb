{
 "cells": [
  {
   "cell_type": "code",
   "execution_count": 1,
   "id": "424d80a8-b156-4ac5-9644-38e15084eca8",
   "metadata": {},
   "outputs": [],
   "source": [
    "import pandas as pd\n",
    "import matplotlib.pyplot as plt"
   ]
  },
  {
   "cell_type": "code",
   "execution_count": 7,
   "id": "1e88b66d-8ce0-4a52-a8db-b70664de674f",
   "metadata": {},
   "outputs": [],
   "source": [
    "feature_name_df = pd.read_csv('human_activity/features.txt',\n",
    "                              sep='\\s+',\n",
    "                             header=None,\n",
    "                             names=['column_index','column_name'])"
   ]
  },
  {
   "cell_type": "code",
   "execution_count": 8,
   "id": "d59a6dc7-8572-4c02-857c-44a7684dacb2",
   "metadata": {},
   "outputs": [
    {
     "data": {
      "text/html": [
       "<div>\n",
       "<style scoped>\n",
       "    .dataframe tbody tr th:only-of-type {\n",
       "        vertical-align: middle;\n",
       "    }\n",
       "\n",
       "    .dataframe tbody tr th {\n",
       "        vertical-align: top;\n",
       "    }\n",
       "\n",
       "    .dataframe thead th {\n",
       "        text-align: right;\n",
       "    }\n",
       "</style>\n",
       "<table border=\"1\" class=\"dataframe\">\n",
       "  <thead>\n",
       "    <tr style=\"text-align: right;\">\n",
       "      <th></th>\n",
       "      <th>column_index</th>\n",
       "      <th>column_name</th>\n",
       "    </tr>\n",
       "  </thead>\n",
       "  <tbody>\n",
       "    <tr>\n",
       "      <th>0</th>\n",
       "      <td>1</td>\n",
       "      <td>tBodyAcc-mean()-X</td>\n",
       "    </tr>\n",
       "    <tr>\n",
       "      <th>1</th>\n",
       "      <td>2</td>\n",
       "      <td>tBodyAcc-mean()-Y</td>\n",
       "    </tr>\n",
       "    <tr>\n",
       "      <th>2</th>\n",
       "      <td>3</td>\n",
       "      <td>tBodyAcc-mean()-Z</td>\n",
       "    </tr>\n",
       "    <tr>\n",
       "      <th>3</th>\n",
       "      <td>4</td>\n",
       "      <td>tBodyAcc-std()-X</td>\n",
       "    </tr>\n",
       "    <tr>\n",
       "      <th>4</th>\n",
       "      <td>5</td>\n",
       "      <td>tBodyAcc-std()-Y</td>\n",
       "    </tr>\n",
       "    <tr>\n",
       "      <th>...</th>\n",
       "      <td>...</td>\n",
       "      <td>...</td>\n",
       "    </tr>\n",
       "    <tr>\n",
       "      <th>556</th>\n",
       "      <td>557</td>\n",
       "      <td>angle(tBodyGyroMean,gravityMean)</td>\n",
       "    </tr>\n",
       "    <tr>\n",
       "      <th>557</th>\n",
       "      <td>558</td>\n",
       "      <td>angle(tBodyGyroJerkMean,gravityMean)</td>\n",
       "    </tr>\n",
       "    <tr>\n",
       "      <th>558</th>\n",
       "      <td>559</td>\n",
       "      <td>angle(X,gravityMean)</td>\n",
       "    </tr>\n",
       "    <tr>\n",
       "      <th>559</th>\n",
       "      <td>560</td>\n",
       "      <td>angle(Y,gravityMean)</td>\n",
       "    </tr>\n",
       "    <tr>\n",
       "      <th>560</th>\n",
       "      <td>561</td>\n",
       "      <td>angle(Z,gravityMean)</td>\n",
       "    </tr>\n",
       "  </tbody>\n",
       "</table>\n",
       "<p>561 rows × 2 columns</p>\n",
       "</div>"
      ],
      "text/plain": [
       "     column_index                           column_name\n",
       "0               1                     tBodyAcc-mean()-X\n",
       "1               2                     tBodyAcc-mean()-Y\n",
       "2               3                     tBodyAcc-mean()-Z\n",
       "3               4                      tBodyAcc-std()-X\n",
       "4               5                      tBodyAcc-std()-Y\n",
       "..            ...                                   ...\n",
       "556           557      angle(tBodyGyroMean,gravityMean)\n",
       "557           558  angle(tBodyGyroJerkMean,gravityMean)\n",
       "558           559                  angle(X,gravityMean)\n",
       "559           560                  angle(Y,gravityMean)\n",
       "560           561                  angle(Z,gravityMean)\n",
       "\n",
       "[561 rows x 2 columns]"
      ]
     },
     "execution_count": 8,
     "metadata": {},
     "output_type": "execute_result"
    }
   ],
   "source": [
    "feature_name_df"
   ]
  },
  {
   "cell_type": "code",
   "execution_count": 9,
   "id": "c9b26f32-ed69-4ff9-8f76-b99b56e50be1",
   "metadata": {},
   "outputs": [
    {
     "data": {
      "text/plain": [
       "['tBodyAcc-mean()-X',\n",
       " 'tBodyAcc-mean()-Y',\n",
       " 'tBodyAcc-mean()-Z',\n",
       " 'tBodyAcc-std()-X',\n",
       " 'tBodyAcc-std()-Y',\n",
       " 'tBodyAcc-std()-Z',\n",
       " 'tBodyAcc-mad()-X',\n",
       " 'tBodyAcc-mad()-Y',\n",
       " 'tBodyAcc-mad()-Z',\n",
       " 'tBodyAcc-max()-X']"
      ]
     },
     "execution_count": 9,
     "metadata": {},
     "output_type": "execute_result"
    }
   ],
   "source": [
    "feature_name = feature_name_df.iloc[:,1].values.tolist()\n",
    "feature_name[:10] #앞쪽부터 10개만 뽑을거야"
   ]
  },
  {
   "cell_type": "code",
   "execution_count": 12,
   "id": "9b82fe85-f4ba-49e3-8a15-daf494a49a85",
   "metadata": {},
   "outputs": [
    {
     "data": {
      "text/plain": [
       "column_index    42\n",
       "dtype: int64"
      ]
     },
     "execution_count": 12,
     "metadata": {},
     "output_type": "execute_result"
    }
   ],
   "source": [
    "feature_dup_df = feature_name_df.groupby('column_name').count()\n",
    "feature_dup_df[feature_dup_df['column_index']>1].count() #중복되는 데이터만 보기"
   ]
  },
  {
   "cell_type": "code",
   "execution_count": 13,
   "id": "7ee0caa5-8a6c-4360-9642-bb6c3c8044f9",
   "metadata": {},
   "outputs": [
    {
     "data": {
      "text/html": [
       "<div>\n",
       "<style scoped>\n",
       "    .dataframe tbody tr th:only-of-type {\n",
       "        vertical-align: middle;\n",
       "    }\n",
       "\n",
       "    .dataframe tbody tr th {\n",
       "        vertical-align: top;\n",
       "    }\n",
       "\n",
       "    .dataframe thead th {\n",
       "        text-align: right;\n",
       "    }\n",
       "</style>\n",
       "<table border=\"1\" class=\"dataframe\">\n",
       "  <thead>\n",
       "    <tr style=\"text-align: right;\">\n",
       "      <th></th>\n",
       "      <th>column_index</th>\n",
       "    </tr>\n",
       "    <tr>\n",
       "      <th>column_name</th>\n",
       "      <th></th>\n",
       "    </tr>\n",
       "  </thead>\n",
       "  <tbody>\n",
       "    <tr>\n",
       "      <th>fBodyAcc-bandsEnergy()-1,16</th>\n",
       "      <td>3</td>\n",
       "    </tr>\n",
       "    <tr>\n",
       "      <th>fBodyAcc-bandsEnergy()-1,24</th>\n",
       "      <td>3</td>\n",
       "    </tr>\n",
       "    <tr>\n",
       "      <th>fBodyAcc-bandsEnergy()-1,8</th>\n",
       "      <td>3</td>\n",
       "    </tr>\n",
       "  </tbody>\n",
       "</table>\n",
       "</div>"
      ],
      "text/plain": [
       "                             column_index\n",
       "column_name                              \n",
       "fBodyAcc-bandsEnergy()-1,16             3\n",
       "fBodyAcc-bandsEnergy()-1,24             3\n",
       "fBodyAcc-bandsEnergy()-1,8              3"
      ]
     },
     "execution_count": 13,
     "metadata": {},
     "output_type": "execute_result"
    }
   ],
   "source": [
    "feature_dup_df[feature_dup_df['column_index']>1].head(3) #중복되는 데이터 중 3개만 보기"
   ]
  },
  {
   "cell_type": "code",
   "execution_count": 29,
   "id": "8ecfb0d1-ef86-4279-85ce-d549531a7aa0",
   "metadata": {},
   "outputs": [],
   "source": [
    "def get_new_feature_name_df(old):\n",
    "    feature_dup_df = pd.DataFrame(data=old.groupby('column_name').cumcount(), #'column_name'이 같은 것끼리 묶을거, 같은 데이터끼리 묶어서 번호 매겨줌\n",
    "                                 columns=['dup_cnt']) \n",
    "    feature_dup_df = feature_dup_df.reset_index() #기존의 인덱스값을 컬럼으로 만들기\n",
    "    new_feature_name_df = pd.merge(old.reset_index(),feature_dup_df,how='outer') #이름이 같은 컬럼을 매칭시켜 옆으로 이동\n",
    "    new_feature_name_df['column_name']=new_feature_name_df[['column_name','dup_cnt']].apply(lambda x:x[0]+'_'+str(x[1]) if x[1] > 0 else x[0] , axis=1) #앞인덱스는0 뒤는1로 접근\n",
    "    new_feature_name_df = new_feature_name_df.drop(columns=['index'])\n",
    "    return new_feature_name_df"
   ]
  },
  {
   "cell_type": "code",
   "execution_count": 30,
   "id": "a03a61b2-9b3f-4980-9642-823f666c21f5",
   "metadata": {
    "tags": []
   },
   "outputs": [
    {
     "data": {
      "text/html": [
       "<div>\n",
       "<style scoped>\n",
       "    .dataframe tbody tr th:only-of-type {\n",
       "        vertical-align: middle;\n",
       "    }\n",
       "\n",
       "    .dataframe tbody tr th {\n",
       "        vertical-align: top;\n",
       "    }\n",
       "\n",
       "    .dataframe thead th {\n",
       "        text-align: right;\n",
       "    }\n",
       "</style>\n",
       "<table border=\"1\" class=\"dataframe\">\n",
       "  <thead>\n",
       "    <tr style=\"text-align: right;\">\n",
       "      <th></th>\n",
       "      <th>column_index</th>\n",
       "      <th>column_name</th>\n",
       "      <th>dup_cnt</th>\n",
       "    </tr>\n",
       "  </thead>\n",
       "  <tbody>\n",
       "    <tr>\n",
       "      <th>316</th>\n",
       "      <td>317</td>\n",
       "      <td>fBodyAcc-bandsEnergy()-1,8_1</td>\n",
       "      <td>1</td>\n",
       "    </tr>\n",
       "    <tr>\n",
       "      <th>317</th>\n",
       "      <td>318</td>\n",
       "      <td>fBodyAcc-bandsEnergy()-9,16_1</td>\n",
       "      <td>1</td>\n",
       "    </tr>\n",
       "    <tr>\n",
       "      <th>318</th>\n",
       "      <td>319</td>\n",
       "      <td>fBodyAcc-bandsEnergy()-17,24_1</td>\n",
       "      <td>1</td>\n",
       "    </tr>\n",
       "    <tr>\n",
       "      <th>319</th>\n",
       "      <td>320</td>\n",
       "      <td>fBodyAcc-bandsEnergy()-25,32_1</td>\n",
       "      <td>1</td>\n",
       "    </tr>\n",
       "    <tr>\n",
       "      <th>320</th>\n",
       "      <td>321</td>\n",
       "      <td>fBodyAcc-bandsEnergy()-33,40_1</td>\n",
       "      <td>1</td>\n",
       "    </tr>\n",
       "    <tr>\n",
       "      <th>...</th>\n",
       "      <td>...</td>\n",
       "      <td>...</td>\n",
       "      <td>...</td>\n",
       "    </tr>\n",
       "    <tr>\n",
       "      <th>497</th>\n",
       "      <td>498</td>\n",
       "      <td>fBodyGyro-bandsEnergy()-17,32_2</td>\n",
       "      <td>2</td>\n",
       "    </tr>\n",
       "    <tr>\n",
       "      <th>498</th>\n",
       "      <td>499</td>\n",
       "      <td>fBodyGyro-bandsEnergy()-33,48_2</td>\n",
       "      <td>2</td>\n",
       "    </tr>\n",
       "    <tr>\n",
       "      <th>499</th>\n",
       "      <td>500</td>\n",
       "      <td>fBodyGyro-bandsEnergy()-49,64_2</td>\n",
       "      <td>2</td>\n",
       "    </tr>\n",
       "    <tr>\n",
       "      <th>500</th>\n",
       "      <td>501</td>\n",
       "      <td>fBodyGyro-bandsEnergy()-1,24_2</td>\n",
       "      <td>2</td>\n",
       "    </tr>\n",
       "    <tr>\n",
       "      <th>501</th>\n",
       "      <td>502</td>\n",
       "      <td>fBodyGyro-bandsEnergy()-25,48_2</td>\n",
       "      <td>2</td>\n",
       "    </tr>\n",
       "  </tbody>\n",
       "</table>\n",
       "<p>84 rows × 3 columns</p>\n",
       "</div>"
      ],
      "text/plain": [
       "     column_index                      column_name  dup_cnt\n",
       "316           317     fBodyAcc-bandsEnergy()-1,8_1        1\n",
       "317           318    fBodyAcc-bandsEnergy()-9,16_1        1\n",
       "318           319   fBodyAcc-bandsEnergy()-17,24_1        1\n",
       "319           320   fBodyAcc-bandsEnergy()-25,32_1        1\n",
       "320           321   fBodyAcc-bandsEnergy()-33,40_1        1\n",
       "..            ...                              ...      ...\n",
       "497           498  fBodyGyro-bandsEnergy()-17,32_2        2\n",
       "498           499  fBodyGyro-bandsEnergy()-33,48_2        2\n",
       "499           500  fBodyGyro-bandsEnergy()-49,64_2        2\n",
       "500           501   fBodyGyro-bandsEnergy()-1,24_2        2\n",
       "501           502  fBodyGyro-bandsEnergy()-25,48_2        2\n",
       "\n",
       "[84 rows x 3 columns]"
      ]
     },
     "execution_count": 30,
     "metadata": {},
     "output_type": "execute_result"
    }
   ],
   "source": [
    "df = get_new_feature_name_df(feature_name_df)\n",
    "df[df['dup_cnt']>0]"
   ]
  },
  {
   "cell_type": "code",
   "execution_count": 33,
   "id": "71366f9a-0020-42fe-8a8d-5ecf74a8dc92",
   "metadata": {},
   "outputs": [],
   "source": [
    "def get_human_dataset():\n",
    "    feature_name_df = pd.read_csv('human_activity/features.txt',\n",
    "                              sep='\\s+',\n",
    "                             header=None,\n",
    "                             names=['column_index','column_name'])\n",
    "    new_feature_name_df = get_new_feature_name_df(feature_name_df)\n",
    "    feature_name = new_feature_name_df.iloc[:,1].values.tolist()\n",
    "    X_train = pd.read_csv('human_activity/train/X_train.txt',sep='\\s+',names=feature_name)\n",
    "    X_test = pd.read_csv('human_activity/test/X_test.txt',sep='\\s+',names=feature_name)\n",
    "    y_train = pd.read_csv('human_activity/train/y_train.txt',sep='\\s+',header=None,names=['action'])\n",
    "    y_test = pd.read_csv('human_activity/test/y_test.txt',sep='\\s+',header=None,names=['action'])\n",
    "    return X_train,X_test,y_train,y_test"
   ]
  },
  {
   "cell_type": "code",
   "execution_count": 34,
   "id": "4bf6bca7-d6ae-458f-9d2e-382aacd3e5c9",
   "metadata": {
    "collapsed": true,
    "jupyter": {
     "outputs_hidden": true
    },
    "tags": []
   },
   "outputs": [
    {
     "data": {
      "text/plain": [
       "(      tBodyAcc-mean()-X  tBodyAcc-mean()-Y  tBodyAcc-mean()-Z  \\\n",
       " 0              0.288585          -0.020294          -0.132905   \n",
       " 1              0.278419          -0.016411          -0.123520   \n",
       " 2              0.279653          -0.019467          -0.113462   \n",
       " 3              0.279174          -0.026201          -0.123283   \n",
       " 4              0.276629          -0.016570          -0.115362   \n",
       " ...                 ...                ...                ...   \n",
       " 7347           0.299665          -0.057193          -0.181233   \n",
       " 7348           0.273853          -0.007749          -0.147468   \n",
       " 7349           0.273387          -0.017011          -0.045022   \n",
       " 7350           0.289654          -0.018843          -0.158281   \n",
       " 7351           0.351503          -0.012423          -0.203867   \n",
       " \n",
       "       tBodyAcc-std()-X  tBodyAcc-std()-Y  tBodyAcc-std()-Z  tBodyAcc-mad()-X  \\\n",
       " 0            -0.995279         -0.983111         -0.913526         -0.995112   \n",
       " 1            -0.998245         -0.975300         -0.960322         -0.998807   \n",
       " 2            -0.995380         -0.967187         -0.978944         -0.996520   \n",
       " 3            -0.996091         -0.983403         -0.990675         -0.997099   \n",
       " 4            -0.998139         -0.980817         -0.990482         -0.998321   \n",
       " ...                ...               ...               ...               ...   \n",
       " 7347         -0.195387          0.039905          0.077078         -0.282301   \n",
       " 7348         -0.235309          0.004816          0.059280         -0.322552   \n",
       " 7349         -0.218218         -0.103822          0.274533         -0.304515   \n",
       " 7350         -0.219139         -0.111412          0.268893         -0.310487   \n",
       " 7351         -0.269270         -0.087212          0.177404         -0.377404   \n",
       " \n",
       "       tBodyAcc-mad()-Y  tBodyAcc-mad()-Z  tBodyAcc-max()-X  ...  \\\n",
       " 0            -0.983185         -0.923527         -0.934724  ...   \n",
       " 1            -0.974914         -0.957686         -0.943068  ...   \n",
       " 2            -0.963668         -0.977469         -0.938692  ...   \n",
       " 3            -0.982750         -0.989302         -0.938692  ...   \n",
       " 4            -0.979672         -0.990441         -0.942469  ...   \n",
       " ...                ...               ...               ...  ...   \n",
       " 7347          0.043616          0.060410          0.210795  ...   \n",
       " 7348         -0.029456          0.080585          0.117440  ...   \n",
       " 7349         -0.098913          0.332584          0.043999  ...   \n",
       " 7350         -0.068200          0.319473          0.101702  ...   \n",
       " 7351         -0.038678          0.229430          0.269013  ...   \n",
       " \n",
       "       fBodyBodyGyroJerkMag-meanFreq()  fBodyBodyGyroJerkMag-skewness()  \\\n",
       " 0                           -0.074323                        -0.298676   \n",
       " 1                            0.158075                        -0.595051   \n",
       " 2                            0.414503                        -0.390748   \n",
       " 3                            0.404573                        -0.117290   \n",
       " 4                            0.087753                        -0.351471   \n",
       " ...                               ...                              ...   \n",
       " 7347                        -0.070157                        -0.588433   \n",
       " 7348                         0.165259                        -0.390738   \n",
       " 7349                         0.195034                         0.025145   \n",
       " 7350                         0.013865                         0.063907   \n",
       " 7351                        -0.058402                        -0.387052   \n",
       " \n",
       "       fBodyBodyGyroJerkMag-kurtosis()  angle(tBodyAccMean,gravity)  \\\n",
       " 0                           -0.710304                    -0.112754   \n",
       " 1                           -0.861499                     0.053477   \n",
       " 2                           -0.760104                    -0.118559   \n",
       " 3                           -0.482845                    -0.036788   \n",
       " 4                           -0.699205                     0.123320   \n",
       " ...                               ...                          ...   \n",
       " 7347                        -0.880324                    -0.190437   \n",
       " 7348                        -0.680744                     0.064907   \n",
       " 7349                        -0.304029                     0.052806   \n",
       " 7350                        -0.344314                    -0.101360   \n",
       " 7351                        -0.740738                    -0.280088   \n",
       " \n",
       "       angle(tBodyAccJerkMean),gravityMean)  angle(tBodyGyroMean,gravityMean)  \\\n",
       " 0                                 0.030400                         -0.464761   \n",
       " 1                                -0.007435                         -0.732626   \n",
       " 2                                 0.177899                          0.100699   \n",
       " 3                                -0.012892                          0.640011   \n",
       " 4                                 0.122542                          0.693578   \n",
       " ...                                    ...                               ...   \n",
       " 7347                              0.829718                          0.206972   \n",
       " 7348                              0.875679                         -0.879033   \n",
       " 7349                             -0.266724                          0.864404   \n",
       " 7350                              0.700740                          0.936674   \n",
       " 7351                             -0.007739                         -0.056088   \n",
       " \n",
       "       angle(tBodyGyroJerkMean,gravityMean)  angle(X,gravityMean)  \\\n",
       " 0                                -0.018446             -0.841247   \n",
       " 1                                 0.703511             -0.844788   \n",
       " 2                                 0.808529             -0.848933   \n",
       " 3                                -0.485366             -0.848649   \n",
       " 4                                -0.615971             -0.847865   \n",
       " ...                                    ...                   ...   \n",
       " 7347                             -0.425619             -0.791883   \n",
       " 7348                              0.400219             -0.771840   \n",
       " 7349                              0.701169             -0.779133   \n",
       " 7350                             -0.589479             -0.785181   \n",
       " 7351                             -0.616956             -0.783267   \n",
       " \n",
       "       angle(Y,gravityMean)  angle(Z,gravityMean)  \n",
       " 0                 0.179941             -0.058627  \n",
       " 1                 0.180289             -0.054317  \n",
       " 2                 0.180637             -0.049118  \n",
       " 3                 0.181935             -0.047663  \n",
       " 4                 0.185151             -0.043892  \n",
       " ...                    ...                   ...  \n",
       " 7347              0.238604              0.049819  \n",
       " 7348              0.252676              0.050053  \n",
       " 7349              0.249145              0.040811  \n",
       " 7350              0.246432              0.025339  \n",
       " 7351              0.246809              0.036695  \n",
       " \n",
       " [7352 rows x 561 columns],\n",
       "       tBodyAcc-mean()-X  tBodyAcc-mean()-Y  tBodyAcc-mean()-Z  \\\n",
       " 0              0.257178          -0.023285          -0.014654   \n",
       " 1              0.286027          -0.013163          -0.119083   \n",
       " 2              0.275485          -0.026050          -0.118152   \n",
       " 3              0.270298          -0.032614          -0.117520   \n",
       " 4              0.274833          -0.027848          -0.129527   \n",
       " ...                 ...                ...                ...   \n",
       " 2942           0.310155          -0.053391          -0.099109   \n",
       " 2943           0.363385          -0.039214          -0.105915   \n",
       " 2944           0.349966           0.030077          -0.115788   \n",
       " 2945           0.237594           0.018467          -0.096499   \n",
       " 2946           0.153627          -0.018437          -0.137018   \n",
       " \n",
       "       tBodyAcc-std()-X  tBodyAcc-std()-Y  tBodyAcc-std()-Z  tBodyAcc-mad()-X  \\\n",
       " 0            -0.938404         -0.920091         -0.667683         -0.952501   \n",
       " 1            -0.975415         -0.967458         -0.944958         -0.986799   \n",
       " 2            -0.993819         -0.969926         -0.962748         -0.994403   \n",
       " 3            -0.994743         -0.973268         -0.967091         -0.995274   \n",
       " 4            -0.993852         -0.967445         -0.978295         -0.994111   \n",
       " ...                ...               ...               ...               ...   \n",
       " 2942         -0.287866         -0.140589         -0.215088         -0.356083   \n",
       " 2943         -0.305388          0.028148         -0.196373         -0.373540   \n",
       " 2944         -0.329638         -0.042143         -0.250181         -0.388017   \n",
       " 2945         -0.323114         -0.229775         -0.207574         -0.392380   \n",
       " 2946         -0.330046         -0.195253         -0.164339         -0.430974   \n",
       " \n",
       "       tBodyAcc-mad()-Y  tBodyAcc-mad()-Z  tBodyAcc-max()-X  ...  \\\n",
       " 0            -0.925249         -0.674302         -0.894088  ...   \n",
       " 1            -0.968401         -0.945823         -0.894088  ...   \n",
       " 2            -0.970735         -0.963483         -0.939260  ...   \n",
       " 3            -0.974471         -0.968897         -0.938610  ...   \n",
       " 4            -0.965953         -0.977346         -0.938610  ...   \n",
       " ...                ...               ...               ...  ...   \n",
       " 2942         -0.148775         -0.232057          0.185361  ...   \n",
       " 2943         -0.030036         -0.270237          0.185361  ...   \n",
       " 2944         -0.133257         -0.347029          0.007471  ...   \n",
       " 2945         -0.279610         -0.289477          0.007471  ...   \n",
       " 2946         -0.218295         -0.229933         -0.111527  ...   \n",
       " \n",
       "       fBodyBodyGyroJerkMag-meanFreq()  fBodyBodyGyroJerkMag-skewness()  \\\n",
       " 0                            0.071645                        -0.330370   \n",
       " 1                           -0.401189                        -0.121845   \n",
       " 2                            0.062891                        -0.190422   \n",
       " 3                            0.116695                        -0.344418   \n",
       " 4                           -0.121711                        -0.534685   \n",
       " ...                               ...                              ...   \n",
       " 2942                         0.074472                        -0.376278   \n",
       " 2943                         0.101859                        -0.320418   \n",
       " 2944                        -0.066249                        -0.118854   \n",
       " 2945                        -0.046467                        -0.205445   \n",
       " 2946                        -0.010386                        -0.072237   \n",
       " \n",
       "       fBodyBodyGyroJerkMag-kurtosis()  angle(tBodyAccMean,gravity)  \\\n",
       " 0                           -0.705974                     0.006462   \n",
       " 1                           -0.594944                    -0.083495   \n",
       " 2                           -0.640736                    -0.034956   \n",
       " 3                           -0.736124                    -0.017067   \n",
       " 4                           -0.846595                    -0.002223   \n",
       " ...                               ...                          ...   \n",
       " 2942                        -0.750809                    -0.337422   \n",
       " 2943                        -0.700274                    -0.736701   \n",
       " 2944                        -0.467179                    -0.181560   \n",
       " 2945                        -0.617737                     0.444558   \n",
       " 2946                        -0.436940                     0.598808   \n",
       " \n",
       "       angle(tBodyAccJerkMean),gravityMean)  angle(tBodyGyroMean,gravityMean)  \\\n",
       " 0                                 0.162920                         -0.825886   \n",
       " 1                                 0.017500                         -0.434375   \n",
       " 2                                 0.202302                          0.064103   \n",
       " 3                                 0.154438                          0.340134   \n",
       " 4                                -0.040046                          0.736715   \n",
       " ...                                    ...                               ...   \n",
       " 2942                              0.346295                          0.884904   \n",
       " 2943                             -0.372889                         -0.657421   \n",
       " 2944                              0.088574                          0.696663   \n",
       " 2945                             -0.819188                          0.929294   \n",
       " 2946                             -0.287951                          0.876030   \n",
       " \n",
       "       angle(tBodyGyroJerkMean,gravityMean)  angle(X,gravityMean)  \\\n",
       " 0                                 0.271151             -0.720009   \n",
       " 1                                 0.920593             -0.698091   \n",
       " 2                                 0.145068             -0.702771   \n",
       " 3                                 0.296407             -0.698954   \n",
       " 4                                -0.118545             -0.692245   \n",
       " ...                                    ...                   ...   \n",
       " 2942                             -0.698885             -0.651732   \n",
       " 2943                              0.322549             -0.655181   \n",
       " 2944                              0.363139             -0.655357   \n",
       " 2945                             -0.008398             -0.659719   \n",
       " 2946                             -0.024965             -0.660080   \n",
       " \n",
       "       angle(Y,gravityMean)  angle(Z,gravityMean)  \n",
       " 0                 0.276801             -0.057978  \n",
       " 1                 0.281343             -0.083898  \n",
       " 2                 0.280083             -0.079346  \n",
       " 3                 0.284114             -0.077108  \n",
       " 4                 0.290722             -0.073857  \n",
       " ...                    ...                   ...  \n",
       " 2942              0.274627              0.184784  \n",
       " 2943              0.273578              0.182412  \n",
       " 2944              0.274479              0.181184  \n",
       " 2945              0.264782              0.187563  \n",
       " 2946              0.263936              0.188103  \n",
       " \n",
       " [2947 rows x 561 columns],\n",
       "       action\n",
       " 0          5\n",
       " 1          5\n",
       " 2          5\n",
       " 3          5\n",
       " 4          5\n",
       " ...      ...\n",
       " 7347       2\n",
       " 7348       2\n",
       " 7349       2\n",
       " 7350       2\n",
       " 7351       2\n",
       " \n",
       " [7352 rows x 1 columns],\n",
       "       action\n",
       " 0          5\n",
       " 1          5\n",
       " 2          5\n",
       " 3          5\n",
       " 4          5\n",
       " ...      ...\n",
       " 2942       2\n",
       " 2943       2\n",
       " 2944       2\n",
       " 2945       2\n",
       " 2946       2\n",
       " \n",
       " [2947 rows x 1 columns])"
      ]
     },
     "execution_count": 34,
     "metadata": {},
     "output_type": "execute_result"
    }
   ],
   "source": [
    "get_human_dataset()"
   ]
  },
  {
   "cell_type": "code",
   "execution_count": 35,
   "id": "960fe895-5ec1-4cb4-9020-2b6167fcd31d",
   "metadata": {},
   "outputs": [],
   "source": [
    "X_train,X_test,y_train,y_test = get_human_dataset() #따로 볼 때 "
   ]
  },
  {
   "cell_type": "code",
   "execution_count": 37,
   "id": "0d71607a-8487-460c-91df-252de407d1fd",
   "metadata": {},
   "outputs": [
    {
     "name": "stdout",
     "output_type": "stream",
     "text": [
      "<class 'pandas.core.frame.DataFrame'>\n",
      "RangeIndex: 7352 entries, 0 to 7351\n",
      "Columns: 561 entries, tBodyAcc-mean()-X to angle(Z,gravityMean)\n",
      "dtypes: float64(561)\n",
      "memory usage: 31.5 MB\n"
     ]
    }
   ],
   "source": [
    "X_train.info()"
   ]
  },
  {
   "cell_type": "code",
   "execution_count": 38,
   "id": "057d25f3-bc98-4802-a452-a9ad6be3a700",
   "metadata": {},
   "outputs": [
    {
     "name": "stdout",
     "output_type": "stream",
     "text": [
      "<class 'pandas.core.frame.DataFrame'>\n",
      "RangeIndex: 2947 entries, 0 to 2946\n",
      "Columns: 561 entries, tBodyAcc-mean()-X to angle(Z,gravityMean)\n",
      "dtypes: float64(561)\n",
      "memory usage: 12.6 MB\n"
     ]
    }
   ],
   "source": [
    "X_test.info()"
   ]
  },
  {
   "cell_type": "code",
   "execution_count": 39,
   "id": "3cf896b3-f47d-4c48-a2a6-423677a98026",
   "metadata": {},
   "outputs": [
    {
     "data": {
      "text/plain": [
       "6    1407\n",
       "5    1374\n",
       "4    1286\n",
       "1    1226\n",
       "2    1073\n",
       "3     986\n",
       "Name: action, dtype: int64"
      ]
     },
     "execution_count": 39,
     "metadata": {},
     "output_type": "execute_result"
    }
   ],
   "source": [
    "y_train['action'].value_counts()"
   ]
  },
  {
   "cell_type": "code",
   "execution_count": 40,
   "id": "65193084-5153-41e1-a344-8afb266e1ee8",
   "metadata": {},
   "outputs": [
    {
     "data": {
      "text/plain": [
       "6    537\n",
       "5    532\n",
       "1    496\n",
       "4    491\n",
       "2    471\n",
       "3    420\n",
       "Name: action, dtype: int64"
      ]
     },
     "execution_count": 40,
     "metadata": {},
     "output_type": "execute_result"
    }
   ],
   "source": [
    "y_test['action'].value_counts()"
   ]
  },
  {
   "cell_type": "code",
   "execution_count": 41,
   "id": "13263d14-11cc-4deb-baf7-8a7f686c5ba9",
   "metadata": {},
   "outputs": [],
   "source": [
    "from sklearn.tree import DecisionTreeClassifier\n",
    "from sklearn.metrics import accuracy_score"
   ]
  },
  {
   "cell_type": "code",
   "execution_count": 42,
   "id": "a12bd362-43a2-44c3-8ff8-47ff55219d47",
   "metadata": {},
   "outputs": [
    {
     "data": {
      "text/plain": [
       "0.8547675602307431"
      ]
     },
     "execution_count": 42,
     "metadata": {},
     "output_type": "execute_result"
    }
   ],
   "source": [
    "dt_clf = DecisionTreeClassifier(random_state=156)\n",
    "dt_clf.fit(X_train,y_train)\n",
    "pred = dt_clf.predict(X_test)\n",
    "accuracy = accuracy_score(y_test,pred)\n",
    "accuracy"
   ]
  },
  {
   "cell_type": "code",
   "execution_count": 44,
   "id": "8da43222-a3e5-426a-afb6-7a2c2562c2b9",
   "metadata": {},
   "outputs": [
    {
     "data": {
      "text/plain": [
       "{'ccp_alpha': 0.0,\n",
       " 'class_weight': None,\n",
       " 'criterion': 'gini',\n",
       " 'max_depth': None,\n",
       " 'max_features': None,\n",
       " 'max_leaf_nodes': None,\n",
       " 'min_impurity_decrease': 0.0,\n",
       " 'min_impurity_split': None,\n",
       " 'min_samples_leaf': 1,\n",
       " 'min_samples_split': 2,\n",
       " 'min_weight_fraction_leaf': 0.0,\n",
       " 'random_state': 156,\n",
       " 'splitter': 'best'}"
      ]
     },
     "execution_count": 44,
     "metadata": {},
     "output_type": "execute_result"
    }
   ],
   "source": [
    "dt_clf.get_params()"
   ]
  },
  {
   "cell_type": "code",
   "execution_count": 45,
   "id": "4a79986d-732e-4be0-8224-4bbd57a708aa",
   "metadata": {},
   "outputs": [],
   "source": [
    "from sklearn.model_selection import GridSearchCV"
   ]
  },
  {
   "cell_type": "code",
   "execution_count": 55,
   "id": "2c2d43f3-cf9c-433e-b6e2-37fa1a16f639",
   "metadata": {},
   "outputs": [],
   "source": [
    "params = {'max_depth':[6,8,10,12,16,20,24]}"
   ]
  },
  {
   "cell_type": "code",
   "execution_count": 48,
   "id": "1d31b438-67c3-4e47-a36a-e1af027fdd0f",
   "metadata": {},
   "outputs": [
    {
     "name": "stdout",
     "output_type": "stream",
     "text": [
      "Fitting 5 folds for each of 7 candidates, totalling 35 fits\n"
     ]
    },
    {
     "data": {
      "text/plain": [
       "GridSearchCV(cv=5, estimator=DecisionTreeClassifier(random_state=156),\n",
       "             param_grid={'max_depth': [6, 8, 10, 12, 16, 20, 24]},\n",
       "             scoring='accuracy', verbose=1)"
      ]
     },
     "execution_count": 48,
     "metadata": {},
     "output_type": "execute_result"
    }
   ],
   "source": [
    "gridcv=GridSearchCV(dt_clf,param_grid=params,scoring='accuracy',cv=5,verbose=1)\n",
    "gridcv.fit(X_train,y_train)"
   ]
  },
  {
   "cell_type": "code",
   "execution_count": 49,
   "id": "7afe7fb1-3c0c-4ee1-b550-7f3e8ab209b8",
   "metadata": {},
   "outputs": [],
   "source": [
    "cv_result_df = pd.DataFrame(gridcv.cv_results_)"
   ]
  },
  {
   "cell_type": "code",
   "execution_count": 51,
   "id": "c222ae8e-2f44-4efa-a2c3-688ca698411f",
   "metadata": {},
   "outputs": [
    {
     "data": {
      "text/plain": [
       "Index(['mean_fit_time', 'std_fit_time', 'mean_score_time', 'std_score_time',\n",
       "       'param_max_depth', 'params', 'split0_test_score', 'split1_test_score',\n",
       "       'split2_test_score', 'split3_test_score', 'split4_test_score',\n",
       "       'mean_test_score', 'std_test_score', 'rank_test_score'],\n",
       "      dtype='object')"
      ]
     },
     "execution_count": 51,
     "metadata": {},
     "output_type": "execute_result"
    }
   ],
   "source": [
    "cv_result_df.columns"
   ]
  },
  {
   "cell_type": "code",
   "execution_count": 52,
   "id": "0ef8061a-d182-4906-ad45-b50d4b918eea",
   "metadata": {},
   "outputs": [
    {
     "data": {
      "text/html": [
       "<div>\n",
       "<style scoped>\n",
       "    .dataframe tbody tr th:only-of-type {\n",
       "        vertical-align: middle;\n",
       "    }\n",
       "\n",
       "    .dataframe tbody tr th {\n",
       "        vertical-align: top;\n",
       "    }\n",
       "\n",
       "    .dataframe thead th {\n",
       "        text-align: right;\n",
       "    }\n",
       "</style>\n",
       "<table border=\"1\" class=\"dataframe\">\n",
       "  <thead>\n",
       "    <tr style=\"text-align: right;\">\n",
       "      <th></th>\n",
       "      <th>param_max_depth</th>\n",
       "      <th>mean_test_score</th>\n",
       "    </tr>\n",
       "  </thead>\n",
       "  <tbody>\n",
       "    <tr>\n",
       "      <th>0</th>\n",
       "      <td>6</td>\n",
       "      <td>0.850791</td>\n",
       "    </tr>\n",
       "    <tr>\n",
       "      <th>1</th>\n",
       "      <td>8</td>\n",
       "      <td>0.851069</td>\n",
       "    </tr>\n",
       "    <tr>\n",
       "      <th>2</th>\n",
       "      <td>10</td>\n",
       "      <td>0.851209</td>\n",
       "    </tr>\n",
       "    <tr>\n",
       "      <th>3</th>\n",
       "      <td>12</td>\n",
       "      <td>0.844135</td>\n",
       "    </tr>\n",
       "    <tr>\n",
       "      <th>4</th>\n",
       "      <td>16</td>\n",
       "      <td>0.851344</td>\n",
       "    </tr>\n",
       "    <tr>\n",
       "      <th>5</th>\n",
       "      <td>20</td>\n",
       "      <td>0.850800</td>\n",
       "    </tr>\n",
       "    <tr>\n",
       "      <th>6</th>\n",
       "      <td>24</td>\n",
       "      <td>0.849440</td>\n",
       "    </tr>\n",
       "  </tbody>\n",
       "</table>\n",
       "</div>"
      ],
      "text/plain": [
       "  param_max_depth  mean_test_score\n",
       "0               6         0.850791\n",
       "1               8         0.851069\n",
       "2              10         0.851209\n",
       "3              12         0.844135\n",
       "4              16         0.851344\n",
       "5              20         0.850800\n",
       "6              24         0.849440"
      ]
     },
     "execution_count": 52,
     "metadata": {},
     "output_type": "execute_result"
    }
   ],
   "source": [
    "cv_result_df[['param_max_depth','mean_test_score']]"
   ]
  },
  {
   "cell_type": "code",
   "execution_count": 59,
   "id": "cf1d8481-5e74-4fac-961a-5c527db826d8",
   "metadata": {},
   "outputs": [
    {
     "name": "stdout",
     "output_type": "stream",
     "text": [
      "max_depth:6, 정확도:0.8558\n",
      "max_depth:8, 정확도:0.8707\n",
      "max_depth:10, 정확도:0.8673\n",
      "max_depth:12, 정확도:0.8646\n",
      "max_depth:16, 정확도:0.8575\n",
      "max_depth:20, 정확도:0.8548\n",
      "max_depth:24, 정확도:0.8548\n"
     ]
    }
   ],
   "source": [
    "max_depth=[6,8,10,12,16,20,24]\n",
    "for depth in max_depth:\n",
    "    dt_clf = DecisionTreeClassifier(max_depth=depth,random_state=156)\n",
    "    dt_clf.fit(X_train,y_train)\n",
    "    pred = dt_clf.predict(X_test)\n",
    "    accuracy = accuracy_score(y_test,pred)\n",
    "    print(f'max_depth:{depth}, 정확도:{accuracy:.4f}')"
   ]
  },
  {
   "cell_type": "raw",
   "id": "2e4ddd8f-aa31-4464-b3b5-34e95b068997",
   "metadata": {},
   "source": [
    "# 8일때 가장 정확도가 높다"
   ]
  },
  {
   "cell_type": "code",
   "execution_count": 60,
   "id": "bfc9c087-7afa-4f36-8928-99b06697b126",
   "metadata": {},
   "outputs": [],
   "source": [
    "params = {'max_depth':[8,12,16,20],'min_samples_split':[16,24]}"
   ]
  },
  {
   "cell_type": "code",
   "execution_count": 61,
   "id": "cab877b7-a979-4df8-a1f2-653073bee698",
   "metadata": {},
   "outputs": [
    {
     "name": "stdout",
     "output_type": "stream",
     "text": [
      "Fitting 5 folds for each of 8 candidates, totalling 40 fits\n"
     ]
    },
    {
     "data": {
      "text/plain": [
       "GridSearchCV(cv=5,\n",
       "             estimator=DecisionTreeClassifier(max_depth=24, random_state=156),\n",
       "             param_grid={'max_depth': [8, 12, 16, 20],\n",
       "                         'min_samples_split': [16, 24]},\n",
       "             scoring='accuracy', verbose=1)"
      ]
     },
     "execution_count": 61,
     "metadata": {},
     "output_type": "execute_result"
    }
   ],
   "source": [
    "gridcv=GridSearchCV(dt_clf,param_grid=params,scoring='accuracy',cv=5,verbose=1)\n",
    "gridcv.fit(X_train,y_train)"
   ]
  },
  {
   "cell_type": "code",
   "execution_count": 62,
   "id": "8560b30b-da20-4506-b8b4-567fb3c5f3c0",
   "metadata": {},
   "outputs": [
    {
     "data": {
      "text/plain": [
       "0.8548794147162603"
      ]
     },
     "execution_count": 62,
     "metadata": {},
     "output_type": "execute_result"
    }
   ],
   "source": [
    "gridcv.best_score_"
   ]
  },
  {
   "cell_type": "code",
   "execution_count": 63,
   "id": "c5faa472-306a-4c87-b7eb-74c7a8d0d63b",
   "metadata": {},
   "outputs": [
    {
     "data": {
      "text/plain": [
       "{'max_depth': 8, 'min_samples_split': 16}"
      ]
     },
     "execution_count": 63,
     "metadata": {},
     "output_type": "execute_result"
    }
   ],
   "source": [
    "gridcv.best_params_"
   ]
  },
  {
   "cell_type": "code",
   "execution_count": 64,
   "id": "2d4abd70-2cde-4b3d-8697-389eff2ac674",
   "metadata": {},
   "outputs": [],
   "source": [
    "best_df_clf = gridcv.best_estimator_"
   ]
  },
  {
   "cell_type": "code",
   "execution_count": 65,
   "id": "3383b869-c19c-4bf4-8790-c7641937b69c",
   "metadata": {},
   "outputs": [
    {
     "data": {
      "text/plain": [
       "0.8717339667458432"
      ]
     },
     "execution_count": 65,
     "metadata": {},
     "output_type": "execute_result"
    }
   ],
   "source": [
    "pred = best_df_clf.predict(X_test)\n",
    "accuracy = accuracy_score(y_test,pred)\n",
    "accuracy"
   ]
  },
  {
   "cell_type": "code",
   "execution_count": 66,
   "id": "68fd52af-cbeb-49e0-9fd8-5d480cb6157b",
   "metadata": {
    "collapsed": true,
    "jupyter": {
     "outputs_hidden": true
    },
    "tags": []
   },
   "outputs": [
    {
     "data": {
      "text/plain": [
       "array([0.        , 0.        , 0.        , 0.        , 0.00175182,\n",
       "       0.        , 0.        , 0.        , 0.        , 0.00217984,\n",
       "       0.        , 0.        , 0.        , 0.        , 0.        ,\n",
       "       0.        , 0.        , 0.        , 0.        , 0.        ,\n",
       "       0.        , 0.        , 0.        , 0.        , 0.        ,\n",
       "       0.        , 0.        , 0.        , 0.00034009, 0.        ,\n",
       "       0.        , 0.        , 0.        , 0.        , 0.        ,\n",
       "       0.        , 0.        , 0.00997154, 0.        , 0.        ,\n",
       "       0.        , 0.        , 0.        , 0.        , 0.        ,\n",
       "       0.        , 0.        , 0.        , 0.        , 0.00122902,\n",
       "       0.00629033, 0.        , 0.2533544 , 0.002077  , 0.00291231,\n",
       "       0.        , 0.        , 0.02047009, 0.        , 0.        ,\n",
       "       0.        , 0.        , 0.        , 0.        , 0.        ,\n",
       "       0.        , 0.        , 0.0024461 , 0.        , 0.        ,\n",
       "       0.        , 0.00302454, 0.        , 0.        , 0.10188539,\n",
       "       0.        , 0.        , 0.        , 0.        , 0.        ,\n",
       "       0.        , 0.        , 0.        , 0.        , 0.        ,\n",
       "       0.        , 0.        , 0.        , 0.        , 0.00124463,\n",
       "       0.        , 0.        , 0.        , 0.        , 0.        ,\n",
       "       0.        , 0.        , 0.        , 0.        , 0.        ,\n",
       "       0.        , 0.0011924 , 0.        , 0.        , 0.        ,\n",
       "       0.        , 0.        , 0.00065083, 0.        , 0.        ,\n",
       "       0.        , 0.00034211, 0.        , 0.        , 0.        ,\n",
       "       0.        , 0.        , 0.00396674, 0.        , 0.        ,\n",
       "       0.        , 0.        , 0.        , 0.        , 0.        ,\n",
       "       0.        , 0.        , 0.        , 0.        , 0.00854963,\n",
       "       0.        , 0.        , 0.00437287, 0.        , 0.        ,\n",
       "       0.        , 0.        , 0.        , 0.        , 0.00264146,\n",
       "       0.        , 0.        , 0.        , 0.        , 0.        ,\n",
       "       0.        , 0.        , 0.        , 0.        , 0.0005292 ,\n",
       "       0.        , 0.        , 0.        , 0.        , 0.        ,\n",
       "       0.        , 0.        , 0.00233647, 0.        , 0.01651344,\n",
       "       0.        , 0.        , 0.        , 0.        , 0.        ,\n",
       "       0.        , 0.00033559, 0.        , 0.        , 0.0034711 ,\n",
       "       0.        , 0.        , 0.        , 0.        , 0.        ,\n",
       "       0.        , 0.        , 0.        , 0.00124472, 0.        ,\n",
       "       0.        , 0.        , 0.        , 0.        , 0.        ,\n",
       "       0.        , 0.        , 0.        , 0.        , 0.        ,\n",
       "       0.        , 0.        , 0.        , 0.        , 0.        ,\n",
       "       0.        , 0.0003379 , 0.        , 0.        , 0.        ,\n",
       "       0.        , 0.        , 0.        , 0.        , 0.        ,\n",
       "       0.        , 0.        , 0.        , 0.        , 0.        ,\n",
       "       0.        , 0.        , 0.        , 0.        , 0.        ,\n",
       "       0.        , 0.        , 0.        , 0.        , 0.        ,\n",
       "       0.        , 0.        , 0.01574123, 0.        , 0.        ,\n",
       "       0.        , 0.        , 0.        , 0.        , 0.        ,\n",
       "       0.        , 0.        , 0.        , 0.        , 0.        ,\n",
       "       0.        , 0.        , 0.        , 0.        , 0.        ,\n",
       "       0.        , 0.        , 0.        , 0.        , 0.        ,\n",
       "       0.        , 0.        , 0.        , 0.        , 0.        ,\n",
       "       0.        , 0.        , 0.        , 0.        , 0.        ,\n",
       "       0.        , 0.        , 0.        , 0.        , 0.        ,\n",
       "       0.        , 0.        , 0.        , 0.00041491, 0.        ,\n",
       "       0.        , 0.        , 0.        , 0.        , 0.        ,\n",
       "       0.        , 0.        , 0.        , 0.        , 0.        ,\n",
       "       0.00882456, 0.        , 0.        , 0.        , 0.        ,\n",
       "       0.        , 0.        , 0.        , 0.        , 0.        ,\n",
       "       0.        , 0.        , 0.        , 0.        , 0.        ,\n",
       "       0.        , 0.        , 0.        , 0.        , 0.        ,\n",
       "       0.        , 0.        , 0.        , 0.        , 0.        ,\n",
       "       0.        , 0.        , 0.00233064, 0.        , 0.        ,\n",
       "       0.        , 0.        , 0.        , 0.        , 0.        ,\n",
       "       0.        , 0.        , 0.        , 0.        , 0.        ,\n",
       "       0.        , 0.        , 0.        , 0.        , 0.        ,\n",
       "       0.        , 0.        , 0.        , 0.        , 0.        ,\n",
       "       0.        , 0.        , 0.        , 0.        , 0.        ,\n",
       "       0.        , 0.        , 0.        , 0.        , 0.        ,\n",
       "       0.        , 0.        , 0.        , 0.        , 0.        ,\n",
       "       0.        , 0.        , 0.        , 0.        , 0.        ,\n",
       "       0.        , 0.        , 0.        , 0.        , 0.        ,\n",
       "       0.        , 0.        , 0.        , 0.        , 0.        ,\n",
       "       0.        , 0.        , 0.        , 0.        , 0.        ,\n",
       "       0.        , 0.        , 0.        , 0.        , 0.        ,\n",
       "       0.        , 0.        , 0.        , 0.        , 0.        ,\n",
       "       0.        , 0.        , 0.        , 0.        , 0.        ,\n",
       "       0.        , 0.        , 0.        , 0.        , 0.        ,\n",
       "       0.        , 0.        , 0.        , 0.00066434, 0.        ,\n",
       "       0.        , 0.        , 0.        , 0.        , 0.21258352,\n",
       "       0.        , 0.        , 0.        , 0.00145481, 0.        ,\n",
       "       0.        , 0.        , 0.        , 0.        , 0.        ,\n",
       "       0.        , 0.        , 0.        , 0.        , 0.        ,\n",
       "       0.        , 0.        , 0.        , 0.        , 0.00142006,\n",
       "       0.        , 0.        , 0.        , 0.        , 0.        ,\n",
       "       0.        , 0.        , 0.        , 0.00220174, 0.        ,\n",
       "       0.00118853, 0.        , 0.        , 0.        , 0.        ,\n",
       "       0.0017426 , 0.        , 0.        , 0.        , 0.        ,\n",
       "       0.        , 0.        , 0.00524676, 0.        , 0.        ,\n",
       "       0.        , 0.        , 0.        , 0.        , 0.        ,\n",
       "       0.        , 0.        , 0.        , 0.00283466, 0.        ,\n",
       "       0.        , 0.        , 0.        , 0.02397088, 0.        ,\n",
       "       0.        , 0.        , 0.        , 0.        , 0.        ,\n",
       "       0.        , 0.        , 0.        , 0.        , 0.        ,\n",
       "       0.        , 0.        , 0.        , 0.        , 0.        ,\n",
       "       0.        , 0.        , 0.        , 0.        , 0.        ,\n",
       "       0.        , 0.        , 0.        , 0.        , 0.        ,\n",
       "       0.        , 0.        , 0.        , 0.        , 0.        ,\n",
       "       0.        , 0.        , 0.        , 0.        , 0.        ,\n",
       "       0.        , 0.        , 0.        , 0.        , 0.        ,\n",
       "       0.        , 0.        , 0.        , 0.        , 0.        ,\n",
       "       0.        , 0.        , 0.        , 0.        , 0.        ,\n",
       "       0.        , 0.        , 0.        , 0.00259031, 0.        ,\n",
       "       0.        , 0.        , 0.        , 0.11547846, 0.        ,\n",
       "       0.        , 0.        , 0.        , 0.        , 0.        ,\n",
       "       0.        , 0.        , 0.        , 0.        , 0.        ,\n",
       "       0.        , 0.        , 0.        , 0.        , 0.        ,\n",
       "       0.        , 0.        , 0.        , 0.        , 0.        ,\n",
       "       0.        , 0.        , 0.        , 0.        , 0.        ,\n",
       "       0.        , 0.        , 0.        , 0.00138302, 0.        ,\n",
       "       0.        , 0.        , 0.        , 0.        , 0.        ,\n",
       "       0.        , 0.        , 0.        , 0.        , 0.        ,\n",
       "       0.        , 0.        , 0.        , 0.        , 0.        ,\n",
       "       0.        , 0.00129082, 0.        , 0.00098939, 0.1390006 ,\n",
       "       0.00298663])"
      ]
     },
     "execution_count": 66,
     "metadata": {},
     "output_type": "execute_result"
    }
   ],
   "source": [
    "best_df_clf.feature_importances_"
   ]
  },
  {
   "cell_type": "code",
   "execution_count": 73,
   "id": "a4da2368-aa37-4561-aac2-760d068035bf",
   "metadata": {},
   "outputs": [],
   "source": [
    "ftr_importance = pd.Series(best_df_clf.feature_importances_,index=X_train.columns)"
   ]
  },
  {
   "cell_type": "code",
   "execution_count": 74,
   "id": "6027467f-acac-4f70-a377-863dde6801b9",
   "metadata": {},
   "outputs": [],
   "source": [
    "top20 = ftr_importance.sort_values(ascending=False)[:20]"
   ]
  },
  {
   "cell_type": "code",
   "execution_count": 75,
   "id": "cf27c468-8aaf-49ea-8b7e-1bba105ca273",
   "metadata": {},
   "outputs": [],
   "source": [
    "import seaborn as sns"
   ]
  },
  {
   "cell_type": "code",
   "execution_count": 76,
   "id": "4aa0f2b9-e641-43f4-9e07-92ea10a45243",
   "metadata": {},
   "outputs": [
    {
     "data": {
      "text/plain": [
       "<AxesSubplot:>"
      ]
     },
     "execution_count": 76,
     "metadata": {},
     "output_type": "execute_result"
    },
    {
     "data": {
      "image/png": "[encoded data removed]",
      "text/plain": [
       "<Figure size 432x288 with 1 Axes>"
      ]
     },
     "metadata": {
      "needs_background": "light"
     },
     "output_type": "display_data"
    }
   ],
   "source": [
    "sns.barplot(x=top20,y=top20.index)"
   ]
  },
  {
   "cell_type": "markdown",
   "id": "22ba46c6-c60b-44d9-b3db-8e0f69294bd3",
   "metadata": {},
   "source": [
    "### p211 앙상블학습"
   ]
  },
  {
   "cell_type": "code",
   "execution_count": null,
   "id": "2766061d-004e-44d3-b476-af7f93f5e4d9",
   "metadata": {},
   "outputs": [],
   "source": []
  }
 ],
 "metadata": {
  "kernelspec": {
   "display_name": "Python 3 (ipykernel)",
   "language": "python",
   "name": "python3"
  },
  "language_info": {
   "codemirror_mode": {
    "name": "ipython",
    "version": 3
   },
   "file_extension": ".py",
   "mimetype": "text/x-python",
   "name": "python",
   "nbconvert_exporter": "python",
   "pygments_lexer": "ipython3",
   "version": "3.9.7"
  }
 },
 "nbformat": 4,
 "nbformat_minor": 5
}
