{
 "cells": [
  {
   "cell_type": "raw",
   "id": "955b5af2-9ee7-4736-a1ce-cfdf77dd91b7",
   "metadata": {},
   "source": [
    "﻿\n",
    "numpy\n",
    "\n",
    "다차원 배열 작업에 최적화\n",
    "\n",
    "C베이스로 빠름\n",
    "\n",
    "﻿\n",
    "\n",
    "파이썬range = 넘파이arange\n",
    "(15, > 0~14\n",
    "[ : , : ] > ,를 기준으로 차원나눠짐\n",
    "[:, :, :] > 마지막 : 는 띄우는 위치. =19 라고 하면 그 자리에 19를 채워 넣는다\n",
    "\n",
    "넘파이란 > https://numpy.org/doc/stable/user/whatisnumpy.html\n",
    "파이썬의 목록[리스트]와 달리 고정된 크기\n",
    "크기 변경 시 새 배열 생성 및 원본 삭제\n",
    "데이터 유형은 모두 동일해야\n",
    "기초 > https://numpy.org/doc/stable/user/absolute_beginners.html\n"
   ]
  },
  {
   "cell_type": "code",
   "execution_count": 2,
   "id": "802cefa5-6918-492a-808d-87e3fee15aa5",
   "metadata": {},
   "outputs": [
    {
     "data": {
      "text/plain": [
       "2"
      ]
     },
     "execution_count": 2,
     "metadata": {},
     "output_type": "execute_result"
    }
   ],
   "source": [
    "import numpy as np\n",
    "a = np.array([1,2,3,4,5,6])\n",
    "a[1] #두번째 숫자가 나옴"
   ]
  },
  {
   "cell_type": "code",
   "execution_count": 5,
   "id": "a93ef873-3f9f-43e0-b4c9-d62c872e9013",
   "metadata": {},
   "outputs": [
    {
     "data": {
      "text/plain": [
       "7"
      ]
     },
     "execution_count": 5,
     "metadata": {},
     "output_type": "execute_result"
    }
   ],
   "source": [
    "a = np.array([[1, 2, 3, 4], [5, 6, 7, 8], [9, 10, 11, 12]])\n",
    "a[1,2]"
   ]
  },
  {
   "cell_type": "code",
   "execution_count": 7,
   "id": "62831394-c4d2-4875-a51d-0a5888cdc333",
   "metadata": {},
   "outputs": [
    {
     "data": {
      "text/plain": [
       "array([0, 0])"
      ]
     },
     "execution_count": 7,
     "metadata": {},
     "output_type": "execute_result"
    }
   ],
   "source": [
    "np.zeros(2,dtype=int)"
   ]
  },
  {
   "cell_type": "code",
   "execution_count": 9,
   "id": "3182c470-3d76-49c1-ad82-f2dfb618e1f6",
   "metadata": {},
   "outputs": [
    {
     "data": {
      "text/plain": [
       "array([1.16375111e-311, 4.94065646e-324, 1.16377986e-311, 1.16377998e-311])"
      ]
     },
     "execution_count": 9,
     "metadata": {},
     "output_type": "execute_result"
    }
   ],
   "source": [
    "np.empty(4) #쓰레기값, 공간확보 하려할 때 씀"
   ]
  },
  {
   "cell_type": "code",
   "execution_count": 10,
   "id": "4953a665-f755-451a-8ed8-4b31504cfd66",
   "metadata": {},
   "outputs": [
    {
     "data": {
      "text/plain": [
       "array([0, 1, 2, 3])"
      ]
     },
     "execution_count": 10,
     "metadata": {},
     "output_type": "execute_result"
    }
   ],
   "source": [
    "np.arange(4) #4개 만들어 줌"
   ]
  },
  {
   "cell_type": "code",
   "execution_count": 13,
   "id": "fb571afe-362b-46ce-b855-bb5f567c264c",
   "metadata": {},
   "outputs": [
    {
     "data": {
      "text/plain": [
       "array([ 0. ,  2.5,  5. ,  7.5, 10. ])"
      ]
     },
     "execution_count": 13,
     "metadata": {},
     "output_type": "execute_result"
    }
   ],
   "source": [
    "np.linspace(0, 10)\n",
    "np.linspace(0, 10, num=5)"
   ]
  },
  {
   "cell_type": "code",
   "execution_count": null,
   "id": "1e5e29a4-a8bc-4ccf-883c-e9abfd0ffb0c",
   "metadata": {},
   "outputs": [],
   "source": [
    "#정렬 Adding, removing, and sorting elements"
   ]
  },
  {
   "cell_type": "code",
   "execution_count": 16,
   "id": "9c198b7b-3876-4025-bc77-ddff1c7e98ef",
   "metadata": {},
   "outputs": [
    {
     "data": {
      "text/plain": [
       "array([1, 0, 3, 5, 2, 6, 4, 7], dtype=int64)"
      ]
     },
     "execution_count": 16,
     "metadata": {},
     "output_type": "execute_result"
    }
   ],
   "source": [
    "arr = np.array([2, 1, 5, 3, 7, 4, 6, 8])\n",
    "np.sort(arr)\n",
    "np.argsort(arr)"
   ]
  },
  {
   "cell_type": "code",
   "execution_count": 17,
   "id": "eb4a2283-00e3-4d47-9026-c6bbf8321738",
   "metadata": {},
   "outputs": [],
   "source": [
    "# 딥러닝 때 사용해야하는 차원 확인할 때 사용가능\n",
    "# How do you know the shape and size of an array?\n",
    "# 차원을 늘릴 때 일단 차원 확인\n",
    "# shape는 몇행열인지 알려줌"
   ]
  },
  {
   "cell_type": "code",
   "execution_count": 18,
   "id": "2451a4d9-5f41-4654-8c42-861ff0701306",
   "metadata": {},
   "outputs": [],
   "source": [
    "# 데이터 쓸 때 차원을 왔다갔다 해야함\n",
    "# Can you reshape an array?\n",
    "# 곱해서 토탈 갯수가 맞아야 함 shape >> 3,2,4 >> 3*2*4 = 24개\n",
    "\n",
    "#How to convert a 1D array into a 2D array (how to add a new axis to an array)\n",
    "col_vector = a[:, np.newaxis] #뒤쪽 추가\n",
    "a2 = a[np.newaxis, :] #앞쪽 추가"
   ]
  },
  {
   "cell_type": "code",
   "execution_count": 20,
   "id": "d2581690-abb3-483e-b986-7542d2003ba3",
   "metadata": {
    "collapsed": true,
    "jupyter": {
     "outputs_hidden": true
    },
    "tags": []
   },
   "outputs": [
    {
     "name": "stdout",
     "output_type": "stream",
     "text": [
      "(array([0, 0, 0, 0], dtype=int64), array([0, 1, 2, 3], dtype=int64))\n"
     ]
    },
    {
     "ename": "NameError",
     "evalue": "name 'array' is not defined",
     "output_type": "error",
     "traceback": [
      "\u001b[1;31m---------------------------------------------------------------------------\u001b[0m",
      "\u001b[1;31mNameError\u001b[0m                                 Traceback (most recent call last)",
      "\u001b[1;32m~\\AppData\\Local\\Temp/ipykernel_5836/658796844.py\u001b[0m in \u001b[0;36m<module>\u001b[1;34m\u001b[0m\n\u001b[0;32m      4\u001b[0m \u001b[0mb\u001b[0m \u001b[1;33m=\u001b[0m \u001b[0mnp\u001b[0m\u001b[1;33m.\u001b[0m\u001b[0mnonzero\u001b[0m\u001b[1;33m(\u001b[0m\u001b[0ma\u001b[0m \u001b[1;33m<\u001b[0m \u001b[1;36m5\u001b[0m\u001b[1;33m)\u001b[0m\u001b[1;33m\u001b[0m\u001b[1;33m\u001b[0m\u001b[0m\n\u001b[0;32m      5\u001b[0m \u001b[0mprint\u001b[0m\u001b[1;33m(\u001b[0m\u001b[0mb\u001b[0m\u001b[1;33m)\u001b[0m\u001b[1;33m\u001b[0m\u001b[1;33m\u001b[0m\u001b[0m\n\u001b[1;32m----> 6\u001b[1;33m \u001b[1;33m(\u001b[0m\u001b[0marray\u001b[0m\u001b[1;33m(\u001b[0m\u001b[1;33m[\u001b[0m\u001b[1;36m0\u001b[0m\u001b[1;33m,\u001b[0m \u001b[1;36m0\u001b[0m\u001b[1;33m,\u001b[0m \u001b[1;36m0\u001b[0m\u001b[1;33m,\u001b[0m \u001b[1;36m0\u001b[0m\u001b[1;33m]\u001b[0m\u001b[1;33m)\u001b[0m\u001b[1;33m,\u001b[0m \u001b[0marray\u001b[0m\u001b[1;33m(\u001b[0m\u001b[1;33m[\u001b[0m\u001b[1;36m0\u001b[0m\u001b[1;33m,\u001b[0m \u001b[1;36m1\u001b[0m\u001b[1;33m,\u001b[0m \u001b[1;36m2\u001b[0m\u001b[1;33m,\u001b[0m \u001b[1;36m3\u001b[0m\u001b[1;33m]\u001b[0m\u001b[1;33m)\u001b[0m\u001b[1;33m)\u001b[0m \u001b[1;31m#행, 열\u001b[0m\u001b[1;33m\u001b[0m\u001b[1;33m\u001b[0m\u001b[0m\n\u001b[0m\u001b[0;32m      7\u001b[0m \u001b[1;33m\u001b[0m\u001b[0m\n",
      "\u001b[1;31mNameError\u001b[0m: name 'array' is not defined"
     ]
    }
   ],
   "source": [
    "# Indexing and slicing and boolindexing\n",
    "# [-2:] >> 뒤에서 두번째\n",
    "\n",
    "# b = np.nonzero(a < 5)\n",
    "# print(b)\n",
    "# (array([0, 0, 0, 0]), array([0, 1, 2, 3])) #행, 열\n",
    "# list(zip(b[0],b[1])) #행열 묶어져 나오기\n"
   ]
  },
  {
   "cell_type": "code",
   "execution_count": 21,
   "id": "8c5935b1-e8c6-4dcd-aeea-7e73ab3dba28",
   "metadata": {},
   "outputs": [],
   "source": [
    "#How to create an array from existing data\n",
    "# np.hsplit(x, 배열3) #3으로 나누겠다"
   ]
  },
  {
   "cell_type": "code",
   "execution_count": 22,
   "id": "3bb7f401-1b86-4f6c-a57e-6a3c0a248704",
   "metadata": {},
   "outputs": [],
   "source": [
    "#Basic array operations\n",
    "# axis = 0 행\n",
    "# axis = 1 열"
   ]
  },
  {
   "cell_type": "code",
   "execution_count": 24,
   "id": "3a60b60f-f5fe-4cbc-8534-a17782d40a0e",
   "metadata": {},
   "outputs": [],
   "source": [
    "#Broadcasting 중요: 모양만큼 확장시켜 계산\n",
    "# data = np.array([1.0, 2.0])\n",
    "# data = np.array([1.0, 2.0, 3.0])\n",
    "# data + 1 은 계산 가능\n",
    "\n",
    "# 3차원 곱하기 2차원\n",
    "# data = np.array([[1.0, 2.0],[1.0, 2.0]]) #2차원\n",
    "# data = np.array([1.0, 2.0]) #1차원 #새로운 차원을 만들어서 계산해줌 #단, 차원당 안 값 갯수는 맞아야 함\n",
    "# data + data1\n",
    "\n",
    "#Learn more about broadcasting here. 그림참고"
   ]
  },
  {
   "cell_type": "code",
   "execution_count": null,
   "id": "0f3cdad4-31da-4646-9c03-1edbab3d664b",
   "metadata": {},
   "outputs": [],
   "source": [
    "#More useful array operations\n",
    "# %%time #한 번 실행할 때 걸리는 시간 나옴\n",
    "# 새로운 방법\n",
    "%%time\n",
    "from numpy.random import default_rng\n",
    "rng = default_rng()\n",
    "vals = rng.standard"
   ]
  },
  {
   "cell_type": "code",
   "execution_count": 26,
   "id": "8826adbd-451e-4675-8753-07b631959215",
   "metadata": {},
   "outputs": [],
   "source": [
    "#Transposing and reshaping a matrix"
   ]
  },
  {
   "cell_type": "code",
   "execution_count": 27,
   "id": "830e1382-ec6e-4fea-aac0-3f4d666c8393",
   "metadata": {},
   "outputs": [],
   "source": [
    "#How to reverse an array"
   ]
  },
  {
   "cell_type": "code",
   "execution_count": 28,
   "id": "db2e55d9-eabd-4c6f-8334-f45c284b0c92",
   "metadata": {},
   "outputs": [],
   "source": [
    "#Reshaping and flattening multidimensional arrays\n",
    "# flatten 슬라이싱과 달리 원본에 적용이 되지 않음"
   ]
  },
  {
   "cell_type": "code",
   "execution_count": 31,
   "id": "7a99bae6-3ec1-4575-9ee0-0491d24ceb34",
   "metadata": {},
   "outputs": [
    {
     "data": {
      "text/plain": [
       "\u001b[1;31mSignature:\u001b[0m \u001b[0mdouble\u001b[0m\u001b[1;33m(\u001b[0m\u001b[0ma\u001b[0m\u001b[1;33m)\u001b[0m\u001b[1;33m\u001b[0m\u001b[1;33m\u001b[0m\u001b[0m\n",
       "\u001b[1;31mDocstring:\u001b[0m\n",
       "Return a * 2\n",
       "사용법: \n",
       "\u001b[1;31mFile:\u001b[0m      c:\\users\\user\\appdata\\local\\temp\\ipykernel_5836\\4045147615.py\n",
       "\u001b[1;31mType:\u001b[0m      function\n"
      ]
     },
     "metadata": {},
     "output_type": "display_data"
    }
   ],
   "source": [
    "#How to access the docstring for more information\n",
    "def double(a):\n",
    "  '''Return a * 2\n",
    "      사용법: \n",
    "  '''\n",
    "  return a * 2\n",
    "double?"
   ]
  },
  {
   "cell_type": "code",
   "execution_count": 32,
   "id": "aef810d7-82ce-4b6e-8734-397c0f3d6f40",
   "metadata": {},
   "outputs": [],
   "source": [
    "#Working with mathematical formulas\n",
    "# MSE: 정답과 예측값이 얼마나 차이가 안나는지 보기(오차)"
   ]
  },
  {
   "cell_type": "code",
   "execution_count": 33,
   "id": "fd7e0386-e611-4d97-a0a8-4817a50b73fa",
   "metadata": {},
   "outputs": [],
   "source": [
    "#How to save and load NumPy objects\n",
    "# np.save('filename', a)\n",
    "# np.savetx, np.loadtxt 는 타입이 안 맞으면 저장이 안 됨"
   ]
  },
  {
   "cell_type": "code",
   "execution_count": 34,
   "id": "580b1872-e4bc-4930-8f42-1891dc9f90a3",
   "metadata": {},
   "outputs": [],
   "source": [
    "#Importing and exporting a CSV"
   ]
  },
  {
   "cell_type": "code",
   "execution_count": null,
   "id": "67fc83e9-acf0-49e5-894d-e55b959eedb2",
   "metadata": {},
   "outputs": [],
   "source": []
  },
  {
   "cell_type": "code",
   "execution_count": null,
   "id": "0c57dbe4-222b-4969-bf3c-23c5f67b8834",
   "metadata": {},
   "outputs": [],
   "source": []
  },
  {
   "cell_type": "raw",
   "id": "d47fb5d5-b591-4ca0-a20d-9e4b51d736f9",
   "metadata": {},
   "source": [
    "# learn >> https://numpy.org/numpy-tutorials/"
   ]
  },
  {
   "cell_type": "code",
   "execution_count": null,
   "id": "58fe0e0c-c174-460c-94b9-346b045a1180",
   "metadata": {},
   "outputs": [],
   "source": [
    "#Linear algebra on n-dimensional arrays\n",
    "img.shape\n",
    "img.size() #shape에서 나온거 다 곱한 값\n",
    "# RGB레드그린블루 = 빛 = 빛이 많을 수록 밝다(흰) = 255\n",
    "\n",
    "# 딥러닝: 큰값이 있으면 제대로 안돌아가서 숫자를 작은 값으로 정규화 0, 1\n",
    "#특이값 분해: 혼자서 공부하기\n"
   ]
  },
  {
   "cell_type": "code",
   "execution_count": null,
   "id": "e6192658-2df5-49b5-86ba-95be282cd69a",
   "metadata": {},
   "outputs": [],
   "source": [
    "#행렬 연산에서 앞쪽열k과 뒤쪽행k은 같아야한다"
   ]
  },
  {
   "cell_type": "code",
   "execution_count": 35,
   "id": "02c81f41-f199-4ca9-9ee6-1297783e840d",
   "metadata": {
    "collapsed": true,
    "jupyter": {
     "outputs_hidden": true
    },
    "tags": []
   },
   "outputs": [
    {
     "ename": "NameError",
     "evalue": "name 'U' is not defined",
     "output_type": "error",
     "traceback": [
      "\u001b[1;31m---------------------------------------------------------------------------\u001b[0m",
      "\u001b[1;31mNameError\u001b[0m                                 Traceback (most recent call last)",
      "\u001b[1;32m~\\AppData\\Local\\Temp/ipykernel_5836/3023644720.py\u001b[0m in \u001b[0;36m<module>\u001b[1;34m\u001b[0m\n\u001b[0;32m      1\u001b[0m \u001b[1;31m#Operations on an axis\u001b[0m\u001b[1;33m\u001b[0m\u001b[1;33m\u001b[0m\u001b[0m\n\u001b[1;32m----> 2\u001b[1;33m \u001b[0mU\u001b[0m \u001b[1;33m@\u001b[0m \u001b[0ms\u001b[0m \u001b[1;33m@\u001b[0m \u001b[0mVt\u001b[0m \u001b[1;31m#행렬의 대각선 부분만 추출, 700여개\u001b[0m\u001b[1;33m\u001b[0m\u001b[1;33m\u001b[0m\u001b[0m\n\u001b[0m",
      "\u001b[1;31mNameError\u001b[0m: name 'U' is not defined"
     ]
    }
   ],
   "source": [
    "#Operations on an axis\n",
    "U @ s @ Vt #행렬의 대각선 부분만 추출, 785개=특이값\n",
    "\n",
    "import numpy as np\n",
    "\n",
    "Sigma = np.zeros((U.shape[1], Vt.shape[0]))\n",
    "np.fill_diagonal(Sigma, s) #대각행렬부분을 s로 채워준다\n",
    "\n",
    "#너구리사진\n",
    "k = 10 #k값을 100을 주면 이미지가 거의 복구됨 "
   ]
  },
  {
   "cell_type": "code",
   "execution_count": null,
   "id": "cb5159e0-580a-40d7-a428-7fd11b0deada",
   "metadata": {},
   "outputs": [],
   "source": [
    "#Applying to all colors"
   ]
  },
  {
   "cell_type": "code",
   "execution_count": null,
   "id": "58fdcdd9-e2cb-448b-a6ff-7e47eba2f517",
   "metadata": {},
   "outputs": [],
   "source": [
    "#Deep learning on MNIST\n",
    "#Relo: -값은 버리고 "
   ]
  },
  {
   "cell_type": "code",
   "execution_count": 44,
   "id": "b80e3235-ee31-4526-8025-73713a74f945",
   "metadata": {},
   "outputs": [],
   "source": [
    "#1. Load the MNIST dataset\n",
    "\n",
    "data_sources = {\n",
    "    \"training_images\": \"train-images-idx3-ubyte.gz\",  # 60,000 training images.\n",
    "    \"test_images\": \"t10k-images-idx3-ubyte.gz\",  # 10,000 test images.\n",
    "    \"training_labels\": \"train-labels-idx1-ubyte.gz\",  # 60,000 training labels.\n",
    "    \"test_labels\": \"t10k-labels-idx1-ubyte.gz\",  # 10,000 test labels.\n",
    "}\n",
    "\n",
    "# Use responsibly! When running notebooks locally, be sure to keep local\n",
    "# copies of the datasets to prevent unnecessary server requests\n",
    "headers = {\n",
    "    \"User-Agent\": \"Mozilla/5.0 (X11; Linux x86_64; rv:10.0) Gecko/20100101 Firefox/10.0\"\n",
    "}\n",
    "request_opts = {\n",
    "    \"headers\": headers,\n",
    "    \"params\": {\"raw\": \"true\"},\n",
    "}\n",
    "\n",
    "import requests\n",
    "import os\n",
    "\n",
    "data_dir = \"/_data\"\n",
    "os.makedirs(data_dir, exist_ok=True)\n",
    "\n",
    "base_url = \"https://github.com/rossbar/numpy-tutorial-data-mirror/blob/main/\"\n",
    "\n",
    "for fname in data_sources.values():\n",
    "    fpath = os.path.join(data_dir, fname)\n",
    "    if not os.path.exists(fpath):\n",
    "        print(\"Downloading file: \" + fname)\n",
    "        resp = requests.get(base_url + fname, stream=True, **request_opts)\n",
    "        resp.raise_for_status()  # Ensure download was succesful\n",
    "        with open(fpath, \"wb\") as fh:\n",
    "            for chunk in resp.iter_content(chunk_size=128):\n",
    "                fh.write(chunk)"
   ]
  },
  {
   "cell_type": "code",
   "execution_count": 45,
   "id": "50cbe4c5-a462-41f9-88d0-89a857d6df4f",
   "metadata": {},
   "outputs": [],
   "source": [
    "import gzip\n",
    "import numpy as np\n",
    "\n",
    "mnist_dataset = {}\n",
    "\n",
    "# Images\n",
    "for key in (\"training_images\", \"test_images\"):\n",
    "    with gzip.open(os.path.join(data_dir, data_sources[key]), \"rb\") as mnist_file:\n",
    "        mnist_dataset[key] = np.frombuffer(\n",
    "            mnist_file.read(), np.uint8, offset=16\n",
    "        ).reshape(-1, 28 * 28)\n",
    "# Labels\n",
    "for key in (\"training_labels\", \"test_labels\"):\n",
    "    with gzip.open(os.path.join(data_dir, data_sources[key]), \"rb\") as mnist_file:\n",
    "        mnist_dataset[key] = np.frombuffer(mnist_file.read(), np.uint8, offset=8)"
   ]
  },
  {
   "cell_type": "code",
   "execution_count": 46,
   "id": "6ace5488-1179-4cd9-b4da-ca04a594d0c8",
   "metadata": {},
   "outputs": [
    {
     "data": {
      "text/plain": [
       "{'training_images': array([[0, 0, 0, ..., 0, 0, 0],\n",
       "        [0, 0, 0, ..., 0, 0, 0],\n",
       "        [0, 0, 0, ..., 0, 0, 0],\n",
       "        ...,\n",
       "        [0, 0, 0, ..., 0, 0, 0],\n",
       "        [0, 0, 0, ..., 0, 0, 0],\n",
       "        [0, 0, 0, ..., 0, 0, 0]], dtype=uint8),\n",
       " 'test_images': array([[0, 0, 0, ..., 0, 0, 0],\n",
       "        [0, 0, 0, ..., 0, 0, 0],\n",
       "        [0, 0, 0, ..., 0, 0, 0],\n",
       "        ...,\n",
       "        [0, 0, 0, ..., 0, 0, 0],\n",
       "        [0, 0, 0, ..., 0, 0, 0],\n",
       "        [0, 0, 0, ..., 0, 0, 0]], dtype=uint8),\n",
       " 'training_labels': array([5, 0, 4, ..., 5, 6, 8], dtype=uint8),\n",
       " 'test_labels': array([7, 2, 1, ..., 4, 5, 6], dtype=uint8)}"
      ]
     },
     "execution_count": 46,
     "metadata": {},
     "output_type": "execute_result"
    }
   ],
   "source": [
    "mnist_dataset"
   ]
  },
  {
   "cell_type": "code",
   "execution_count": 47,
   "id": "5f5f8cab-48ba-4548-87bb-f80374b4382d",
   "metadata": {},
   "outputs": [],
   "source": [
    "x_train, y_train, x_test, y_test = (\n",
    "    mnist_dataset[\"training_images\"],\n",
    "    mnist_dataset[\"training_labels\"],\n",
    "    mnist_dataset[\"test_images\"],\n",
    "    mnist_dataset[\"test_labels\"],\n",
    ")"
   ]
  },
  {
   "cell_type": "code",
   "execution_count": 48,
   "id": "96c6731a-96ac-4b8e-a30d-8df9d6381ed6",
   "metadata": {},
   "outputs": [
    {
     "data": {
      "text/plain": [
       "((60000, 784), (60000,), (10000, 784), (10000,))"
      ]
     },
     "execution_count": 48,
     "metadata": {},
     "output_type": "execute_result"
    }
   ],
   "source": [
    "x_train.shape, y_train.shape, x_test.shape, y_test.shape"
   ]
  },
  {
   "cell_type": "code",
   "execution_count": 49,
   "id": "4120df41-b990-4eb1-ac5a-8e9970deb059",
   "metadata": {},
   "outputs": [
    {
     "name": "stdout",
     "output_type": "stream",
     "text": [
      "The shape of training images: (60000, 784) and training labels: (60000,)\n",
      "The shape of test images: (10000, 784) and test labels: (10000,)\n"
     ]
    }
   ],
   "source": [
    "print(\n",
    "    \"The shape of training images: {} and training labels: {}\".format(\n",
    "        x_train.shape, y_train.shape\n",
    "    )\n",
    ")\n",
    "print(\n",
    "    \"The shape of test images: {} and test labels: {}\".format(\n",
    "        x_test.shape, y_test.shape\n",
    "    )\n",
    ")"
   ]
  },
  {
   "cell_type": "code",
   "execution_count": 50,
   "id": "89a50269-7064-4b88-b46c-b70a58c488a9",
   "metadata": {},
   "outputs": [
    {
     "data": {
      "image/png": "[encoded data removed]",
      "text/plain": [
       "<Figure size 432x288 with 1 Axes>"
      ]
     },
     "metadata": {
      "needs_background": "light"
     },
     "output_type": "display_data"
    }
   ],
   "source": [
    "import matplotlib.pyplot as plt\n",
    "\n",
    "# Take the 60,000th image (indexed at 59,999) from the training set,\n",
    "# reshape from (784, ) to (28, 28) to have a valid shape for displaying purposes.\n",
    "mnist_image = x_train[59999, :].reshape(28, 28)\n",
    "# Set the color mapping to grayscale to have a black background.\n",
    "plt.imshow(mnist_image, cmap=\"gray\")\n",
    "# Display the image.\n",
    "plt.show()"
   ]
  },
  {
   "cell_type": "code",
   "execution_count": 51,
   "id": "7cca56bd-2898-483c-a249-e7fb85590ff0",
   "metadata": {},
   "outputs": [
    {
     "data": {
      "text/plain": [
       "(0, 255)"
      ]
     },
     "execution_count": 51,
     "metadata": {},
     "output_type": "execute_result"
    }
   ],
   "source": [
    "mnist_image.min(), mnist_image.max()"
   ]
  },
  {
   "cell_type": "code",
   "execution_count": null,
   "id": "f1e4d102-947b-4961-b39a-7390751a249e",
   "metadata": {},
   "outputs": [],
   "source": [
    "#Convert the image data to the floating-point format\n",
    "# training_images.min(), training_images.max()\n",
    "\n",
    "# 3brown1blue 유투브 시청"
   ]
  },
  {
   "cell_type": "code",
   "execution_count": null,
   "id": "a5a38c53-d4b2-43c7-8f59-b476c3073d68",
   "metadata": {},
   "outputs": [],
   "source": []
  },
  {
   "cell_type": "code",
   "execution_count": null,
   "id": "129ff405-efc5-4a25-98cc-3491a80a082e",
   "metadata": {},
   "outputs": [],
   "source": []
  },
  {
   "cell_type": "code",
   "execution_count": null,
   "id": "54564f03-fbf0-448b-ad68-40383fb61692",
   "metadata": {},
   "outputs": [],
   "source": [
    "#Compose the model and begin training and testing it"
   ]
  },
  {
   "cell_type": "code",
   "execution_count": null,
   "id": "2994b1d2-150b-45ce-a2ff-a05d089335e7",
   "metadata": {},
   "outputs": [],
   "source": []
  },
  {
   "cell_type": "code",
   "execution_count": null,
   "id": "d6dd00e1-26f4-4810-9d17-7d06a088359a",
   "metadata": {},
   "outputs": [],
   "source": [
    "#회귀정리"
   ]
  }
 ],
 "metadata": {
  "kernelspec": {
   "display_name": "Python 3 (ipykernel)",
   "language": "python",
   "name": "python3"
  },
  "language_info": {
   "codemirror_mode": {
    "name": "ipython",
    "version": 3
   },
   "file_extension": ".py",
   "mimetype": "text/x-python",
   "name": "python",
   "nbconvert_exporter": "python",
   "pygments_lexer": "ipython3",
   "version": "3.9.7"
  }
 },
 "nbformat": 4,
 "nbformat_minor": 5
}
