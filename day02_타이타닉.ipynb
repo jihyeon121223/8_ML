{
 "cells": [
  {
   "cell_type": "code",
   "execution_count": 1,
   "id": "ed74785e-542c-4b3c-ad82-d771674e061a",
   "metadata": {},
   "outputs": [],
   "source": [
    "import numpy as np\n",
    "import pandas as pd\n",
    "import matplotlib.pyplot as plt\n",
    "import seaborn as sns"
   ]
  },
  {
   "cell_type": "code",
   "execution_count": 2,
   "id": "9b05d1fa-6a72-4aca-b3da-ea8654f213b4",
   "metadata": {},
   "outputs": [
    {
     "data": {
      "text/html": [
       "<div>\n",
       "<style scoped>\n",
       "    .dataframe tbody tr th:only-of-type {\n",
       "        vertical-align: middle;\n",
       "    }\n",
       "\n",
       "    .dataframe tbody tr th {\n",
       "        vertical-align: top;\n",
       "    }\n",
       "\n",
       "    .dataframe thead th {\n",
       "        text-align: right;\n",
       "    }\n",
       "</style>\n",
       "<table border=\"1\" class=\"dataframe\">\n",
       "  <thead>\n",
       "    <tr style=\"text-align: right;\">\n",
       "      <th></th>\n",
       "      <th>PassengerId</th>\n",
       "      <th>Survived</th>\n",
       "      <th>Pclass</th>\n",
       "      <th>Name</th>\n",
       "      <th>Sex</th>\n",
       "      <th>Age</th>\n",
       "      <th>SibSp</th>\n",
       "      <th>Parch</th>\n",
       "      <th>Ticket</th>\n",
       "      <th>Fare</th>\n",
       "      <th>Cabin</th>\n",
       "      <th>Embarked</th>\n",
       "    </tr>\n",
       "  </thead>\n",
       "  <tbody>\n",
       "    <tr>\n",
       "      <th>0</th>\n",
       "      <td>1</td>\n",
       "      <td>0</td>\n",
       "      <td>3</td>\n",
       "      <td>Braund, Mr. Owen Harris</td>\n",
       "      <td>male</td>\n",
       "      <td>22.0</td>\n",
       "      <td>1</td>\n",
       "      <td>0</td>\n",
       "      <td>A/5 21171</td>\n",
       "      <td>7.2500</td>\n",
       "      <td>NaN</td>\n",
       "      <td>S</td>\n",
       "    </tr>\n",
       "    <tr>\n",
       "      <th>1</th>\n",
       "      <td>2</td>\n",
       "      <td>1</td>\n",
       "      <td>1</td>\n",
       "      <td>Cumings, Mrs. John Bradley (Florence Briggs Th...</td>\n",
       "      <td>female</td>\n",
       "      <td>38.0</td>\n",
       "      <td>1</td>\n",
       "      <td>0</td>\n",
       "      <td>PC 17599</td>\n",
       "      <td>71.2833</td>\n",
       "      <td>C85</td>\n",
       "      <td>C</td>\n",
       "    </tr>\n",
       "  </tbody>\n",
       "</table>\n",
       "</div>"
      ],
      "text/plain": [
       "   PassengerId  Survived  Pclass  \\\n",
       "0            1         0       3   \n",
       "1            2         1       1   \n",
       "\n",
       "                                                Name     Sex   Age  SibSp  \\\n",
       "0                            Braund, Mr. Owen Harris    male  22.0      1   \n",
       "1  Cumings, Mrs. John Bradley (Florence Briggs Th...  female  38.0      1   \n",
       "\n",
       "   Parch     Ticket     Fare Cabin Embarked  \n",
       "0      0  A/5 21171   7.2500   NaN        S  \n",
       "1      0   PC 17599  71.2833   C85        C  "
      ]
     },
     "execution_count": 2,
     "metadata": {},
     "output_type": "execute_result"
    }
   ],
   "source": [
    "titanic_df = pd.read_csv('titanic_train.csv')\n",
    "titanic_df.head(2)"
   ]
  },
  {
   "cell_type": "code",
   "execution_count": 3,
   "id": "f2e47beb-83e0-4d04-93b6-954bb18e8905",
   "metadata": {},
   "outputs": [
    {
     "name": "stdout",
     "output_type": "stream",
     "text": [
      "<class 'pandas.core.frame.DataFrame'>\n",
      "RangeIndex: 891 entries, 0 to 890\n",
      "Data columns (total 12 columns):\n",
      " #   Column       Non-Null Count  Dtype  \n",
      "---  ------       --------------  -----  \n",
      " 0   PassengerId  891 non-null    int64  \n",
      " 1   Survived     891 non-null    int64  \n",
      " 2   Pclass       891 non-null    int64  \n",
      " 3   Name         891 non-null    object \n",
      " 4   Sex          891 non-null    object \n",
      " 5   Age          714 non-null    float64\n",
      " 6   SibSp        891 non-null    int64  \n",
      " 7   Parch        891 non-null    int64  \n",
      " 8   Ticket       891 non-null    object \n",
      " 9   Fare         891 non-null    float64\n",
      " 10  Cabin        204 non-null    object \n",
      " 11  Embarked     889 non-null    object \n",
      "dtypes: float64(2), int64(5), object(5)\n",
      "memory usage: 83.7+ KB\n"
     ]
    }
   ],
   "source": [
    "titanic_df.info() #null값 확인(채울거 채우고 뺄거 빼고)"
   ]
  },
  {
   "cell_type": "code",
   "execution_count": 4,
   "id": "c8f547f2-5fb4-400f-a75f-702687a336bc",
   "metadata": {},
   "outputs": [],
   "source": [
    "titanic_df['Age'].fillna(titanic_df['Age'].mean(),inplace=True) #바뀐내용이 리턴\n",
    "titanic_df['Cabin'].fillna('N',inplace=True)\n",
    "titanic_df['Embarked'].fillna('N',inplace=True)"
   ]
  },
  {
   "cell_type": "code",
   "execution_count": 5,
   "id": "bfe872bf-c618-4b87-9b4c-f03d7ae1a6e7",
   "metadata": {},
   "outputs": [
    {
     "data": {
      "text/plain": [
       "PassengerId    0\n",
       "Survived       0\n",
       "Pclass         0\n",
       "Name           0\n",
       "Sex            0\n",
       "Age            0\n",
       "SibSp          0\n",
       "Parch          0\n",
       "Ticket         0\n",
       "Fare           0\n",
       "Cabin          0\n",
       "Embarked       0\n",
       "dtype: int64"
      ]
     },
     "execution_count": 5,
     "metadata": {},
     "output_type": "execute_result"
    }
   ],
   "source": [
    "titanic_df.isnull().sum()"
   ]
  },
  {
   "cell_type": "code",
   "execution_count": 6,
   "id": "6c6acd4a-b8a4-422c-a209-b6db2090831f",
   "metadata": {},
   "outputs": [
    {
     "data": {
      "text/plain": [
       "male      577\n",
       "female    314\n",
       "Name: Sex, dtype: int64"
      ]
     },
     "execution_count": 6,
     "metadata": {},
     "output_type": "execute_result"
    }
   ],
   "source": [
    "titanic_df.Sex.value_counts()"
   ]
  },
  {
   "cell_type": "code",
   "execution_count": 7,
   "id": "4df50a56-c7f7-4249-ba24-d3b0a1c28c78",
   "metadata": {},
   "outputs": [
    {
     "data": {
      "text/plain": [
       "N              687\n",
       "C23 C25 C27      4\n",
       "G6               4\n",
       "B96 B98          4\n",
       "C22 C26          3\n",
       "              ... \n",
       "E34              1\n",
       "C7               1\n",
       "C54              1\n",
       "E36              1\n",
       "C148             1\n",
       "Name: Cabin, Length: 148, dtype: int64"
      ]
     },
     "execution_count": 7,
     "metadata": {},
     "output_type": "execute_result"
    }
   ],
   "source": [
    "titanic_df.Cabin.value_counts() #중간에 띄어쓰기가 있으니 첫글자만 빼서 슬라이스 해줄거야 #선실확인 후 어떻게 분류할까 생각"
   ]
  },
  {
   "cell_type": "code",
   "execution_count": 8,
   "id": "c6f9efce-c275-4986-aa08-aef6e07ff0e2",
   "metadata": {},
   "outputs": [
    {
     "data": {
      "text/plain": [
       "S    644\n",
       "C    168\n",
       "Q     77\n",
       "N      2\n",
       "Name: Embarked, dtype: int64"
      ]
     },
     "execution_count": 8,
     "metadata": {},
     "output_type": "execute_result"
    }
   ],
   "source": [
    "titanic_df.Embarked.value_counts()"
   ]
  },
  {
   "cell_type": "code",
   "execution_count": 9,
   "id": "1f1c83c3-aeb9-494b-a752-4bf0f58704a0",
   "metadata": {},
   "outputs": [],
   "source": [
    "titanic_df.Cabin = titanic_df.Cabin.str[:1]"
   ]
  },
  {
   "cell_type": "code",
   "execution_count": 10,
   "id": "55b064d6-c473-4ff3-b093-ebcec3e9a308",
   "metadata": {},
   "outputs": [
    {
     "data": {
      "text/plain": [
       "0    N\n",
       "1    C\n",
       "2    N\n",
       "Name: Cabin, dtype: object"
      ]
     },
     "execution_count": 10,
     "metadata": {},
     "output_type": "execute_result"
    }
   ],
   "source": [
    "titanic_df.Cabin.head(3)"
   ]
  },
  {
   "cell_type": "code",
   "execution_count": 11,
   "id": "1510e70e-ed02-4828-bc78-19d29d39f9d7",
   "metadata": {},
   "outputs": [
    {
     "data": {
      "text/plain": [
       "Sex     Survived\n",
       "female  0            81\n",
       "        1           233\n",
       "male    0           468\n",
       "        1           109\n",
       "Name: Survived, dtype: int64"
      ]
     },
     "execution_count": 11,
     "metadata": {},
     "output_type": "execute_result"
    }
   ],
   "source": [
    "titanic_df.groupby(['Sex','Survived'])['Survived'].count()"
   ]
  },
  {
   "cell_type": "code",
   "execution_count": 12,
   "id": "609f3e9a-518b-4ca3-9cf4-3d799e319b6e",
   "metadata": {},
   "outputs": [
    {
     "data": {
      "text/plain": [
       "<AxesSubplot:xlabel='Pclass', ylabel='Survived'>"
      ]
     },
     "execution_count": 12,
     "metadata": {},
     "output_type": "execute_result"
    },
    {
     "data": {
      "image/png": "[encoded data removed]",
      "text/plain": [
       "<Figure size 432x288 with 1 Axes>"
      ]
     },
     "metadata": {
      "needs_background": "light"
     },
     "output_type": "display_data"
    }
   ],
   "source": [
    "sns.barplot(x='Sex',y='Survived',data=titanic_df)\n",
    "sns.barplot(x='Pclass',y='Survived',data=titanic_df)\n",
    "sns.barplot(x='Pclass',y='Survived', hue='Sex',data=titanic_df)"
   ]
  },
  {
   "cell_type": "code",
   "execution_count": 13,
   "id": "4b86c9b5-e189-4f9c-a98b-45b3a622d11c",
   "metadata": {},
   "outputs": [
    {
     "data": {
      "text/plain": [
       "<AxesSubplot:xlabel='Age', ylabel='Survived'>"
      ]
     },
     "execution_count": 13,
     "metadata": {},
     "output_type": "execute_result"
    },
    {
     "data": {
      "image/png": "[encoded data removed]",
      "text/plain": [
       "<Figure size 432x288 with 1 Axes>"
      ]
     },
     "metadata": {
      "needs_background": "light"
     },
     "output_type": "display_data"
    }
   ],
   "source": [
    "sns.barplot(x='Age',y='Survived', hue='Sex',data=titanic_df)"
   ]
  },
  {
   "cell_type": "code",
   "execution_count": 14,
   "id": "99332392-7090-4735-a1a4-ea41b9286600",
   "metadata": {},
   "outputs": [],
   "source": [
    "def get_category(age):\n",
    "    cat=''\n",
    "    if age <= -1: cat='Unknown'\n",
    "    elif age <= 5: cat='Baby'\n",
    "    elif age <= 12: cat='Child'\n",
    "    elif age <= 18: cat='Teenager'\n",
    "    elif age <= 25: cat='Student'\n",
    "    elif age <= 35: cat='Young Adult'\n",
    "    elif age <= 60: cat='Adult'\n",
    "    else: cat='Elderly'\n",
    "    return cat"
   ]
  },
  {
   "cell_type": "code",
   "execution_count": 15,
   "id": "47815b10-a4b1-4a80-8b8d-0ba1e4dfc182",
   "metadata": {},
   "outputs": [
    {
     "data": {
      "image/png": "[encoded data removed]",
      "text/plain": [
       "<Figure size 720x432 with 1 Axes>"
      ]
     },
     "metadata": {
      "needs_background": "light"
     },
     "output_type": "display_data"
    }
   ],
   "source": [
    "plt.figure(figsize=(10,6))\n",
    "group_names=['Unknown','Baby','Child','Teenager','Student','Young Adult','Adult','Elderly'] #내가 원하는 순서대로 만들어준다\n",
    "titanic_df['Age_cat'] = titanic_df['Age'].apply(lambda x:get_category(x)) #새로운 컬럼에 넣을거야\n",
    "sns.barplot(x='Age_cat',y='Survived',hue='Sex',data=titanic_df,order=group_names) #order 내가 정한 순서대로\n",
    "titanic_df.drop(columns='Age_cat',inplace=True) "
   ]
  },
  {
   "cell_type": "code",
   "execution_count": 16,
   "id": "ba88e558-96eb-4929-9fba-87eb028b6cf3",
   "metadata": {},
   "outputs": [],
   "source": [
    "def encode_features(dataDf):\n",
    "    from sklearn.preprocessing import LabelEncoder #따로 호출안하고 함수안에서 호출 가능\n",
    "    features = ['Cabin','Sex','Embarked']\n",
    "    for feature in features:\n",
    "        dataDf[feature] = LabelEncoder().fit_transform(dataDf[feature])\n",
    "    return dataDf"
   ]
  },
  {
   "cell_type": "code",
   "execution_count": 17,
   "id": "27fd1c1c-ee29-401a-8a59-6161bccfc9cf",
   "metadata": {},
   "outputs": [
    {
     "data": {
      "text/html": [
       "<div>\n",
       "<style scoped>\n",
       "    .dataframe tbody tr th:only-of-type {\n",
       "        vertical-align: middle;\n",
       "    }\n",
       "\n",
       "    .dataframe tbody tr th {\n",
       "        vertical-align: top;\n",
       "    }\n",
       "\n",
       "    .dataframe thead th {\n",
       "        text-align: right;\n",
       "    }\n",
       "</style>\n",
       "<table border=\"1\" class=\"dataframe\">\n",
       "  <thead>\n",
       "    <tr style=\"text-align: right;\">\n",
       "      <th></th>\n",
       "      <th>PassengerId</th>\n",
       "      <th>Survived</th>\n",
       "      <th>Pclass</th>\n",
       "      <th>Name</th>\n",
       "      <th>Sex</th>\n",
       "      <th>Age</th>\n",
       "      <th>SibSp</th>\n",
       "      <th>Parch</th>\n",
       "      <th>Ticket</th>\n",
       "      <th>Fare</th>\n",
       "      <th>Cabin</th>\n",
       "      <th>Embarked</th>\n",
       "    </tr>\n",
       "  </thead>\n",
       "  <tbody>\n",
       "    <tr>\n",
       "      <th>0</th>\n",
       "      <td>1</td>\n",
       "      <td>0</td>\n",
       "      <td>3</td>\n",
       "      <td>Braund, Mr. Owen Harris</td>\n",
       "      <td>1</td>\n",
       "      <td>22.0</td>\n",
       "      <td>1</td>\n",
       "      <td>0</td>\n",
       "      <td>A/5 21171</td>\n",
       "      <td>7.2500</td>\n",
       "      <td>7</td>\n",
       "      <td>3</td>\n",
       "    </tr>\n",
       "    <tr>\n",
       "      <th>1</th>\n",
       "      <td>2</td>\n",
       "      <td>1</td>\n",
       "      <td>1</td>\n",
       "      <td>Cumings, Mrs. John Bradley (Florence Briggs Th...</td>\n",
       "      <td>0</td>\n",
       "      <td>38.0</td>\n",
       "      <td>1</td>\n",
       "      <td>0</td>\n",
       "      <td>PC 17599</td>\n",
       "      <td>71.2833</td>\n",
       "      <td>2</td>\n",
       "      <td>0</td>\n",
       "    </tr>\n",
       "  </tbody>\n",
       "</table>\n",
       "</div>"
      ],
      "text/plain": [
       "   PassengerId  Survived  Pclass  \\\n",
       "0            1         0       3   \n",
       "1            2         1       1   \n",
       "\n",
       "                                                Name  Sex   Age  SibSp  Parch  \\\n",
       "0                            Braund, Mr. Owen Harris    1  22.0      1      0   \n",
       "1  Cumings, Mrs. John Bradley (Florence Briggs Th...    0  38.0      1      0   \n",
       "\n",
       "      Ticket     Fare  Cabin  Embarked  \n",
       "0  A/5 21171   7.2500      7         3  \n",
       "1   PC 17599  71.2833      2         0  "
      ]
     },
     "execution_count": 17,
     "metadata": {},
     "output_type": "execute_result"
    }
   ],
   "source": [
    "titanic_df = encode_features(titanic_df)\n",
    "titanic_df.head(2)"
   ]
  },
  {
   "cell_type": "code",
   "execution_count": 18,
   "id": "497b0bc2-008a-43f9-a46d-d28695b41009",
   "metadata": {},
   "outputs": [],
   "source": [
    "#전처리 끝나고 함수처리\n",
    "def fillna(df):\n",
    "    df['Age'].fillna(titanic_df['Age'].mean(),inplace=True)\n",
    "    df['Cabin'].fillna('N',inplace=True)\n",
    "    df['Embarked'].fillna('N',inplace=True)\n",
    "    df['Fare'].fillna(0,inplace=True)\n",
    "    return df\n",
    "\n",
    "def drop_feature(df):\n",
    "    df.drop(columns=['PassengerId','Name','Ticket'],inplace=True)\n",
    "    return df\n",
    "\n",
    "def format_features(df):\n",
    "    from sklearn.preprocessing import LabelEncoder \n",
    "    df.Cabin = df.Cabin.str[:1]\n",
    "    features = ['Cabin','Sex','Embarked']\n",
    "    for feature in features:\n",
    "        df[feature] = LabelEncoder().fit_transform(df[feature])\n",
    "    return df\n",
    "\n",
    "def transform_features(df):\n",
    "    df = fillna(df)\n",
    "    df = drop_feature(df)\n",
    "    df = format_features(df)\n",
    "    return df"
   ]
  },
  {
   "cell_type": "code",
   "execution_count": 19,
   "id": "74066351-5ae4-44e4-9af6-ccb9fded4255",
   "metadata": {
    "tags": []
   },
   "outputs": [],
   "source": [
    "titanic_df = pd.read_csv('titanic_train.csv')\n",
    "y_titanic_df = titanic_df['Survived']\n",
    "X_titanic_df = titanic_df.drop(columns=['Survived'])\n",
    "X_titanic_df = transform_features(X_titanic_df)\n",
    "#전처리 끝"
   ]
  },
  {
   "cell_type": "code",
   "execution_count": 20,
   "id": "d6bf7cc4-33a1-4bf9-b342-4f25fceefd47",
   "metadata": {},
   "outputs": [],
   "source": [
    "from sklearn.model_selection import train_test_split"
   ]
  },
  {
   "cell_type": "code",
   "execution_count": 21,
   "id": "78e27193-c990-4235-a758-3caf40f722c5",
   "metadata": {},
   "outputs": [],
   "source": [
    "#우리가 평가한 수치값이 다른 사람들이 넣은 수치값에도 정확도가 비슷해야 함, 학습과 검증용 데이터는 분리시킨다.\n",
    "#평가의 목적: 실제 서비스를 했을 때 평가에서 나왔던 만큼의 결과가 나와야함\n",
    "X_train,X_test,y_train,y_test = train_test_split(X_titanic_df,\n",
    "                                                y_titanic_df,\n",
    "                                                test_size=0.2,\n",
    "                                                random_state=11)"
   ]
  },
  {
   "cell_type": "code",
   "execution_count": 22,
   "id": "9301212a-7bae-432d-84f2-e00e64730187",
   "metadata": {},
   "outputs": [],
   "source": [
    "from sklearn.tree import DecisionTreeClassifier\n",
    "from sklearn.ensemble import RandomForestClassifier\n",
    "from sklearn.linear_model import LogisticRegression\n",
    "from sklearn.metrics import accuracy_score"
   ]
  },
  {
   "cell_type": "code",
   "execution_count": 23,
   "id": "42ecf743-01f7-42f1-8b4d-30be0b274d0a",
   "metadata": {},
   "outputs": [],
   "source": [
    "dt_clf = DecisionTreeClassifier(random_state=11) #성능낮\n",
    "rf_clf = RandomForestClassifier(random_state=11) #결정나무를 모아서 작동, 성능 괜찮\n",
    "lr_clf = LogisticRegression() "
   ]
  },
  {
   "cell_type": "code",
   "execution_count": 26,
   "id": "cc4c7a78-82f4-49a4-af76-a14450797049",
   "metadata": {},
   "outputs": [
    {
     "name": "stderr",
     "output_type": "stream",
     "text": [
      "C:\\Users\\user\\anaconda3\\lib\\site-packages\\sklearn\\linear_model\\_logistic.py:763: ConvergenceWarning: lbfgs failed to converge (status=1):\n",
      "STOP: TOTAL NO. of ITERATIONS REACHED LIMIT.\n",
      "\n",
      "Increase the number of iterations (max_iter) or scale the data as shown in:\n",
      "    https://scikit-learn.org/stable/modules/preprocessing.html\n",
      "Please also refer to the documentation for alternative solver options:\n",
      "    https://scikit-learn.org/stable/modules/linear_model.html#logistic-regression\n",
      "  n_iter_i = _check_optimize_result(\n"
     ]
    },
    {
     "data": {
      "text/plain": [
       "LogisticRegression()"
      ]
     },
     "execution_count": 26,
     "metadata": {},
     "output_type": "execute_result"
    }
   ],
   "source": [
    "dt_clf.fit(X_train,y_train)\n",
    "rf_clf.fit(X_train,y_train)\n",
    "lr_clf.fit(X_train,y_train)"
   ]
  },
  {
   "cell_type": "code",
   "execution_count": 27,
   "id": "30e840c6-3867-4048-a6c7-903cacf01212",
   "metadata": {
    "tags": []
   },
   "outputs": [],
   "source": [
    "dt_pred = dt_clf.predict(X_test)\n",
    "rf_pred = rf_clf.predict(X_test)\n",
    "lr_pred = lr_clf.predict(X_test)"
   ]
  },
  {
   "cell_type": "code",
   "execution_count": 28,
   "id": "e3e77726-f343-42d3-93da-3197bbf6d1a4",
   "metadata": {},
   "outputs": [
    {
     "name": "stdout",
     "output_type": "stream",
     "text": [
      "dt 0.7877094972067039\n",
      "rf 0.8547486033519553\n",
      "lr 0.8491620111731844\n"
     ]
    }
   ],
   "source": [
    "print('dt',accuracy_score(y_test,dt_pred))\n",
    "print('rf',accuracy_score(y_test,rf_pred))\n",
    "print('lr',accuracy_score(y_test,lr_pred))"
   ]
  },
  {
   "cell_type": "markdown",
   "id": "bad6b144-a994-44d7-836a-a3e8d75dc9b3",
   "metadata": {},
   "source": [
    "# day3 p142"
   ]
  },
  {
   "cell_type": "code",
   "execution_count": 33,
   "id": "1c3a02cf-7190-4b38-9a0c-ce83063435f9",
   "metadata": {},
   "outputs": [],
   "source": [
    "import warnings\n",
    "warnings.filterwarnings('ignore')"
   ]
  },
  {
   "cell_type": "code",
   "execution_count": 34,
   "id": "e6bf3b79-fff0-4630-9cfc-25333f46c951",
   "metadata": {},
   "outputs": [],
   "source": [
    "from sklearn.model_selection import KFold"
   ]
  },
  {
   "cell_type": "code",
   "execution_count": 39,
   "id": "684e016d-e805-477f-a1df-10d5ada225b9",
   "metadata": {},
   "outputs": [],
   "source": [
    "def exec_kfold(clf,folds=5):\n",
    "    kfold = KFold(n_splits=folds)\n",
    "    scores = []\n",
    "    for iter_count,(train_index,test_index) in enumerate(kfold.split(X_titanic_df)):\n",
    "        X_train,X_test = X_titanic_df.values[train_index],X_titanic_df.values[test_index]\n",
    "        y_train,y_test = y_titanic_df.values[train_index],y_titanic_df.values[test_index]\n",
    "        clf.fit(X_train,y_train)\n",
    "        pred = clf.predict(X_test)\n",
    "        accuracy = accuracy_score(y_test,pred)\n",
    "        scores.append(accuracy)\n",
    "        print(f'교차검증{iter_count} 정확도:{accuracy:.4f}') #소수이하 네자리\n",
    "    mean_score = np.mean(scores)\n",
    "    print(f'평균 정확도:{mean_score:.4f}')"
   ]
  },
  {
   "cell_type": "code",
   "execution_count": 54,
   "id": "9ca5cfbd-46bb-4e88-a15c-502c1190318a",
   "metadata": {
    "tags": []
   },
   "outputs": [
    {
     "name": "stdout",
     "output_type": "stream",
     "text": [
      "교차검증0 정확도:0.7542\n",
      "교차검증1 정확도:0.7809\n",
      "교차검증2 정확도:0.7865\n",
      "교차검증3 정확도:0.7697\n",
      "교차검증4 정확도:0.8202\n",
      "평균 정확도:0.7823\n"
     ]
    }
   ],
   "source": [
    "exec_kfold(dt_clf) #dt 0.7877094972067039\n",
    "# 교차검증0 정확도:0.7542\n",
    "# 교차검증1 정확도:0.7809\n",
    "# 교차검증2 정확도:0.7865\n",
    "# 교차검증3 정확도:0.7697\n",
    "# 교차검증4 정확도:0.8202\n",
    "# 평균 정확도:0.7823"
   ]
  },
  {
   "cell_type": "code",
   "execution_count": 41,
   "id": "f6894ea4-2126-4b26-a629-b342c87cf32f",
   "metadata": {
    "tags": []
   },
   "outputs": [
    {
     "name": "stdout",
     "output_type": "stream",
     "text": [
      "교차검증0 정확도:0.7933\n",
      "교차검증1 정확도:0.8090\n",
      "교차검증2 정확도:0.8371\n",
      "교차검증3 정확도:0.7753\n",
      "교차검증4 정확도:0.8596\n",
      "평균 정확도:0.8148\n"
     ]
    }
   ],
   "source": [
    "exec_kfold(rf_clf) #rf 0.8547486033519553\n",
    "# 교차검증0 정확도:0.7933\n",
    "# 교차검증1 정확도:0.8090\n",
    "# 교차검증2 정확도:0.8371\n",
    "# 교차검증3 정확도:0.7753\n",
    "# 교차검증4 정확도:0.8596\n",
    "# 평균 정확도:0.8148"
   ]
  },
  {
   "cell_type": "code",
   "execution_count": 42,
   "id": "0bf425e2-e990-450b-98da-025a5a1b099d",
   "metadata": {},
   "outputs": [
    {
     "name": "stdout",
     "output_type": "stream",
     "text": [
      "교차검증0 정확도:0.8045\n",
      "교차검증1 정확도:0.7809\n",
      "교차검증2 정확도:0.7753\n",
      "교차검증3 정확도:0.7584\n",
      "교차검증4 정확도:0.8371\n",
      "평균 정확도:0.7912\n"
     ]
    }
   ],
   "source": [
    "exec_kfold(lr_clf) #lr 0.8491620111731844\n",
    "# 교차검증0 정확도:0.8045\n",
    "# 교차검증1 정확도:0.7809\n",
    "# 교차검증2 정확도:0.7753\n",
    "# 교차검증3 정확도:0.7584\n",
    "# 교차검증4 정확도:0.8371\n",
    "# 평균 정확도:0.7912"
   ]
  },
  {
   "cell_type": "code",
   "execution_count": 43,
   "id": "50becc91-26c0-431f-bfa1-ed201ed4b464",
   "metadata": {},
   "outputs": [],
   "source": [
    "from sklearn.model_selection import cross_val_score"
   ]
  },
  {
   "cell_type": "code",
   "execution_count": 57,
   "id": "e3d8797d-c51c-4df9-8c8f-a8c349939e4e",
   "metadata": {},
   "outputs": [
    {
     "name": "stdout",
     "output_type": "stream",
     "text": [
      "교차검증 0 정확도 : 0.7430\n",
      "교차검증 1 정확도 : 0.7753\n",
      "교차검증 2 정확도 : 0.7921\n",
      "교차검증 3 정확도 : 0.7865\n",
      "교차검증 4 정확도 : 0.8427\n",
      "퍙균정확도:0.7879\n"
     ]
    }
   ],
   "source": [
    "scores = cross_val_score(dt_clf,X_titanic_df,y_titanic_df,cv=5)\n",
    "for iter_count,accuracy in enumerate(scores):\n",
    "    print(f'교차검증 {iter_count} 정확도 : {accuracy:.4f}')\n",
    "print(f'퍙균정확도:{np.mean(scores):.4f}')"
   ]
  },
  {
   "cell_type": "code",
   "execution_count": 45,
   "id": "c78917ba-a1e7-4399-9234-155d717b697c",
   "metadata": {},
   "outputs": [
    {
     "name": "stdout",
     "output_type": "stream",
     "text": [
      "교차검증 0 정확도 : 0.7430\n",
      "교차검증 1 정확도 : 0.7753\n",
      "교차검증 2 정확도 : 0.7921\n",
      "교차검증 3 정확도 : 0.7865\n",
      "교차검증 4 정확도 : 0.8427\n",
      "퍙균정확도:0.7879\n"
     ]
    }
   ],
   "source": [
    "scores = cross_val_score(dt_clf,X_titanic_df,y_titanic_df,cv=5)\n",
    "for iter_count,accuracy in enumerate(scores):\n",
    "    print(f'교차검증 {iter_count} 정확도 : {accuracy:.4f}')\n",
    "print(f'퍙균정확도:{np.mean(scores):.4f}')"
   ]
  },
  {
   "cell_type": "code",
   "execution_count": 58,
   "id": "e1c96b22-481e-4acd-a527-611b083ff70b",
   "metadata": {},
   "outputs": [],
   "source": [
    "from sklearn.model_selection import GridSearchCV"
   ]
  },
  {
   "cell_type": "code",
   "execution_count": 61,
   "id": "9d4b715e-4fdf-45ae-99e8-264583be8ff5",
   "metadata": {},
   "outputs": [],
   "source": [
    "parameters = {\n",
    "    'max_depth':[2,3,5,10],\n",
    "    'min_samples_split':[2,3,5],\n",
    "    'min_samples_leaf':[1,5,8]\n",
    "}"
   ]
  },
  {
   "cell_type": "code",
   "execution_count": 62,
   "id": "4939cdd1-f080-40d9-954f-216b5f94b4d1",
   "metadata": {},
   "outputs": [
    {
     "data": {
      "text/plain": [
       "GridSearchCV(cv=5, estimator=DecisionTreeClassifier(random_state=11),\n",
       "             param_grid={'max_depth': [2, 3, 5, 10],\n",
       "                         'min_samples_leaf': [1, 5, 8],\n",
       "                         'min_samples_split': [2, 3, 5]},\n",
       "             scoring='accuracy')"
      ]
     },
     "execution_count": 62,
     "metadata": {},
     "output_type": "execute_result"
    }
   ],
   "source": [
    "grid_dclf = GridSearchCV(dt_clf,param_grid=parameters,scoring='accuracy',cv=5)\n",
    "grid_dclf.fit(X_train,y_train)"
   ]
  },
  {
   "cell_type": "code",
   "execution_count": 63,
   "id": "5b23989f-df33-4a52-b994-602159436559",
   "metadata": {
    "collapsed": true,
    "jupyter": {
     "outputs_hidden": true
    },
    "tags": []
   },
   "outputs": [
    {
     "data": {
      "text/plain": [
       "{'mean_fit_time': array([0.00159602, 0.00180573, 0.00158815, 0.00139074, 0.00159621,\n",
       "        0.0013979 , 0.00159698, 0.00139699, 0.0015985 , 0.00170588,\n",
       "        0.00161481, 0.00160275, 0.0017807 , 0.00160222, 0.00158601,\n",
       "        0.00161281, 0.00221257, 0.00161161, 0.00180988, 0.00119619,\n",
       "        0.00199418, 0.00200548, 0.00139441, 0.00200791, 0.00178661,\n",
       "        0.00140042, 0.00202794, 0.00200129, 0.00220046, 0.00201316,\n",
       "        0.00137753, 0.00140953, 0.00178452, 0.00200849, 0.00199332,\n",
       "        0.00139556]),\n",
       " 'std_fit_time': array([4.88169185e-04, 4.02677176e-04, 4.94187838e-04, 4.93165529e-04,\n",
       "        4.89202646e-04, 4.86924930e-04, 7.97124021e-04, 4.95485862e-04,\n",
       "        4.91882747e-04, 3.92417253e-04, 4.76957902e-04, 4.69636881e-04,\n",
       "        7.61822440e-04, 4.77285446e-04, 5.08638900e-04, 5.06191799e-04,\n",
       "        3.90630850e-04, 5.01749701e-04, 4.07260233e-04, 4.31236758e-04,\n",
       "        1.72779627e-05, 2.65267215e-05, 5.01582661e-04, 3.28122871e-05,\n",
       "        3.95089746e-04, 4.87060422e-04, 2.60596633e-05, 1.27575106e-05,\n",
       "        3.81287102e-04, 3.61653244e-05, 4.91362203e-04, 4.78572525e-04,\n",
       "        3.93928865e-04, 2.48849613e-05, 6.19663906e-04, 4.77093570e-04]),\n",
       " 'mean_score_time': array([0.00100317, 0.00099254, 0.00100446, 0.00100183, 0.0009975 ,\n",
       "        0.00099006, 0.00099235, 0.00079823, 0.00099554, 0.00091867,\n",
       "        0.00099611, 0.00099077, 0.00101275, 0.0009891 , 0.00099902,\n",
       "        0.00077996, 0.00079784, 0.00080242, 0.00079169, 0.00099125,\n",
       "        0.00100923, 0.0009932 , 0.00079784, 0.0010046 , 0.00079966,\n",
       "        0.00100946, 0.00077658, 0.00079722, 0.00059953, 0.00100255,\n",
       "        0.00100298, 0.0006043 , 0.00079756, 0.00099621, 0.00098886,\n",
       "        0.00061026]),\n",
       " 'std_score_time': array([1.24577757e-05, 1.22816813e-05, 1.20612469e-05, 9.06366973e-06,\n",
       "        2.40034350e-06, 1.07712437e-05, 1.36540386e-05, 3.99182626e-04,\n",
       "        7.29514102e-06, 5.13406239e-04, 3.25875552e-05, 2.96271325e-05,\n",
       "        3.16866813e-05, 3.27849734e-05, 1.50392051e-05, 3.90638888e-04,\n",
       "        3.98922052e-04, 4.01368897e-04, 3.97045028e-04, 2.67210115e-05,\n",
       "        2.60197590e-05, 3.31027348e-05, 3.98922337e-04, 4.26678941e-05,\n",
       "        3.99838776e-04, 2.57977276e-05, 3.89315548e-04, 3.98693965e-04,\n",
       "        4.89513874e-04, 3.14311292e-05, 1.09562611e-05, 4.68016329e-04,\n",
       "        3.98780640e-04, 2.14886971e-05, 1.69452389e-05, 4.98859473e-04]),\n",
       " 'param_max_depth': masked_array(data=[2, 2, 2, 2, 2, 2, 2, 2, 2, 3, 3, 3, 3, 3, 3, 3, 3, 3,\n",
       "                    5, 5, 5, 5, 5, 5, 5, 5, 5, 10, 10, 10, 10, 10, 10, 10,\n",
       "                    10, 10],\n",
       "              mask=[False, False, False, False, False, False, False, False,\n",
       "                    False, False, False, False, False, False, False, False,\n",
       "                    False, False, False, False, False, False, False, False,\n",
       "                    False, False, False, False, False, False, False, False,\n",
       "                    False, False, False, False],\n",
       "        fill_value='?',\n",
       "             dtype=object),\n",
       " 'param_min_samples_leaf': masked_array(data=[1, 1, 1, 5, 5, 5, 8, 8, 8, 1, 1, 1, 5, 5, 5, 8, 8, 8,\n",
       "                    1, 1, 1, 5, 5, 5, 8, 8, 8, 1, 1, 1, 5, 5, 5, 8, 8, 8],\n",
       "              mask=[False, False, False, False, False, False, False, False,\n",
       "                    False, False, False, False, False, False, False, False,\n",
       "                    False, False, False, False, False, False, False, False,\n",
       "                    False, False, False, False, False, False, False, False,\n",
       "                    False, False, False, False],\n",
       "        fill_value='?',\n",
       "             dtype=object),\n",
       " 'param_min_samples_split': masked_array(data=[2, 3, 5, 2, 3, 5, 2, 3, 5, 2, 3, 5, 2, 3, 5, 2, 3, 5,\n",
       "                    2, 3, 5, 2, 3, 5, 2, 3, 5, 2, 3, 5, 2, 3, 5, 2, 3, 5],\n",
       "              mask=[False, False, False, False, False, False, False, False,\n",
       "                    False, False, False, False, False, False, False, False,\n",
       "                    False, False, False, False, False, False, False, False,\n",
       "                    False, False, False, False, False, False, False, False,\n",
       "                    False, False, False, False],\n",
       "        fill_value='?',\n",
       "             dtype=object),\n",
       " 'params': [{'max_depth': 2, 'min_samples_leaf': 1, 'min_samples_split': 2},\n",
       "  {'max_depth': 2, 'min_samples_leaf': 1, 'min_samples_split': 3},\n",
       "  {'max_depth': 2, 'min_samples_leaf': 1, 'min_samples_split': 5},\n",
       "  {'max_depth': 2, 'min_samples_leaf': 5, 'min_samples_split': 2},\n",
       "  {'max_depth': 2, 'min_samples_leaf': 5, 'min_samples_split': 3},\n",
       "  {'max_depth': 2, 'min_samples_leaf': 5, 'min_samples_split': 5},\n",
       "  {'max_depth': 2, 'min_samples_leaf': 8, 'min_samples_split': 2},\n",
       "  {'max_depth': 2, 'min_samples_leaf': 8, 'min_samples_split': 3},\n",
       "  {'max_depth': 2, 'min_samples_leaf': 8, 'min_samples_split': 5},\n",
       "  {'max_depth': 3, 'min_samples_leaf': 1, 'min_samples_split': 2},\n",
       "  {'max_depth': 3, 'min_samples_leaf': 1, 'min_samples_split': 3},\n",
       "  {'max_depth': 3, 'min_samples_leaf': 1, 'min_samples_split': 5},\n",
       "  {'max_depth': 3, 'min_samples_leaf': 5, 'min_samples_split': 2},\n",
       "  {'max_depth': 3, 'min_samples_leaf': 5, 'min_samples_split': 3},\n",
       "  {'max_depth': 3, 'min_samples_leaf': 5, 'min_samples_split': 5},\n",
       "  {'max_depth': 3, 'min_samples_leaf': 8, 'min_samples_split': 2},\n",
       "  {'max_depth': 3, 'min_samples_leaf': 8, 'min_samples_split': 3},\n",
       "  {'max_depth': 3, 'min_samples_leaf': 8, 'min_samples_split': 5},\n",
       "  {'max_depth': 5, 'min_samples_leaf': 1, 'min_samples_split': 2},\n",
       "  {'max_depth': 5, 'min_samples_leaf': 1, 'min_samples_split': 3},\n",
       "  {'max_depth': 5, 'min_samples_leaf': 1, 'min_samples_split': 5},\n",
       "  {'max_depth': 5, 'min_samples_leaf': 5, 'min_samples_split': 2},\n",
       "  {'max_depth': 5, 'min_samples_leaf': 5, 'min_samples_split': 3},\n",
       "  {'max_depth': 5, 'min_samples_leaf': 5, 'min_samples_split': 5},\n",
       "  {'max_depth': 5, 'min_samples_leaf': 8, 'min_samples_split': 2},\n",
       "  {'max_depth': 5, 'min_samples_leaf': 8, 'min_samples_split': 3},\n",
       "  {'max_depth': 5, 'min_samples_leaf': 8, 'min_samples_split': 5},\n",
       "  {'max_depth': 10, 'min_samples_leaf': 1, 'min_samples_split': 2},\n",
       "  {'max_depth': 10, 'min_samples_leaf': 1, 'min_samples_split': 3},\n",
       "  {'max_depth': 10, 'min_samples_leaf': 1, 'min_samples_split': 5},\n",
       "  {'max_depth': 10, 'min_samples_leaf': 5, 'min_samples_split': 2},\n",
       "  {'max_depth': 10, 'min_samples_leaf': 5, 'min_samples_split': 3},\n",
       "  {'max_depth': 10, 'min_samples_leaf': 5, 'min_samples_split': 5},\n",
       "  {'max_depth': 10, 'min_samples_leaf': 8, 'min_samples_split': 2},\n",
       "  {'max_depth': 10, 'min_samples_leaf': 8, 'min_samples_split': 3},\n",
       "  {'max_depth': 10, 'min_samples_leaf': 8, 'min_samples_split': 5}],\n",
       " 'split0_test_score': array([0.73426573, 0.73426573, 0.73426573, 0.73426573, 0.73426573,\n",
       "        0.73426573, 0.73426573, 0.73426573, 0.73426573, 0.79020979,\n",
       "        0.79020979, 0.79020979, 0.79020979, 0.79020979, 0.79020979,\n",
       "        0.79020979, 0.79020979, 0.79020979, 0.72727273, 0.72727273,\n",
       "        0.72727273, 0.72027972, 0.72027972, 0.72027972, 0.72727273,\n",
       "        0.72727273, 0.72727273, 0.76223776, 0.76223776, 0.76923077,\n",
       "        0.72727273, 0.72727273, 0.72727273, 0.74825175, 0.74825175,\n",
       "        0.74825175]),\n",
       " 'split1_test_score': array([0.76923077, 0.76923077, 0.76923077, 0.76923077, 0.76923077,\n",
       "        0.76923077, 0.76923077, 0.76923077, 0.76923077, 0.7972028 ,\n",
       "        0.7972028 , 0.7972028 , 0.79020979, 0.79020979, 0.79020979,\n",
       "        0.79020979, 0.79020979, 0.79020979, 0.78321678, 0.78321678,\n",
       "        0.77622378, 0.78321678, 0.78321678, 0.78321678, 0.8041958 ,\n",
       "        0.8041958 , 0.8041958 , 0.74125874, 0.73426573, 0.73426573,\n",
       "        0.72027972, 0.72027972, 0.72027972, 0.75524476, 0.75524476,\n",
       "        0.75524476]),\n",
       " 'split2_test_score': array([0.75352113, 0.75352113, 0.75352113, 0.75352113, 0.75352113,\n",
       "        0.75352113, 0.75352113, 0.75352113, 0.75352113, 0.83098592,\n",
       "        0.83098592, 0.83098592, 0.83098592, 0.83098592, 0.83098592,\n",
       "        0.82394366, 0.82394366, 0.82394366, 0.8028169 , 0.82394366,\n",
       "        0.83802817, 0.83802817, 0.83802817, 0.83802817, 0.82394366,\n",
       "        0.82394366, 0.82394366, 0.81690141, 0.81690141, 0.81690141,\n",
       "        0.83802817, 0.83802817, 0.83802817, 0.83802817, 0.83802817,\n",
       "        0.83802817]),\n",
       " 'split3_test_score': array([0.78873239, 0.78873239, 0.78873239, 0.78873239, 0.78873239,\n",
       "        0.78873239, 0.78873239, 0.78873239, 0.78873239, 0.8028169 ,\n",
       "        0.8028169 , 0.8028169 , 0.8028169 , 0.8028169 , 0.8028169 ,\n",
       "        0.8028169 , 0.8028169 , 0.8028169 , 0.8028169 , 0.8028169 ,\n",
       "        0.8028169 , 0.81690141, 0.81690141, 0.81690141, 0.81690141,\n",
       "        0.81690141, 0.81690141, 0.81690141, 0.83098592, 0.83098592,\n",
       "        0.85915493, 0.85915493, 0.85915493, 0.83098592, 0.83098592,\n",
       "        0.83098592]),\n",
       " 'split4_test_score': array([0.74647887, 0.74647887, 0.74647887, 0.74647887, 0.74647887,\n",
       "        0.74647887, 0.74647887, 0.74647887, 0.74647887, 0.77464789,\n",
       "        0.77464789, 0.77464789, 0.78169014, 0.78169014, 0.78169014,\n",
       "        0.73239437, 0.73239437, 0.73239437, 0.78873239, 0.78169014,\n",
       "        0.78169014, 0.78873239, 0.78873239, 0.78873239, 0.77464789,\n",
       "        0.77464789, 0.77464789, 0.74647887, 0.76760563, 0.76760563,\n",
       "        0.78873239, 0.78873239, 0.78873239, 0.77464789, 0.77464789,\n",
       "        0.77464789]),\n",
       " 'mean_test_score': array([0.75844578, 0.75844578, 0.75844578, 0.75844578, 0.75844578,\n",
       "        0.75844578, 0.75844578, 0.75844578, 0.75844578, 0.79917266,\n",
       "        0.79917266, 0.79917266, 0.79918251, 0.79918251, 0.79918251,\n",
       "        0.7879149 , 0.7879149 , 0.7879149 , 0.78097114, 0.78378804,\n",
       "        0.78520634, 0.7894317 , 0.7894317 , 0.7894317 , 0.7893923 ,\n",
       "        0.7893923 , 0.7893923 , 0.77675564, 0.78239929, 0.78379789,\n",
       "        0.78669359, 0.78669359, 0.78669359, 0.7894317 , 0.7894317 ,\n",
       "        0.7894317 ]),\n",
       " 'std_test_score': array([0.0188983 , 0.0188983 , 0.0188983 , 0.0188983 , 0.0188983 ,\n",
       "        0.0188983 , 0.0188983 , 0.0188983 , 0.0188983 , 0.01849887,\n",
       "        0.01849887, 0.01849887, 0.01727233, 0.01727233, 0.01727233,\n",
       "        0.030375  , 0.030375  , 0.030375  , 0.0279402 , 0.03216607,\n",
       "        0.0361929 , 0.03984297, 0.03984297, 0.03984297, 0.03534383,\n",
       "        0.03534383, 0.03534383, 0.0334988 , 0.03603675, 0.03535641,\n",
       "        0.05627021, 0.05627021, 0.05627021, 0.03787206, 0.03787206,\n",
       "        0.03787206]),\n",
       " 'rank_test_score': array([28, 28, 28, 28, 28, 28, 28, 28, 28,  4,  4,  4,  1,  1,  1, 16, 16,\n",
       "        16, 26, 24, 22,  7,  7,  7, 13, 13, 13, 27, 25, 23, 19, 19, 19,  7,\n",
       "         7,  7])}"
      ]
     },
     "execution_count": 63,
     "metadata": {},
     "output_type": "execute_result"
    }
   ],
   "source": [
    "grid_dclf.cv_results_"
   ]
  },
  {
   "cell_type": "code",
   "execution_count": 64,
   "id": "446ca382-ffd7-46fa-be6c-e97e6d4a7b9f",
   "metadata": {},
   "outputs": [
    {
     "data": {
      "text/plain": [
       "{'max_depth': 3, 'min_samples_leaf': 5, 'min_samples_split': 2}"
      ]
     },
     "execution_count": 64,
     "metadata": {},
     "output_type": "execute_result"
    }
   ],
   "source": [
    "grid_dclf.best_params_"
   ]
  },
  {
   "cell_type": "code",
   "execution_count": 65,
   "id": "7217ea4e-9ce6-44de-bd97-31770c0d669f",
   "metadata": {},
   "outputs": [
    {
     "data": {
      "text/plain": [
       "0.7991825076332119"
      ]
     },
     "execution_count": 65,
     "metadata": {},
     "output_type": "execute_result"
    }
   ],
   "source": [
    "grid_dclf.best_score_"
   ]
  },
  {
   "cell_type": "code",
   "execution_count": 66,
   "id": "9c61de8d-91eb-4637-b9a0-608114a1cd3b",
   "metadata": {},
   "outputs": [
    {
     "data": {
      "text/plain": [
       "DecisionTreeClassifier(max_depth=3, min_samples_leaf=5, random_state=11)"
      ]
     },
     "execution_count": 66,
     "metadata": {},
     "output_type": "execute_result"
    }
   ],
   "source": [
    "grid_dclf.best_estimator_ #제일 좋았던 모델"
   ]
  },
  {
   "cell_type": "code",
   "execution_count": 68,
   "id": "4d0a87c1-8024-4c65-9b4a-ce00d7442ae0",
   "metadata": {},
   "outputs": [
    {
     "data": {
      "text/plain": [
       "0.8715083798882681"
      ]
     },
     "execution_count": 68,
     "metadata": {},
     "output_type": "execute_result"
    }
   ],
   "source": [
    "best_dclf = grid_dclf.best_estimator_\n",
    "dpred = best_dclf.predict(X_test)\n",
    "accuracy_score(y_test,dpred)"
   ]
  },
  {
   "cell_type": "raw",
   "id": "e789cca6-3f28-4598-81a0-50e604b705d2",
   "metadata": {},
   "source": [
    ">> 평균과 중간값 차이\n",
    "평균: 데이터를 모두 더한 후 데이터의 갯수로 나눈 값\n",
    "중간값: 전체 데이터 중 가운데에 있는 수, 데이터의 갯수가 짝수인 경우는 가장 가운데에 있는 두 수의 평균이 중앙값\n",
    "\n",
    "모집단 대표값을 뽑아서 모았는데 한쪽으로 쏠려있으면 잘못뽑은거\n",
    "\n",
    "분산: 차이값의 제곱의 평균\n",
    "표준편차: 분산을 제곱근(루트)\n",
    "\n",
    "이런 것들을 왜 써야하고, 왜 보는지 알아야 함(계산은 컴퓨터가 알아서 함)\n",
    "수집을 어떻게 할건지\n",
    "\n",
    ">> 데이터가 어떻게 수집되는지 알기 위해, 우리는 무엇을 봐야하는지 알아야한다"
   ]
  },
  {
   "cell_type": "markdown",
   "id": "918b5e97-624b-46de-aecf-d7811bf39c3a",
   "metadata": {},
   "source": [
    "## 평가 p147"
   ]
  },
  {
   "cell_type": "raw",
   "id": "e32c8aba-017c-4bca-9df1-21c10896119f",
   "metadata": {},
   "source": [
    "#남성은 사망, 여성은 생존 정확도 구하기\n",
    "#정확도가 높게 나오지만 제대로 된 평가가 아님\n",
    "#그래서 오차행렬을 씀"
   ]
  },
  {
   "cell_type": "code",
   "execution_count": 72,
   "id": "427fed1a-8b07-4dd8-950c-b9361a1d6754",
   "metadata": {},
   "outputs": [],
   "source": [
    "from sklearn.base import BaseEstimator"
   ]
  },
  {
   "cell_type": "code",
   "execution_count": 73,
   "id": "47c40fc1-cbf1-4ea3-ac51-6ec46e2faee3",
   "metadata": {},
   "outputs": [],
   "source": [
    "class MyDummyClassifier(BaseEstimator):\n",
    "    def fit(self,X,y=None):\n",
    "        pass #아무것도 정의안함\n",
    "    \n",
    "    def predict(self,X):\n",
    "        pred=np.zeros((X.shape[0],1))\n",
    "        for i in range(X.shape[0]):\n",
    "            if X['Sex'].iloc[i] == 1: # 1=남자\n",
    "                pred[i]=0\n",
    "            else:\n",
    "                pred[i]=1\n",
    "        return pred\n",
    "    \n",
    "def fillna(df):\n",
    "    df['Age'].fillna(titanic_df['Age'].mean(),inplace=True)\n",
    "    df['Cabin'].fillna('N',inplace=True)\n",
    "    df['Embarked'].fillna('N',inplace=True)\n",
    "    df['Fare'].fillna(0,inplace=True)\n",
    "    return df\n",
    "\n",
    "def drop_feature(df):\n",
    "    df.drop(columns=['PassengerId','Name','Ticket'],inplace=True)\n",
    "    return df\n",
    "\n",
    "def format_features(df):\n",
    "    from sklearn.preprocessing import LabelEncoder \n",
    "    df.Cabin = df.Cabin.str[:1]\n",
    "    features = ['Cabin','Sex','Embarked']\n",
    "    for feature in features:\n",
    "        df[feature] = LabelEncoder().fit_transform(df[feature])\n",
    "    return df\n",
    "\n",
    "def transform_features(df):\n",
    "    df = fillna(df)\n",
    "    df = drop_feature(df)\n",
    "    df = format_features(df)\n",
    "    return df"
   ]
  },
  {
   "cell_type": "code",
   "execution_count": 74,
   "id": "75ee4f25-1a8b-407a-81f3-52ed51cc459f",
   "metadata": {},
   "outputs": [],
   "source": [
    "import pandas as pd\n",
    "from sklearn.model_selection import train_test_split #분리\n",
    "from sklearn.metrics import accuracy_score #평가 "
   ]
  },
  {
   "cell_type": "code",
   "execution_count": 75,
   "id": "ba8cebf6-068b-487d-aa7d-8c519d8763fb",
   "metadata": {},
   "outputs": [
    {
     "data": {
      "text/plain": [
       "0.7877094972067039"
      ]
     },
     "execution_count": 75,
     "metadata": {},
     "output_type": "execute_result"
    }
   ],
   "source": [
    "titanic_df = pd.read_csv('titanic_train.csv')\n",
    "y_titanic_df = titanic_df['Survived']\n",
    "X_titanic_df = titanic_df.drop(columns=['Survived'])\n",
    "X_titanic_df = transform_features(X_titanic_df)\n",
    "X_train,X_test,y_train,y_test = train_test_split(X_titanic_df,\n",
    "                                                y_titanic_df,\n",
    "                                                test_size=0.2,\n",
    "                                                random_state=0)\n",
    "myclf = MyDummyClassifier()\n",
    "myclf.fit(X_train,y_train)\n",
    "pred = myclf.predict(X_test)\n",
    "accuracy_score(y_test,pred)"
   ]
  },
  {
   "cell_type": "raw",
   "id": "d7d1c36e-dca5-4805-993e-497b875ed802",
   "metadata": {},
   "source": [
    "#오차행렬"
   ]
  },
  {
   "cell_type": "code",
   "execution_count": 76,
   "id": "945231b0-bb0f-4d5f-9877-b45f1de27802",
   "metadata": {},
   "outputs": [],
   "source": [
    "from sklearn.datasets import load_digits"
   ]
  },
  {
   "cell_type": "code",
   "execution_count": 77,
   "id": "352e5e4a-3457-4ce3-a2af-d6cb7471898c",
   "metadata": {},
   "outputs": [],
   "source": [
    "class MyFakeClassifier(BaseEstimator):\n",
    "    def fit(self,X,y):\n",
    "        pass\n",
    "    def predict(self,X):\n",
    "        return np.zeros((len(X),1),dtype=bool)"
   ]
  },
  {
   "cell_type": "code",
   "execution_count": 80,
   "id": "5c035de7-3ea5-4df5-87a9-146f8e53c01f",
   "metadata": {},
   "outputs": [
    {
     "data": {
      "text/plain": [
       "((450,),\n",
       " 0    402\n",
       " 1     48\n",
       " dtype: int64)"
      ]
     },
     "execution_count": 80,
     "metadata": {},
     "output_type": "execute_result"
    }
   ],
   "source": [
    "digits = load_digits()\n",
    "y = (digits.target == 7).astype(int)\n",
    "X_train,X_test,y_train,y_test = train_test_split(digits.data,y,random_state=0)\n",
    "y_test.shape,pd.Series(y_test).value_counts()"
   ]
  },
  {
   "cell_type": "code",
   "execution_count": 81,
   "id": "d12d9d51-136a-444c-8a48-7902b0e90016",
   "metadata": {},
   "outputs": [
    {
     "data": {
      "text/plain": [
       "0.8933333333333333"
      ]
     },
     "execution_count": 81,
     "metadata": {},
     "output_type": "execute_result"
    }
   ],
   "source": [
    "fakeclf = MyFakeClassifier()\n",
    "fakeclf.fit(X_train,y_train)\n",
    "pred = fakeclf.predict(X_test)\n",
    "accuracy_score(y_test,pred)"
   ]
  },
  {
   "cell_type": "raw",
   "id": "3fb2fe07-dcd0-4759-9180-99fcfce7a2b3",
   "metadata": {},
   "source": [
    "결론>> 정확도에 초점 맞추지 말것"
   ]
  },
  {
   "cell_type": "raw",
   "id": "08cd14c3-de5a-4fd7-8d02-941602ac8ec4",
   "metadata": {},
   "source": [
    "p152 오차행렬"
   ]
  },
  {
   "cell_type": "code",
   "execution_count": 82,
   "id": "d55ec434-0230-40fc-a1a0-262455df2050",
   "metadata": {},
   "outputs": [],
   "source": [
    "from sklearn.metrics import confusion_matrix"
   ]
  },
  {
   "cell_type": "code",
   "execution_count": 83,
   "id": "36bfa4f1-945f-40af-8cfb-286685673873",
   "metadata": {},
   "outputs": [
    {
     "data": {
      "text/plain": [
       "array([[402,   0],\n",
       "       [ 48,   0]], dtype=int64)"
      ]
     },
     "execution_count": 83,
     "metadata": {},
     "output_type": "execute_result"
    }
   ],
   "source": [
    "confusion_matrix(y_test,pred) #TN,FP,FN,TP"
   ]
  },
  {
   "cell_type": "raw",
   "id": "b199dbae-685e-46f9-9c3d-47005936cba2",
   "metadata": {},
   "source": [
    "#정밀도, 재현율"
   ]
  },
  {
   "cell_type": "code",
   "execution_count": 84,
   "id": "70c50350-68bf-42c1-8bf9-a17c38789664",
   "metadata": {},
   "outputs": [],
   "source": [
    "from sklearn.metrics import accuracy_score,precision_score,recall_score,confusion_matrix"
   ]
  },
  {
   "cell_type": "code",
   "execution_count": 85,
   "id": "8dac238b-f58f-4625-bda1-20dd3d58a841",
   "metadata": {},
   "outputs": [],
   "source": [
    "def get_clf_eval(y_test,pred):\n",
    "    confusion = confusion_matrix(y_test,pred)\n",
    "    accuracy = accuracy_score(y_test,pred)\n",
    "    precision = precision_score(y_test,pred)\n",
    "    recall = recall_score(y_test,pred)\n",
    "    print('오차행렬')\n",
    "    print(confusion)\n",
    "    print(f'정확도:{accuracy:.4f},정밀도:{precision:.4f},재현율:{recall:.4f}')"
   ]
  },
  {
   "cell_type": "code",
   "execution_count": 86,
   "id": "c80a64b8-f365-47b5-a4da-d92147305e3a",
   "metadata": {},
   "outputs": [],
   "source": [
    "titanic_df = pd.read_csv('titanic_train.csv')\n",
    "y_titanic_df = titanic_df['Survived']\n",
    "X_titanic_df = titanic_df.drop(columns=['Survived'])\n",
    "X_titanic_df = transform_features(X_titanic_df)\n",
    "X_train,X_test,y_train,y_test = train_test_split(X_titanic_df,\n",
    "                                                y_titanic_df,\n",
    "                                                test_size=0.2,\n",
    "                                                random_state=0)"
   ]
  },
  {
   "cell_type": "code",
   "execution_count": 88,
   "id": "a256cf2d-0ec8-4773-8d83-446215f93a80",
   "metadata": {},
   "outputs": [],
   "source": [
    "from sklearn.linear_model import LogisticRegression\n",
    "import warnings\n",
    "warnings.filterwarnings('ignore')"
   ]
  },
  {
   "cell_type": "code",
   "execution_count": 89,
   "id": "0509cc54-0f31-4eb6-a4d1-212673392dba",
   "metadata": {},
   "outputs": [
    {
     "name": "stdout",
     "output_type": "stream",
     "text": [
      "오차행렬\n",
      "[[92 18]\n",
      " [16 53]]\n",
      "정확도:0.8101,정밀도:0.7465,재현율:0.7681\n"
     ]
    }
   ],
   "source": [
    "lr_clf = LogisticRegression() #리니어 회귀 모델\n",
    "lr_clf.fit(X_train,y_train)\n",
    "pred = lr_clf.predict(X_test)\n",
    "get_clf_eval(y_test,pred)"
   ]
  },
  {
   "cell_type": "code",
   "execution_count": 91,
   "id": "00d778bb-0a4c-43fe-9569-d0b60699d46a",
   "metadata": {},
   "outputs": [
    {
     "data": {
      "text/plain": [
       "(array([[0.85143272, 0.14856728],\n",
       "        [0.89230123, 0.10769877],\n",
       "        [0.93333601, 0.06666399],\n",
       "        [0.05347494, 0.94652506],\n",
       "        [0.3139637 , 0.6860363 ],\n",
       "        [0.4899739 , 0.5100261 ],\n",
       "        [0.08208226, 0.91791774]]),\n",
       " array([0, 0, 0, 1, 1, 1, 1], dtype=int64))"
      ]
     },
     "execution_count": 91,
     "metadata": {},
     "output_type": "execute_result"
    }
   ],
   "source": [
    "pred_proba = lr_clf.predict_proba(X_test)\n",
    "pred = lr_clf.predict(X_test)\n",
    "pred_proba[:7],pred[:7] \n",
    "\n",
    "#각 행 별로 0일 확률이 큰가, 1일 확률이 큰가"
   ]
  },
  {
   "cell_type": "raw",
   "id": "9691a43e-55ee-451c-b75a-95a5fc1994d4",
   "metadata": {},
   "source": [
    "#임계값 조절"
   ]
  },
  {
   "cell_type": "code",
   "execution_count": 92,
   "id": "cc826d4c-8262-4632-94c9-094ad8730929",
   "metadata": {},
   "outputs": [],
   "source": [
    "from sklearn.preprocessing import Binarizer"
   ]
  },
  {
   "cell_type": "code",
   "execution_count": 93,
   "id": "917a0d8f-d0d7-4ae4-aeb2-60bc33626f9f",
   "metadata": {},
   "outputs": [],
   "source": [
    "X= [[1,-1,2],\n",
    "   [2,0,0],\n",
    "   [0,1.1,1.2]]"
   ]
  },
  {
   "cell_type": "code",
   "execution_count": 97,
   "id": "2954e714-f4f7-4f8e-909e-950860267547",
   "metadata": {},
   "outputs": [
    {
     "data": {
      "text/plain": [
       "array([[0., 0., 1.],\n",
       "       [1., 0., 0.],\n",
       "       [0., 0., 1.]])"
      ]
     },
     "execution_count": 97,
     "metadata": {},
     "output_type": "execute_result"
    }
   ],
   "source": [
    "binarizer = Binarizer(threshold=1.1) #0.0일때, 1.1일때\n",
    "binarizer.fit_transform(X)"
   ]
  },
  {
   "cell_type": "code",
   "execution_count": 98,
   "id": "ab3b50cb-6368-4186-9a78-10ece3e9f9d7",
   "metadata": {},
   "outputs": [
    {
     "name": "stdout",
     "output_type": "stream",
     "text": [
      "오차행렬\n",
      "[[92 18]\n",
      " [16 53]]\n",
      "정확도:0.8101,정밀도:0.7465,재현율:0.7681\n"
     ]
    }
   ],
   "source": [
    "custom_threshold=0.5 #기본경계선\n",
    "pred_proba_1 = pred_proba[:,1].reshape(-1,1)\n",
    "binarizer = Binarizer(threshold=custom_threshold).fit(pred_proba_1)\n",
    "custom_predict = binarizer.transform(pred_proba_1)\n",
    "get_clf_eval(y_test, custom_predict)"
   ]
  },
  {
   "cell_type": "code",
   "execution_count": 99,
   "id": "63faa851-5b1f-4730-aaf8-4dc6084fa86c",
   "metadata": {},
   "outputs": [
    {
     "name": "stdout",
     "output_type": "stream",
     "text": [
      "오차행렬\n",
      "[[86 24]\n",
      " [13 56]]\n",
      "정확도:0.7933,정밀도:0.7000,재현율:0.8116\n"
     ]
    }
   ],
   "source": [
    "custom_threshold=0.4 #앞쪽으로이동, 재현율 올라감\n",
    "pred_proba_1 = pred_proba[:,1].reshape(-1,1)\n",
    "binarizer = Binarizer(threshold=custom_threshold).fit(pred_proba_1)\n",
    "custom_predict = binarizer.transform(pred_proba_1)\n",
    "get_clf_eval(y_test, custom_predict)"
   ]
  },
  {
   "cell_type": "code",
   "execution_count": 100,
   "id": "b8119d87-a392-4720-bd84-73da4f0e5b8a",
   "metadata": {},
   "outputs": [
    {
     "name": "stdout",
     "output_type": "stream",
     "text": [
      "오차행렬\n",
      "[[99 11]\n",
      " [25 44]]\n",
      "정확도:0.7989,정밀도:0.8000,재현율:0.6377\n"
     ]
    }
   ],
   "source": [
    "custom_threshold=0.6 #뒤쪽으로이동, 정밀도 올라감\n",
    "pred_proba_1 = pred_proba[:,1].reshape(-1,1)\n",
    "binarizer = Binarizer(threshold=custom_threshold).fit(pred_proba_1)\n",
    "custom_predict = binarizer.transform(pred_proba_1)\n",
    "get_clf_eval(y_test, custom_predict)"
   ]
  },
  {
   "cell_type": "raw",
   "id": "876af00d-6eb5-442e-9f0d-2bd26682ea1c",
   "metadata": {},
   "source": [
    "p163"
   ]
  },
  {
   "cell_type": "code",
   "execution_count": 101,
   "id": "a8951818-9954-40c7-899a-62e632784eec",
   "metadata": {},
   "outputs": [],
   "source": [
    "thresholds = [0.4,0.45,0.5,0.55,0.6]\n",
    "def get_eval_by_threshold(y_test,pred_proba_c1,thresholds):\n",
    "    for custom_threshold in thresholds:\n",
    "        binarizer = Binarizer(threshold=custom_threshold).fit(pred_proba_c1)\n",
    "        custom_predict = binarizer.transform(pred_proba_c1)\n",
    "        print('임계값:',custom_threshold)\n",
    "        get_clf_eval(y_test,custom_predict)"
   ]
  },
  {
   "cell_type": "code",
   "execution_count": 102,
   "id": "54f43c3c-118f-47ad-8123-9afca61a2839",
   "metadata": {},
   "outputs": [
    {
     "name": "stdout",
     "output_type": "stream",
     "text": [
      "임계값: 0.4\n",
      "오차행렬\n",
      "[[86 24]\n",
      " [13 56]]\n",
      "정확도:0.7933,정밀도:0.7000,재현율:0.8116\n",
      "임계값: 0.45\n",
      "오차행렬\n",
      "[[91 19]\n",
      " [14 55]]\n",
      "정확도:0.8156,정밀도:0.7432,재현율:0.7971\n",
      "임계값: 0.5\n",
      "오차행렬\n",
      "[[92 18]\n",
      " [16 53]]\n",
      "정확도:0.8101,정밀도:0.7465,재현율:0.7681\n",
      "임계값: 0.55\n",
      "오차행렬\n",
      "[[97 13]\n",
      " [18 51]]\n",
      "정확도:0.8268,정밀도:0.7969,재현율:0.7391\n",
      "임계값: 0.6\n",
      "오차행렬\n",
      "[[99 11]\n",
      " [25 44]]\n",
      "정확도:0.7989,정밀도:0.8000,재현율:0.6377\n"
     ]
    }
   ],
   "source": [
    "get_eval_by_threshold(y_test,pred_proba[:,1].reshape(-1,1),thresholds)"
   ]
  },
  {
   "cell_type": "code",
   "execution_count": 103,
   "id": "128c562d-2297-4867-868b-3410782fa24e",
   "metadata": {},
   "outputs": [],
   "source": [
    "#정밀도는 놀라가는데 재현율은 떨어짐.\n",
    "#어느게 적절한지 체크"
   ]
  },
  {
   "cell_type": "markdown",
   "id": "89ecb2b7-9cea-4e47-bebc-ddfd9ac27cc5",
   "metadata": {},
   "source": [
    "### 5교시"
   ]
  },
  {
   "cell_type": "code",
   "execution_count": 104,
   "id": "f6002582-e8b3-496a-9a91-7998db710f80",
   "metadata": {},
   "outputs": [],
   "source": [
    "from sklearn.metrics import precision_recall_curve"
   ]
  },
  {
   "cell_type": "code",
   "execution_count": 143,
   "id": "fbe3bbc6-7ebf-454e-8fe7-cf54739c19f4",
   "metadata": {},
   "outputs": [],
   "source": [
    "pred_proba_class1 = lr_clf.predict_proba(X_test)[:,1]"
   ]
  },
  {
   "cell_type": "code",
   "execution_count": 144,
   "id": "e1df7c21-b9e3-4a98-b67c-692a415a9883",
   "metadata": {},
   "outputs": [],
   "source": [
    "precision,recall,thresholds = precision_recall_curve(y_test,pred_proba_class1) #array가 총 3개가 들어가 있음 1.정밀값 2.재현율 3.쓰레스홀드"
   ]
  },
  {
   "cell_type": "code",
   "execution_count": 108,
   "id": "a2543001-c0ca-4ec7-b6fc-450ab3e0e22a",
   "metadata": {},
   "outputs": [
    {
     "data": {
      "text/plain": [
       "((167,), (167,), (166,))"
      ]
     },
     "execution_count": 108,
     "metadata": {},
     "output_type": "execute_result"
    }
   ],
   "source": [
    "precision.shape,recall.shape,thresholds.shape"
   ]
  },
  {
   "cell_type": "code",
   "execution_count": 109,
   "id": "c738234d-c5ba-4795-b9a3-63d44376cbd0",
   "metadata": {},
   "outputs": [
    {
     "data": {
      "text/plain": [
       "array([  0,  15,  30,  45,  60,  75,  90, 105, 120, 135, 150, 165])"
      ]
     },
     "execution_count": 109,
     "metadata": {},
     "output_type": "execute_result"
    }
   ],
   "source": [
    "thr_index = np.arange(0,thresholds.shape[0],15)\n",
    "thr_index"
   ]
  },
  {
   "cell_type": "code",
   "execution_count": 110,
   "id": "a21a2c9d-38ca-4db7-ae79-8fb83398eec7",
   "metadata": {},
   "outputs": [
    {
     "name": "stdout",
     "output_type": "stream",
     "text": [
      "[0.399 0.418 0.464 0.52  0.594 0.659 0.724 0.803 0.826 1.    1.    1.   ]\n",
      "[1.    0.957 0.928 0.928 0.913 0.87  0.797 0.71  0.551 0.449 0.232 0.014]\n"
     ]
    }
   ],
   "source": [
    "print(np.round(precision[thr_index],3))\n",
    "print(np.round(recall[thr_index],3))"
   ]
  },
  {
   "cell_type": "raw",
   "id": "558fa449-1f24-493f-9469-97db95d49817",
   "metadata": {},
   "source": [
    "#시각화"
   ]
  },
  {
   "cell_type": "code",
   "execution_count": 111,
   "id": "4e916421-3ec0-4106-b718-e45f2ce4fb02",
   "metadata": {},
   "outputs": [],
   "source": [
    "import matplotlib.pyplot as plt\n",
    "import matplotlib.ticker as kicker"
   ]
  },
  {
   "cell_type": "code",
   "execution_count": 145,
   "id": "925b82a5-b8b1-4c4c-af43-12fb65c1e6cb",
   "metadata": {},
   "outputs": [],
   "source": [
    "def precision_recall_curve_plot(y_test,pred_proba):\n",
    "    precision,recall,thresholds = precision_recall_curve(y_test,pred_proba_class1)\n",
    "    plt.figure(figsize=(8,6))\n",
    "    threshold_boundary = thresholds.shape[0]\n",
    "    plt.plot(thresholds,precision[0:threshold_boundary],linestyle='--',label='precision')\n",
    "    plt.plot(thresholds,recall[0:threshold_boundary],label='recall')\n",
    "    start,end = plt.xlim()\n",
    "    plt.xticks(np.round(np.arange(start,end,0.1),2))\n",
    "    plt.legend()\n",
    "    plt.grid()\n",
    "    plt.show()"
   ]
  },
  {
   "cell_type": "code",
   "execution_count": 146,
   "id": "5c50a787-f027-4fb2-9378-59bb28b47246",
   "metadata": {},
   "outputs": [
    {
     "data": {
      "image/png": "[encoded data removed]",
      "text/plain": [
       "<Figure size 576x432 with 1 Axes>"
      ]
     },
     "metadata": {
      "needs_background": "light"
     },
     "output_type": "display_data"
    }
   ],
   "source": [
    "precision_recall_curve_plot(y_test,pred_proba_class1)"
   ]
  },
  {
   "cell_type": "markdown",
   "id": "89d190c1-a6c7-4adc-befe-38d0187a929b",
   "metadata": {},
   "source": [
    "### F1스코어: 정밀도와 재현율을 결합"
   ]
  },
  {
   "cell_type": "code",
   "execution_count": 120,
   "id": "8526c945-f99e-4937-831b-fd68e775d511",
   "metadata": {},
   "outputs": [],
   "source": [
    "from sklearn.metrics import f1_score"
   ]
  },
  {
   "cell_type": "code",
   "execution_count": 122,
   "id": "53e48ec4-38ed-4803-91b4-d87d2a0747b9",
   "metadata": {},
   "outputs": [
    {
     "data": {
      "text/plain": [
       "0.7571428571428571"
      ]
     },
     "execution_count": 122,
     "metadata": {},
     "output_type": "execute_result"
    }
   ],
   "source": [
    "f1 = f1_score(y_test,pred)\n",
    "f1"
   ]
  },
  {
   "cell_type": "code",
   "execution_count": 123,
   "id": "6aef0abe-3305-4be9-ab04-ed4351a6f9a8",
   "metadata": {},
   "outputs": [],
   "source": [
    "def get_clf_eval(y_test,pred):\n",
    "    confusion = confusion_matrix(y_test,pred)\n",
    "    accuracy = accuracy_score(y_test,pred)\n",
    "    precision = precision_score(y_test,pred)\n",
    "    recall = recall_score(y_test,pred)\n",
    "    f1 = f1_score(y_test,pred)\n",
    "    print('오차행렬')\n",
    "    print(confusion)\n",
    "    print(f'정확도:{accuracy:.4f},정밀도:{precision:.4f},재현율:{recall:.4f},F1:{f1:.4f}')"
   ]
  },
  {
   "cell_type": "code",
   "execution_count": 124,
   "id": "ec1462c2-071e-48ed-a6f9-11819b6fb93f",
   "metadata": {},
   "outputs": [
    {
     "name": "stdout",
     "output_type": "stream",
     "text": [
      "임계값: 0.4\n",
      "오차행렬\n",
      "[[86 24]\n",
      " [13 56]]\n",
      "정확도:0.7933,정밀도:0.7000,재현율:0.8116,F1:0.7517\n",
      "임계값: 0.45\n",
      "오차행렬\n",
      "[[91 19]\n",
      " [14 55]]\n",
      "정확도:0.8156,정밀도:0.7432,재현율:0.7971,F1:0.7692\n",
      "임계값: 0.5\n",
      "오차행렬\n",
      "[[92 18]\n",
      " [16 53]]\n",
      "정확도:0.8101,정밀도:0.7465,재현율:0.7681,F1:0.7571\n",
      "임계값: 0.55\n",
      "오차행렬\n",
      "[[97 13]\n",
      " [18 51]]\n",
      "정확도:0.8268,정밀도:0.7969,재현율:0.7391,F1:0.7669\n",
      "임계값: 0.6\n",
      "오차행렬\n",
      "[[99 11]\n",
      " [25 44]]\n",
      "정확도:0.7989,정밀도:0.8000,재현율:0.6377,F1:0.7097\n"
     ]
    }
   ],
   "source": [
    "thresholds = [0.4,0.45,0.5,0.55,0.6]\n",
    "def get_eval_by_threshold(y_test,pred_proba_c1,thresholds):\n",
    "    for custom_threshold in thresholds:\n",
    "        binarizer = Binarizer(threshold=custom_threshold).fit(pred_proba_c1)\n",
    "        custom_predict = binarizer.transform(pred_proba_c1)\n",
    "        print('임계값:',custom_threshold)\n",
    "        get_clf_eval(y_test,custom_predict)\n",
    "        \n",
    "get_eval_by_threshold(y_test,pred_proba[:,1].reshape(-1,1),thresholds)\n",
    "\n",
    "#임계값0.45지점이 제일 높게 나옴"
   ]
  },
  {
   "cell_type": "code",
   "execution_count": null,
   "id": "26a4167a-3a55-4bd8-86a3-d35319e08982",
   "metadata": {},
   "outputs": [],
   "source": [
    "#오차행렬을 이용해 정밀도, 재현율이 구해지고 "
   ]
  },
  {
   "cell_type": "markdown",
   "id": "5d0837c5-61f3-42f3-82a8-b0598ddfd343",
   "metadata": {},
   "source": [
    "### p169"
   ]
  },
  {
   "cell_type": "code",
   "execution_count": 125,
   "id": "a1c092d7-5213-43bf-af43-d211cce69438",
   "metadata": {},
   "outputs": [],
   "source": [
    "from sklearn.metrics import roc_curve"
   ]
  },
  {
   "cell_type": "code",
   "execution_count": 147,
   "id": "383be439-c3c3-4e16-882a-516eeaacb9d5",
   "metadata": {},
   "outputs": [],
   "source": [
    "fprs,tprs,thresholds = roc_curve(y_test,pred_proba_class1) #fpr,tpr,thresholds"
   ]
  },
  {
   "cell_type": "code",
   "execution_count": 128,
   "id": "3d2f4e13-4bf9-4291-9563-5b39c9f9f4a8",
   "metadata": {},
   "outputs": [
    {
     "data": {
      "text/plain": [
       "array([ 1,  6, 11, 16, 21, 26, 31, 36, 41, 46, 51])"
      ]
     },
     "execution_count": 128,
     "metadata": {},
     "output_type": "execute_result"
    }
   ],
   "source": [
    "thr_index = np.arange(1,thresholds.shape[0],5)\n",
    "thr_index"
   ]
  },
  {
   "cell_type": "code",
   "execution_count": 129,
   "id": "b82b7d5d-accb-4965-ba7c-1e789ab0e86d",
   "metadata": {},
   "outputs": [
    {
     "data": {
      "text/plain": [
       "array([0.        , 0.04545455, 0.09090909, 0.10909091, 0.22727273,\n",
       "       0.26363636, 0.46363636, 0.51818182, 0.72727273, 0.85454545,\n",
       "       1.        ])"
      ]
     },
     "execution_count": 129,
     "metadata": {},
     "output_type": "execute_result"
    }
   ],
   "source": [
    "fprs[thr_index]"
   ]
  },
  {
   "cell_type": "code",
   "execution_count": 130,
   "id": "cbb0b36c-5f30-4dfe-9706-bbe0d3350cac",
   "metadata": {},
   "outputs": [
    {
     "data": {
      "text/plain": [
       "array([0.01449275, 0.55072464, 0.5942029 , 0.73913043, 0.8115942 ,\n",
       "       0.86956522, 0.91304348, 0.92753623, 0.94202899, 0.97101449,\n",
       "       1.        ])"
      ]
     },
     "execution_count": 130,
     "metadata": {},
     "output_type": "execute_result"
    }
   ],
   "source": [
    "tprs[thr_index]"
   ]
  },
  {
   "cell_type": "code",
   "execution_count": 133,
   "id": "7271aad1-8d93-4a30-a537-6344a2ad2bfa",
   "metadata": {},
   "outputs": [],
   "source": [
    "def roc_curve_plot(y_test,pred_proba):\n",
    "    fprs,tprs,thresholds = roc_curve(y_test,pred_proba)\n",
    "    plt.plot(fprs,tprs,label='Roc')\n",
    "    plt.show()"
   ]
  },
  {
   "cell_type": "code",
   "execution_count": 148,
   "id": "a6687b47-caaf-46ac-8dc9-9b8c979b900d",
   "metadata": {},
   "outputs": [
    {
     "data": {
      "image/png": "[encoded data removed]",
      "text/plain": [
       "<Figure size 432x288 with 1 Axes>"
      ]
     },
     "metadata": {
      "needs_background": "light"
     },
     "output_type": "display_data"
    }
   ],
   "source": [
    "roc_curve_plot(y_test,pred_proba_class1)"
   ]
  },
  {
   "cell_type": "raw",
   "id": "f9fc19a2-ce8c-4da2-bad9-7c701bb4252f",
   "metadata": {},
   "source": [
    "아래쪽 면적은 AUC값으로 1에 가까울 수록 좋은 수치다."
   ]
  },
  {
   "cell_type": "markdown",
   "id": "34aecdb5-e838-44cc-ae3e-59a8688cbb50",
   "metadata": {},
   "source": []
  },
  {
   "cell_type": "code",
   "execution_count": null,
   "id": "fe7ff982-e977-43a2-82cd-6062e368b827",
   "metadata": {},
   "outputs": [],
   "source": []
  }
 ],
 "metadata": {
  "kernelspec": {
   "display_name": "Python 3 (ipykernel)",
   "language": "python",
   "name": "python3"
  },
  "language_info": {
   "codemirror_mode": {
    "name": "ipython",
    "version": 3
   },
   "file_extension": ".py",
   "mimetype": "text/x-python",
   "name": "python",
   "nbconvert_exporter": "python",
   "pygments_lexer": "ipython3",
   "version": "3.9.7"
  }
 },
 "nbformat": 4,
 "nbformat_minor": 5
}
