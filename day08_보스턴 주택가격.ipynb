{
 "cells": [
  {
   "cell_type": "markdown",
   "id": "21b9c7ab-2466-4d30-b5a3-3c90ccda8a7f",
   "metadata": {},
   "source": [
    "## p329 선형회귀 모델을 위한 회귀 변환"
   ]
  },
  {
   "cell_type": "code",
   "execution_count": 1,
   "id": "2d299608-26cb-4ed1-9675-1e63207ea5da",
   "metadata": {},
   "outputs": [],
   "source": [
    "from sklearn.linear_model import Ridge\n",
    "from sklearn.model_selection import cross_val_score\n",
    "from sklearn.datasets import load_boston\n",
    "import pandas as pd\n",
    "import numpy as np\n",
    "from sklearn.preprocessing import StandardScaler,MinMaxScaler,PolynomialFeatures\n",
    "from sklearn.linear_model import Lasso,ElasticNet"
   ]
  },
  {
   "cell_type": "code",
   "execution_count": 2,
   "id": "809a2efe-190d-4067-b825-f58393a8b768",
   "metadata": {},
   "outputs": [],
   "source": [
    "boston = load_boston()\n",
    "bostonDF = pd.DataFrame(boston.data,columns=boston.feature_names)\n",
    "bostonDF['PRICE'] = boston.target\n",
    "y = bostonDF.PRICE\n",
    "X = bostonDF.drop(columns=['PRICE'])"
   ]
  },
  {
   "cell_type": "code",
   "execution_count": 5,
   "id": "af17f62a-00e1-4259-be37-af90f2bf63f8",
   "metadata": {},
   "outputs": [],
   "source": [
    "def get_scaled_data(method='None',p_degree=None,input_data=None):\n",
    "    if method == 'Standard':\n",
    "        scaled_data = StandardScaler().fit_transform(input_data)\n",
    "    elif method == 'MinMax':\n",
    "        scaled_data = MinMaxScaler().fit_transform(input_data)\n",
    "    elif method == 'Log':\n",
    "        scaled_data = np.log1p(input_data)\n",
    "    else:\n",
    "        scaled_data = input_data\n",
    "    if p_degree != None:\n",
    "        scaled_data = PolynomialFeatures(degree=p_degree,\n",
    "                                         include_bias=False).fit_transform(scaled_data)\n",
    "    return scaled_data\n",
    "\n",
    "def get_linear_reg_eval(model_name,params=None,X=None,y=None,verbose=True):\n",
    "    coeff_df=pd.DataFrame()\n",
    "    if verbose:\n",
    "        print('#####',model_name,'#####')\n",
    "    for param in params:\n",
    "        if model_name == 'Ridge':\n",
    "            model = Ridge(alpha=param)\n",
    "        elif model_name == 'Lasso':\n",
    "            model = Lasso(alpha=param)\n",
    "        elif model_name == 'ElasticNet':\n",
    "            model = ElasticNet(alpha=param,l1_ratio=0.7)\n",
    "        neg_mse_scores = cross_val_score(model,\n",
    "                                         X,\n",
    "                                         y,\n",
    "                                         scoring='neg_mean_squared_error',\n",
    "                                         cv=5)\n",
    "        avg_rmse = np.mean(np.sqrt(-1*neg_mse_scores))\n",
    "        print(f'alpha : {param} 일때 5폴드 세트의 평균 rmse: {avg_rmse:.3f}')\n",
    "        model.fit(X,y)\n",
    "        coeff = pd.Series(data=model.coef_,index=X.columns)\n",
    "        colname = 'alpha:'+str(param)\n",
    "        coeff_df[colname]=coeff\n",
    "    return coeff_df"
   ]
  },
  {
   "cell_type": "code",
   "execution_count": 8,
   "id": "f0334edf-5bfc-4ea4-ad11-549babc3563c",
   "metadata": {},
   "outputs": [
    {
     "name": "stdout",
     "output_type": "stream",
     "text": [
      "\n",
      "##변환유형:None, Polynomial Degree:None\n",
      "##### Ridge #####\n",
      "alpha : 0.1 일때 5폴드 세트의 평균 rmse: 5.788\n",
      "alpha : 1 일때 5폴드 세트의 평균 rmse: 5.653\n",
      "alpha : 10 일때 5폴드 세트의 평균 rmse: 5.518\n",
      "alpha : 100 일때 5폴드 세트의 평균 rmse: 5.330\n",
      "\n",
      "##변환유형:Standard, Polynomial Degree:None\n",
      "##### Ridge #####\n",
      "alpha : 0.1 일때 5폴드 세트의 평균 rmse: 5.826\n"
     ]
    },
    {
     "ename": "AttributeError",
     "evalue": "'numpy.ndarray' object has no attribute 'columns'",
     "output_type": "error",
     "traceback": [
      "\u001b[1;31m---------------------------------------------------------------------------\u001b[0m",
      "\u001b[1;31mAttributeError\u001b[0m                            Traceback (most recent call last)",
      "\u001b[1;32m~\\AppData\\Local\\Temp/ipykernel_6848/94449134.py\u001b[0m in \u001b[0;36m<module>\u001b[1;34m\u001b[0m\n\u001b[0;32m      9\u001b[0m     \u001b[0mX_data_scaled\u001b[0m \u001b[1;33m=\u001b[0m \u001b[0mget_scaled_data\u001b[0m\u001b[1;33m(\u001b[0m\u001b[0mscale_method\u001b[0m\u001b[1;33m[\u001b[0m\u001b[1;36m0\u001b[0m\u001b[1;33m]\u001b[0m\u001b[1;33m,\u001b[0m\u001b[0mscale_method\u001b[0m\u001b[1;33m[\u001b[0m\u001b[1;36m1\u001b[0m\u001b[1;33m]\u001b[0m\u001b[1;33m,\u001b[0m\u001b[0mX\u001b[0m\u001b[1;33m)\u001b[0m\u001b[1;33m\u001b[0m\u001b[1;33m\u001b[0m\u001b[0m\n\u001b[0;32m     10\u001b[0m     \u001b[0mprint\u001b[0m\u001b[1;33m(\u001b[0m\u001b[1;34mf'\\n##변환유형:{scale_method[0]}, Polynomial Degree:{scale_method[1]}'\u001b[0m\u001b[1;33m)\u001b[0m\u001b[1;33m\u001b[0m\u001b[1;33m\u001b[0m\u001b[0m\n\u001b[1;32m---> 11\u001b[1;33m     \u001b[0mget_linear_reg_eval\u001b[0m\u001b[1;33m(\u001b[0m\u001b[1;34m'Ridge'\u001b[0m\u001b[1;33m,\u001b[0m\u001b[0malphas\u001b[0m\u001b[1;33m,\u001b[0m\u001b[0mX_data_scaled\u001b[0m\u001b[1;33m,\u001b[0m\u001b[0my\u001b[0m\u001b[1;33m)\u001b[0m\u001b[1;33m\u001b[0m\u001b[1;33m\u001b[0m\u001b[0m\n\u001b[0m",
      "\u001b[1;32m~\\AppData\\Local\\Temp/ipykernel_6848/3635827834.py\u001b[0m in \u001b[0;36mget_linear_reg_eval\u001b[1;34m(model_name, params, X, y, verbose)\u001b[0m\n\u001b[0;32m     32\u001b[0m         \u001b[0mprint\u001b[0m\u001b[1;33m(\u001b[0m\u001b[1;34mf'alpha : {param} 일때 5폴드 세트의 평균 rmse: {avg_rmse:.3f}'\u001b[0m\u001b[1;33m)\u001b[0m\u001b[1;33m\u001b[0m\u001b[1;33m\u001b[0m\u001b[0m\n\u001b[0;32m     33\u001b[0m         \u001b[0mmodel\u001b[0m\u001b[1;33m.\u001b[0m\u001b[0mfit\u001b[0m\u001b[1;33m(\u001b[0m\u001b[0mX\u001b[0m\u001b[1;33m,\u001b[0m\u001b[0my\u001b[0m\u001b[1;33m)\u001b[0m\u001b[1;33m\u001b[0m\u001b[1;33m\u001b[0m\u001b[0m\n\u001b[1;32m---> 34\u001b[1;33m         \u001b[0mcoeff\u001b[0m \u001b[1;33m=\u001b[0m \u001b[0mpd\u001b[0m\u001b[1;33m.\u001b[0m\u001b[0mSeries\u001b[0m\u001b[1;33m(\u001b[0m\u001b[0mdata\u001b[0m\u001b[1;33m=\u001b[0m\u001b[0mmodel\u001b[0m\u001b[1;33m.\u001b[0m\u001b[0mcoef_\u001b[0m\u001b[1;33m,\u001b[0m\u001b[0mindex\u001b[0m\u001b[1;33m=\u001b[0m\u001b[0mX\u001b[0m\u001b[1;33m.\u001b[0m\u001b[0mcolumns\u001b[0m\u001b[1;33m)\u001b[0m\u001b[1;33m\u001b[0m\u001b[1;33m\u001b[0m\u001b[0m\n\u001b[0m\u001b[0;32m     35\u001b[0m         \u001b[0mcolname\u001b[0m \u001b[1;33m=\u001b[0m \u001b[1;34m'alpha:'\u001b[0m\u001b[1;33m+\u001b[0m\u001b[0mstr\u001b[0m\u001b[1;33m(\u001b[0m\u001b[0mparam\u001b[0m\u001b[1;33m)\u001b[0m\u001b[1;33m\u001b[0m\u001b[1;33m\u001b[0m\u001b[0m\n\u001b[0;32m     36\u001b[0m         \u001b[0mcoeff_df\u001b[0m\u001b[1;33m[\u001b[0m\u001b[0mcolname\u001b[0m\u001b[1;33m]\u001b[0m\u001b[1;33m=\u001b[0m\u001b[0mcoeff\u001b[0m\u001b[1;33m\u001b[0m\u001b[1;33m\u001b[0m\u001b[0m\n",
      "\u001b[1;31mAttributeError\u001b[0m: 'numpy.ndarray' object has no attribute 'columns'"
     ]
    }
   ],
   "source": [
    "alphas = [0.1,1,10,100]\n",
    "scale_methods = [('None',None),\n",
    "                 ('Standard',None),\n",
    "                 ('Standard',2),\n",
    "                 ('MinMax',None),\n",
    "                 ('MinMax',2),\n",
    "                 ('Log',None)]\n",
    "for scale_method in scale_methods:\n",
    "    X_data_scaled = get_scaled_data(scale_method[0],scale_method[1],X)\n",
    "    print(f'\\n##변환유형:{scale_method[0]}, Polynomial Degree:{scale_method[1]}')\n",
    "    get_linear_reg_eval('Ridge',alphas,X_data_scaled,y)"
   ]
  },
  {
   "cell_type": "markdown",
   "id": "08aed5fa-ee75-4006-9c00-f065d15489a7",
   "metadata": {},
   "source": [
    "## 교재 5.3 Gradient Descent 참고"
   ]
  },
  {
   "cell_type": "raw",
   "id": "36c263cd-265b-49c5-b425-3e7c4a6d4464",
   "metadata": {},
   "source": [
    "교재로 돌림"
   ]
  },
  {
   "cell_type": "code",
   "execution_count": null,
   "id": "c67c44bb-8c82-43fa-bbe7-80a9e28231da",
   "metadata": {},
   "outputs": [],
   "source": []
  }
 ],
 "metadata": {
  "kernelspec": {
   "display_name": "Python 3 (ipykernel)",
   "language": "python",
   "name": "python3"
  },
  "language_info": {
   "codemirror_mode": {
    "name": "ipython",
    "version": 3
   },
   "file_extension": ".py",
   "mimetype": "text/x-python",
   "name": "python",
   "nbconvert_exporter": "python",
   "pygments_lexer": "ipython3",
   "version": "3.9.7"
  }
 },
 "nbformat": 4,
 "nbformat_minor": 5
}
