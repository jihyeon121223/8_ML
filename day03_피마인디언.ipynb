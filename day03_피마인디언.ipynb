{
 "cells": [
  {
   "cell_type": "markdown",
   "id": "ae0f32bf-08be-4461-b3b5-5c8c3b81c48b",
   "metadata": {},
   "source": [
    "### p174 피마 인디언 당뇨병 예측"
   ]
  },
  {
   "cell_type": "code",
   "execution_count": 13,
   "id": "1c960087-ba58-43b3-8485-067301073c3c",
   "metadata": {},
   "outputs": [],
   "source": [
    "import pandas as pd\n",
    "import numpy as np\n",
    "import matplotlib.pyplot as plt\n",
    "from sklearn.model_selection import train_test_split\n",
    "from sklearn.metrics import accuracy_score,precision_score,roc_auc_score,f1_score,confusion_matrix,precision_recall_curve,roc_curve,recall_score\n",
    "from sklearn.preprocessing import StandardScaler\n",
    "from sklearn.linear_model import LogisticRegression\n",
    "import warnings\n",
    "warnings.filterwarnings('ignore')"
   ]
  },
  {
   "cell_type": "code",
   "execution_count": 6,
   "id": "7294ddb8-e9d2-4a8d-907e-b9f7c88185d3",
   "metadata": {},
   "outputs": [],
   "source": [
    "diabetes = pd.read_csv('diabetes.csv')"
   ]
  },
  {
   "cell_type": "code",
   "execution_count": 7,
   "id": "1693c257-5aaa-4813-86ac-a74f22ce40b1",
   "metadata": {},
   "outputs": [
    {
     "data": {
      "text/plain": [
       "0    500\n",
       "1    268\n",
       "Name: Outcome, dtype: int64"
      ]
     },
     "execution_count": 7,
     "metadata": {},
     "output_type": "execute_result"
    }
   ],
   "source": [
    "diabetes.Outcome.value_counts()"
   ]
  },
  {
   "cell_type": "code",
   "execution_count": 8,
   "id": "790e4ade-020c-4c5b-b64a-e26e325f79c1",
   "metadata": {},
   "outputs": [
    {
     "name": "stdout",
     "output_type": "stream",
     "text": [
      "<class 'pandas.core.frame.DataFrame'>\n",
      "RangeIndex: 768 entries, 0 to 767\n",
      "Data columns (total 9 columns):\n",
      " #   Column                    Non-Null Count  Dtype  \n",
      "---  ------                    --------------  -----  \n",
      " 0   Pregnancies               768 non-null    int64  \n",
      " 1   Glucose                   768 non-null    int64  \n",
      " 2   BloodPressure             768 non-null    int64  \n",
      " 3   SkinThickness             768 non-null    int64  \n",
      " 4   Insulin                   768 non-null    int64  \n",
      " 5   BMI                       768 non-null    float64\n",
      " 6   DiabetesPedigreeFunction  768 non-null    float64\n",
      " 7   Age                       768 non-null    int64  \n",
      " 8   Outcome                   768 non-null    int64  \n",
      "dtypes: float64(2), int64(7)\n",
      "memory usage: 54.1 KB\n"
     ]
    }
   ],
   "source": [
    "diabetes.info()"
   ]
  },
  {
   "cell_type": "code",
   "execution_count": 45,
   "id": "649a9689-7b00-405d-9090-bec43767a019",
   "metadata": {},
   "outputs": [],
   "source": [
    "def get_clf_eval(y_test,pred,pred_proba):\n",
    "    confusion = confusion_matrix(y_test,pred)\n",
    "    accuracy = accuracy_score(y_test,pred)\n",
    "    precision = precision_score(y_test,pred)\n",
    "    recall = recall_score(y_test,pred)\n",
    "    f1 = f1_score(y_test,pred)\n",
    "    auc = roc_auc_score(y_test,pred_proba)\n",
    "    print('오차행렬')\n",
    "    print(confusion)\n",
    "    print(f'정확도:{accuracy:.4f},정밀도:{precision:.4f},재현율:{recall:.4f},F1:{f1:.4f},auc:{auc:.4f}')\n",
    "    \n",
    "def precision_recall_curve_plot(y_test,pred_proba):\n",
    "    precision,recall,thresholds = precision_recall_curve(y_test,pred_proba)\n",
    "    plt.figure(figsize=(8,6))\n",
    "    threshold_boundary = thresholds.shape[0]\n",
    "    plt.plot(thresholds,precision[0:threshold_boundary],linestyle='--',label='precision')\n",
    "    plt.plot(thresholds,recall[0:threshold_boundary],label='recall')\n",
    "    start,end = plt.xlim()\n",
    "    plt.xticks(np.round(np.arange(start,end,0.1),2))\n",
    "    plt.legend()\n",
    "    plt.grid()\n",
    "    plt.show()\n",
    "    \n",
    "def get_eval_by_threshold(y_test,pred_proba_c1,thresholds): #밑에 재현율 높이기 위해 추가\n",
    "    from sklearn.preprocessing import Binarizer\n",
    "    for custom_threshold in thresholds:\n",
    "        binarizer = Binarizer(threshold=custom_threshold).fit(pred_proba_c1)\n",
    "        custom_predict = binarizer.transform(pred_proba_c1)\n",
    "        print('임계값:',custom_threshold)\n",
    "        get_clf_eval(y_test,custom_predict,pred_proba_c1)\n",
    "        \n",
    "# get_eval_by_threshold(y_test,pred_proba[:,1].reshape(-1,1),thresholds)"
   ]
  },
  {
   "cell_type": "code",
   "execution_count": 28,
   "id": "842da200-0c8b-49f7-b2ca-53a86c97cb63",
   "metadata": {
    "tags": []
   },
   "outputs": [
    {
     "name": "stdout",
     "output_type": "stream",
     "text": [
      "오차행렬\n",
      "[[88 12]\n",
      " [23 31]]\n",
      "정확도:0.7727,정밀도:0.7209,재현율:0.5741,F1:0.6392,auc:0.7919\n"
     ]
    }
   ],
   "source": [
    "X = diabetes.iloc[:,:-1] #[행,열] #앞부터 뒤에서 첫번째 앞까지\n",
    "y = diabetes.iloc[:,-1] #뒤 첫번째꺼 하나만\n",
    "X_train,X_test,y_train,y_test = train_test_split(X,\n",
    "                                                y,\n",
    "                                                test_size=0.2,\n",
    "                                                random_state=156,\n",
    "                                                stratify=y)\n",
    "lr_clf = LogisticRegression()\n",
    "lr_clf.fit(X_train,y_train)\n",
    "pred = lr_clf.predict(X_test)\n",
    "pred_proba = lr_clf.predict_proba(X_test)[:,1]\n",
    "get_clf_eval(y_test,pred,pred_proba)"
   ]
  },
  {
   "cell_type": "code",
   "execution_count": 29,
   "id": "11308a6f-2d0b-4f15-bc28-7aeceb973d5d",
   "metadata": {
    "tags": []
   },
   "outputs": [
    {
     "data": {
      "image/png": "[encoded data removed]",
      "text/plain": [
       "<Figure size 576x432 with 1 Axes>"
      ]
     },
     "metadata": {
      "needs_background": "light"
     },
     "output_type": "display_data"
    }
   ],
   "source": [
    "precision_recall_curve_plot(y_test,pred_proba)"
   ]
  },
  {
   "cell_type": "code",
   "execution_count": 30,
   "id": "a3df4fdc-1343-4905-8d94-4762538067fa",
   "metadata": {},
   "outputs": [
    {
     "data": {
      "text/html": [
       "<div>\n",
       "<style scoped>\n",
       "    .dataframe tbody tr th:only-of-type {\n",
       "        vertical-align: middle;\n",
       "    }\n",
       "\n",
       "    .dataframe tbody tr th {\n",
       "        vertical-align: top;\n",
       "    }\n",
       "\n",
       "    .dataframe thead th {\n",
       "        text-align: right;\n",
       "    }\n",
       "</style>\n",
       "<table border=\"1\" class=\"dataframe\">\n",
       "  <thead>\n",
       "    <tr style=\"text-align: right;\">\n",
       "      <th></th>\n",
       "      <th>Pregnancies</th>\n",
       "      <th>Glucose</th>\n",
       "      <th>BloodPressure</th>\n",
       "      <th>SkinThickness</th>\n",
       "      <th>Insulin</th>\n",
       "      <th>BMI</th>\n",
       "      <th>DiabetesPedigreeFunction</th>\n",
       "      <th>Age</th>\n",
       "      <th>Outcome</th>\n",
       "    </tr>\n",
       "  </thead>\n",
       "  <tbody>\n",
       "    <tr>\n",
       "      <th>count</th>\n",
       "      <td>768.000000</td>\n",
       "      <td>768.000000</td>\n",
       "      <td>768.000000</td>\n",
       "      <td>768.000000</td>\n",
       "      <td>768.000000</td>\n",
       "      <td>768.000000</td>\n",
       "      <td>768.000000</td>\n",
       "      <td>768.000000</td>\n",
       "      <td>768.000000</td>\n",
       "    </tr>\n",
       "    <tr>\n",
       "      <th>mean</th>\n",
       "      <td>3.845052</td>\n",
       "      <td>120.894531</td>\n",
       "      <td>69.105469</td>\n",
       "      <td>20.536458</td>\n",
       "      <td>79.799479</td>\n",
       "      <td>31.992578</td>\n",
       "      <td>0.471876</td>\n",
       "      <td>33.240885</td>\n",
       "      <td>0.348958</td>\n",
       "    </tr>\n",
       "    <tr>\n",
       "      <th>std</th>\n",
       "      <td>3.369578</td>\n",
       "      <td>31.972618</td>\n",
       "      <td>19.355807</td>\n",
       "      <td>15.952218</td>\n",
       "      <td>115.244002</td>\n",
       "      <td>7.884160</td>\n",
       "      <td>0.331329</td>\n",
       "      <td>11.760232</td>\n",
       "      <td>0.476951</td>\n",
       "    </tr>\n",
       "    <tr>\n",
       "      <th>min</th>\n",
       "      <td>0.000000</td>\n",
       "      <td>0.000000</td>\n",
       "      <td>0.000000</td>\n",
       "      <td>0.000000</td>\n",
       "      <td>0.000000</td>\n",
       "      <td>0.000000</td>\n",
       "      <td>0.078000</td>\n",
       "      <td>21.000000</td>\n",
       "      <td>0.000000</td>\n",
       "    </tr>\n",
       "    <tr>\n",
       "      <th>25%</th>\n",
       "      <td>1.000000</td>\n",
       "      <td>99.000000</td>\n",
       "      <td>62.000000</td>\n",
       "      <td>0.000000</td>\n",
       "      <td>0.000000</td>\n",
       "      <td>27.300000</td>\n",
       "      <td>0.243750</td>\n",
       "      <td>24.000000</td>\n",
       "      <td>0.000000</td>\n",
       "    </tr>\n",
       "    <tr>\n",
       "      <th>50%</th>\n",
       "      <td>3.000000</td>\n",
       "      <td>117.000000</td>\n",
       "      <td>72.000000</td>\n",
       "      <td>23.000000</td>\n",
       "      <td>30.500000</td>\n",
       "      <td>32.000000</td>\n",
       "      <td>0.372500</td>\n",
       "      <td>29.000000</td>\n",
       "      <td>0.000000</td>\n",
       "    </tr>\n",
       "    <tr>\n",
       "      <th>75%</th>\n",
       "      <td>6.000000</td>\n",
       "      <td>140.250000</td>\n",
       "      <td>80.000000</td>\n",
       "      <td>32.000000</td>\n",
       "      <td>127.250000</td>\n",
       "      <td>36.600000</td>\n",
       "      <td>0.626250</td>\n",
       "      <td>41.000000</td>\n",
       "      <td>1.000000</td>\n",
       "    </tr>\n",
       "    <tr>\n",
       "      <th>max</th>\n",
       "      <td>17.000000</td>\n",
       "      <td>199.000000</td>\n",
       "      <td>122.000000</td>\n",
       "      <td>99.000000</td>\n",
       "      <td>846.000000</td>\n",
       "      <td>67.100000</td>\n",
       "      <td>2.420000</td>\n",
       "      <td>81.000000</td>\n",
       "      <td>1.000000</td>\n",
       "    </tr>\n",
       "  </tbody>\n",
       "</table>\n",
       "</div>"
      ],
      "text/plain": [
       "       Pregnancies     Glucose  BloodPressure  SkinThickness     Insulin  \\\n",
       "count   768.000000  768.000000     768.000000     768.000000  768.000000   \n",
       "mean      3.845052  120.894531      69.105469      20.536458   79.799479   \n",
       "std       3.369578   31.972618      19.355807      15.952218  115.244002   \n",
       "min       0.000000    0.000000       0.000000       0.000000    0.000000   \n",
       "25%       1.000000   99.000000      62.000000       0.000000    0.000000   \n",
       "50%       3.000000  117.000000      72.000000      23.000000   30.500000   \n",
       "75%       6.000000  140.250000      80.000000      32.000000  127.250000   \n",
       "max      17.000000  199.000000     122.000000      99.000000  846.000000   \n",
       "\n",
       "              BMI  DiabetesPedigreeFunction         Age     Outcome  \n",
       "count  768.000000                768.000000  768.000000  768.000000  \n",
       "mean    31.992578                  0.471876   33.240885    0.348958  \n",
       "std      7.884160                  0.331329   11.760232    0.476951  \n",
       "min      0.000000                  0.078000   21.000000    0.000000  \n",
       "25%     27.300000                  0.243750   24.000000    0.000000  \n",
       "50%     32.000000                  0.372500   29.000000    0.000000  \n",
       "75%     36.600000                  0.626250   41.000000    1.000000  \n",
       "max     67.100000                  2.420000   81.000000    1.000000  "
      ]
     },
     "execution_count": 30,
     "metadata": {},
     "output_type": "execute_result"
    }
   ],
   "source": [
    "diabetes.describe()"
   ]
  },
  {
   "cell_type": "code",
   "execution_count": 31,
   "id": "fc23eb9b-8390-45c5-835e-19a192696943",
   "metadata": {},
   "outputs": [
    {
     "data": {
      "text/plain": [
       "(array([  5.,   0.,   4.,  32., 156., 211., 163.,  95.,  56.,  46.]),\n",
       " array([  0. ,  19.9,  39.8,  59.7,  79.6,  99.5, 119.4, 139.3, 159.2,\n",
       "        179.1, 199. ]),\n",
       " <BarContainer object of 10 artists>)"
      ]
     },
     "execution_count": 31,
     "metadata": {},
     "output_type": "execute_result"
    },
    {
     "data": {
      "image/png": "[encoded data removed]",
      "text/plain": [
       "<Figure size 432x288 with 1 Axes>"
      ]
     },
     "metadata": {
      "needs_background": "light"
     },
     "output_type": "display_data"
    }
   ],
   "source": [
    "plt.hist(diabetes.Glucose)"
   ]
  },
  {
   "cell_type": "code",
   "execution_count": 39,
   "id": "9d0d00cf-72ee-4ce2-aba0-809eff650583",
   "metadata": {},
   "outputs": [],
   "source": [
    "zero_features = ['Glucose', 'BloodPressure', 'SkinThickness', 'Insulin', 'BMI']"
   ]
  },
  {
   "cell_type": "code",
   "execution_count": 40,
   "id": "af64d766-751a-45a0-b5d0-2a344313342f",
   "metadata": {},
   "outputs": [
    {
     "data": {
      "text/plain": [
       "Index(['Pregnancies', 'Glucose', 'BloodPressure', 'SkinThickness', 'Insulin',\n",
       "       'BMI', 'DiabetesPedigreeFunction', 'Age', 'Outcome'],\n",
       "      dtype='object')"
      ]
     },
     "execution_count": 40,
     "metadata": {},
     "output_type": "execute_result"
    }
   ],
   "source": [
    "diabetes.columns"
   ]
  },
  {
   "cell_type": "code",
   "execution_count": 42,
   "id": "e4334f7c-ed00-4ad2-9cef-46b11602dc2a",
   "metadata": {},
   "outputs": [
    {
     "name": "stdout",
     "output_type": "stream",
     "text": [
      "Glucose 0 건수는 5, 퍼센트:0.65%\n",
      "BloodPressure 0 건수는 35, 퍼센트:4.56%\n",
      "SkinThickness 0 건수는 227, 퍼센트:29.56%\n",
      "Insulin 0 건수는 374, 퍼센트:48.70%\n",
      "BMI 0 건수는 11, 퍼센트:1.43%\n"
     ]
    }
   ],
   "source": [
    "total_count = diabetes.Glucose.count()\n",
    "for feature in zero_features:\n",
    "    zero_count = diabetes[diabetes[feature]==0][feature].count()\n",
    "    print(f'{feature} 0 건수는 {zero_count}, 퍼센트:{zero_count/total_count*100:.2f}%') #소수이하 둘째자리까지"
   ]
  },
  {
   "cell_type": "code",
   "execution_count": 43,
   "id": "af0062c4-f71f-4eaa-9d47-f584d123e1e9",
   "metadata": {},
   "outputs": [],
   "source": [
    "mean_zero_features = diabetes[zero_features].mean()\n",
    "diabetes[zero_features] = diabetes[zero_features].replace(0,mean_zero_features)"
   ]
  },
  {
   "cell_type": "code",
   "execution_count": 44,
   "id": "e853e40b-aba1-4934-acf9-8e4011d5fb51",
   "metadata": {},
   "outputs": [
    {
     "name": "stdout",
     "output_type": "stream",
     "text": [
      "오차행렬\n",
      "[[90 10]\n",
      " [21 33]]\n",
      "정확도:0.7987,정밀도:0.7674,재현율:0.6111,F1:0.6804,auc:0.8433\n"
     ]
    }
   ],
   "source": [
    "X = diabetes.iloc[:,:-1] \n",
    "y = diabetes.iloc[:,-1] \n",
    "scaler = StandardScaler() #평균0, 분산1 인 형태로 조정\n",
    "X_scaled = scaler.fit_transform(X)\n",
    "X_train,X_test,y_train,y_test = train_test_split(X_scaled,\n",
    "                                                y,\n",
    "                                                test_size=0.2,\n",
    "                                                random_state=156,\n",
    "                                                stratify=y)\n",
    "lr_clf = LogisticRegression()\n",
    "lr_clf.fit(X_train,y_train)\n",
    "pred = lr_clf.predict(X_test)\n",
    "pred_proba = lr_clf.predict_proba(X_test)[:,1]\n",
    "get_clf_eval(y_test,pred,pred_proba)\n",
    "\n",
    "#데이터 이상치에 대한 처리를 해서 성능이 훨씬 좋아짐"
   ]
  },
  {
   "cell_type": "raw",
   "id": "1b12cab8-bf42-46e0-9c02-2e1aaac39d62",
   "metadata": {},
   "source": [
    "#앞쪽 수치.와 비교\n",
    "오차행렬\n",
    "[[88 12]\n",
    " [23 31]]\n",
    "정확도:0.7727,정밀도:0.7209,재현율:0.5741,F1:0.6392,auc:0.7919"
   ]
  },
  {
   "cell_type": "code",
   "execution_count": 46,
   "id": "92f91359-a8f2-4cfb-98ca-18902a075e3e",
   "metadata": {},
   "outputs": [
    {
     "name": "stdout",
     "output_type": "stream",
     "text": [
      "임계값: 0.3\n",
      "오차행렬\n",
      "[[67 33]\n",
      " [11 43]]\n",
      "정확도:0.7143,정밀도:0.5658,재현율:0.7963,F1:0.6615,auc:0.8433\n",
      "임계값: 0.33\n",
      "오차행렬\n",
      "[[72 28]\n",
      " [12 42]]\n",
      "정확도:0.7403,정밀도:0.6000,재현율:0.7778,F1:0.6774,auc:0.8433\n",
      "임계값: 0.36\n",
      "오차행렬\n",
      "[[76 24]\n",
      " [15 39]]\n",
      "정확도:0.7468,정밀도:0.6190,재현율:0.7222,F1:0.6667,auc:0.8433\n",
      "임계값: 0.39\n",
      "오차행렬\n",
      "[[78 22]\n",
      " [16 38]]\n",
      "정확도:0.7532,정밀도:0.6333,재현율:0.7037,F1:0.6667,auc:0.8433\n",
      "임계값: 0.42\n",
      "오차행렬\n",
      "[[84 16]\n",
      " [18 36]]\n",
      "정확도:0.7792,정밀도:0.6923,재현율:0.6667,F1:0.6792,auc:0.8433\n",
      "임계값: 0.48\n",
      "오차행렬\n",
      "[[88 12]\n",
      " [19 35]]\n",
      "정확도:0.7987,정밀도:0.7447,재현율:0.6481,F1:0.6931,auc:0.8433\n",
      "임계값: 0.5\n",
      "오차행렬\n",
      "[[90 10]\n",
      " [21 33]]\n",
      "정확도:0.7987,정밀도:0.7674,재현율:0.6111,F1:0.6804,auc:0.8433\n"
     ]
    }
   ],
   "source": [
    "#재현율 높이기\n",
    "thresholds = [0.3,0.33,0.36,0.39,0.42,0.48,0.5]\n",
    "get_eval_by_threshold(y_test,pred_proba.reshape(-1,1),thresholds)\n",
    "\n",
    "#임계값 0.48일 때 F1값이 가장 높다.(좋음)"
   ]
  },
  {
   "cell_type": "code",
   "execution_count": 48,
   "id": "8c0bc349-f80d-4363-a6c4-20d5930ede2d",
   "metadata": {},
   "outputs": [
    {
     "name": "stdout",
     "output_type": "stream",
     "text": [
      "오차행렬\n",
      "[[88 12]\n",
      " [19 35]]\n",
      "정확도:0.7987,정밀도:0.7447,재현율:0.6481,F1:0.6931,auc:0.8433\n"
     ]
    }
   ],
   "source": [
    "#임계값 0.48일 때 가장 좋으니 넣어서 다시\n",
    "from sklearn.preprocessing import Binarizer\n",
    "binarizer = Binarizer(threshold=0.48)\n",
    "pred_th_048 = binarizer.fit_transform(pred_proba.reshape(-1,1))\n",
    "get_clf_eval(y_test,pred_th_048,pred_proba)"
   ]
  },
  {
   "cell_type": "code",
   "execution_count": null,
   "id": "8bc28a66-11be-4ad8-9be5-07156df6c484",
   "metadata": {},
   "outputs": [],
   "source": []
  }
 ],
 "metadata": {
  "kernelspec": {
   "display_name": "Python 3 (ipykernel)",
   "language": "python",
   "name": "python3"
  },
  "language_info": {
   "codemirror_mode": {
    "name": "ipython",
    "version": 3
   },
   "file_extension": ".py",
   "mimetype": "text/x-python",
   "name": "python",
   "nbconvert_exporter": "python",
   "pygments_lexer": "ipython3",
   "version": "3.9.7"
  }
 },
 "nbformat": 4,
 "nbformat_minor": 5
}
