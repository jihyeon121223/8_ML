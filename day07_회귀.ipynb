{
 "cells": [
  {
   "cell_type": "markdown",
   "id": "3fc2415b-7313-4a40-9d12-ffad99a1dc4c",
   "metadata": {},
   "source": [
    "## p.290 회귀=연속(앞까지 분류=이산)"
   ]
  },
  {
   "cell_type": "raw",
   "id": "2395b7a5-18d7-48f4-b1b1-7b2d0ad97c3b",
   "metadata": {},
   "source": [
    "#회귀: 정규분포를 띔 \n",
    "가중치 w = 회귀계수, 학습을 통해 최적의 회귀 계수 찾아내는것이 머신러닝 회귀예측의 핵심\n",
    "피쳐x = 독립변수\n",
    "y = 독립변수\n",
    "x가 y값에 w만큼 영향을 미친다. "
   ]
  },
  {
   "cell_type": "code",
   "execution_count": 21,
   "id": "7ddc8c75-9677-427e-aa1a-37b4d52625c5",
   "metadata": {},
   "outputs": [],
   "source": [
    "import numpy as np\n",
    "import matplotlib.pyplot as plt"
   ]
  },
  {
   "cell_type": "code",
   "execution_count": 23,
   "id": "ffff5198-65ca-4397-bb1d-058bb288ec58",
   "metadata": {
    "tags": []
   },
   "outputs": [
    {
     "data": {
      "text/plain": [
       "<matplotlib.collections.PathCollection at 0x2091855a5e0>"
      ]
     },
     "execution_count": 23,
     "metadata": {},
     "output_type": "execute_result"
    },
    {
     "data": {
      "image/png": "[encoded data removed]",
      "text/plain": [
       "<Figure size 432x288 with 1 Axes>"
      ]
     },
     "metadata": {
      "needs_background": "light"
     },
     "output_type": "display_data"
    }
   ],
   "source": [
    "np.random.seed(0)\n",
    "X = 2*np.random.rand(100,1)\n",
    "y = 6 + 4*X + np.random.randn(100,1)\n",
    "plt.scatter(X,y)"
   ]
  },
  {
   "cell_type": "code",
   "execution_count": 24,
   "id": "11e6acc4-2c5f-4df7-b266-3553c164c5c3",
   "metadata": {},
   "outputs": [],
   "source": [
    "def get_cost(y,y_pred):\n",
    "    N = len(y)\n",
    "    cost = np.sum(np.square(y-y_pred))/N\n",
    "    return cost"
   ]
  },
  {
   "cell_type": "code",
   "execution_count": 25,
   "id": "5f6bd5d5-e80c-402d-b097-6926d556fd77",
   "metadata": {},
   "outputs": [],
   "source": [
    "def get_weight_updates(w1,w0,X,y,learning_rate=0.01):\n",
    "    N=len(y)\n",
    "    w1_update = np.zeros_like(w1)\n",
    "    w0_update = np.zeros_like(w0)\n",
    "    y_pred = np.dot(X,w1.T)+w0\n",
    "    diff = y-y_pred\n",
    "    w0_fectors = np.ones((N,1))\n",
    "    w1_update = -(2/N)*learning_rate*(np.dot(X.T,diff))\n",
    "    w0_update = -(2/N)*learning_rate*(np.dot(w0_fectors.T,diff))\n",
    "    return w1_update,w0_update"
   ]
  },
  {
   "cell_type": "code",
   "execution_count": 26,
   "id": "1583ed8f-2a4a-45db-a328-6bb41a615b4e",
   "metadata": {},
   "outputs": [],
   "source": [
    "#경사하강법\n",
    "def gradient_descent_steps(X,y,iters=10000):\n",
    "    w0 = np.zeros((1,1))\n",
    "    w1 = np.zeros((1,1))\n",
    "    for ind in range(iters):\n",
    "        w1_update,w0_update = get_weight_updates(w1,w0,X,y,learning_rate=0.01)\n",
    "        w1 = w1 - w1_update\n",
    "        w0 = w0 - w0_update\n",
    "    return w1,w0"
   ]
  },
  {
   "cell_type": "code",
   "execution_count": 27,
   "id": "ce78f67e-7be0-418c-b767-9314f7fedad5",
   "metadata": {
    "tags": []
   },
   "outputs": [],
   "source": [
    "w1,w0 = gradient_descent_steps(X,y,iters=10000)"
   ]
  },
  {
   "cell_type": "code",
   "execution_count": 28,
   "id": "b3bd9a02-74ed-4197-9d0a-be920093fb61",
   "metadata": {
    "tags": []
   },
   "outputs": [
    {
     "data": {
      "text/plain": [
       "(array([[3.96846751]]), array([[6.22215108]]))"
      ]
     },
     "execution_count": 28,
     "metadata": {},
     "output_type": "execute_result"
    }
   ],
   "source": [
    "w1,w0"
   ]
  },
  {
   "cell_type": "code",
   "execution_count": 29,
   "id": "c53594d5-827f-4b97-835f-6a7ad925ecd1",
   "metadata": {},
   "outputs": [],
   "source": [
    "# y=4X+6"
   ]
  },
  {
   "cell_type": "code",
   "execution_count": 30,
   "id": "c591dce2-4570-4a8a-91f9-6c7a6393bab4",
   "metadata": {},
   "outputs": [
    {
     "data": {
      "text/plain": [
       "[<matplotlib.lines.Line2D at 0x2091873d2b0>]"
      ]
     },
     "execution_count": 30,
     "metadata": {},
     "output_type": "execute_result"
    },
    {
     "data": {
      "image/png": "[encoded data removed]",
      "text/plain": [
       "<Figure size 432x288 with 1 Axes>"
      ]
     },
     "metadata": {
      "needs_background": "light"
     },
     "output_type": "display_data"
    }
   ],
   "source": [
    "y_pred = w1[0,0]*X + w0\n",
    "plt.scatter(X,y)\n",
    "plt.plot(X,y_pred)"
   ]
  },
  {
   "cell_type": "code",
   "execution_count": 17,
   "id": "bd93ff38-8811-4eaf-b1c9-73eeccdbe581",
   "metadata": {},
   "outputs": [],
   "source": [
    "def stochastic_gradient_descent_steps(X,y,batch_size=10,iters=1000):\n",
    "    w0 = np.zeros((1,1))\n",
    "    w1 = np.zeros((1,1))\n",
    "    prev_cost = 100000\n",
    "    iter_index = 0\n",
    "    \n",
    "    for ind in range(iters):\n",
    "        np.random.seed(ind)\n",
    "        stochastic_random_index = np.random.permutation(X.shape[0]) #원래 배열의 셔플 된 복사본을 반환 \n",
    "        sample_X = X[stochastic_random_index[0:batch_size]]\n",
    "        sample_y = y[stochastic_random_index[0:batch_size]]\n",
    "        w1_update,w0_update = get_weight_update(w1,w0,sample_X,sample_y,learning_rate=0.01)\n",
    "        w1 = w1 - w1_update\n",
    "        w0 = w0 - w0_update\n",
    "    return w1,w0"
   ]
  },
  {
   "cell_type": "code",
   "execution_count": 18,
   "id": "e0c04256-cf2a-4ba8-8f08-9988d171d973",
   "metadata": {},
   "outputs": [],
   "source": [
    "w1,w0 = stochastic_gradient_descent_steps(X,y,iters=1000)"
   ]
  },
  {
   "cell_type": "code",
   "execution_count": 19,
   "id": "d7196ef1-5ec6-4ecd-97e7-73658757faea",
   "metadata": {},
   "outputs": [
    {
     "data": {
      "text/plain": [
       "(array([[4.07225726]]), array([[6.0643819]]))"
      ]
     },
     "execution_count": 19,
     "metadata": {},
     "output_type": "execute_result"
    }
   ],
   "source": [
    "w1,w0"
   ]
  },
  {
   "cell_type": "code",
   "execution_count": null,
   "id": "a00ecfd4-f415-4c0f-b1f0-a7911f12eb3c",
   "metadata": {},
   "outputs": [],
   "source": []
  }
 ],
 "metadata": {
  "kernelspec": {
   "display_name": "Python 3 (ipykernel)",
   "language": "python",
   "name": "python3"
  },
  "language_info": {
   "codemirror_mode": {
    "name": "ipython",
    "version": 3
   },
   "file_extension": ".py",
   "mimetype": "text/x-python",
   "name": "python",
   "nbconvert_exporter": "python",
   "pygments_lexer": "ipython3",
   "version": "3.9.7"
  }
 },
 "nbformat": 4,
 "nbformat_minor": 5
}
